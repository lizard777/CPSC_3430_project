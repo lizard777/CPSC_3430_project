{
 "cells": [
  {
   "cell_type": "code",
   "execution_count": 41,
   "id": "05502ea3",
   "metadata": {},
   "outputs": [],
   "source": [
    "#Import the neccassary libraries. \n",
    "import pandas as pd\n",
    "import numpy as np\n",
    "import seaborn as sns\n",
    "import matplotlib.pyplot as plt"
   ]
  },
  {
<<<<<<< HEAD
   "attachments": {},
   "cell_type": "markdown",
   "id": "c336895a",
   "metadata": {},
   "source": [
    "Checklist: \n",
    "- Temperature vs abundance pollinators over time period -- > figure out what outliers we have in our data\n",
    "- Difference in garden (shade)\n",
    "- Pollinator counts and time ( average ) --> figure out what outliers are in our data .\n"
   ]
  },
  {
   "cell_type": "code",
<<<<<<< HEAD
   "execution_count": 4,
=======
   "execution_count": 3,
>>>>>>> d475215b9d07698deabd245d0e6cfd8667094ebb
=======
   "cell_type": "code",
   "execution_count": 42,
>>>>>>> parent of d475215 (checklist)
   "id": "a266aba4",
   "metadata": {},
   "outputs": [],
   "source": [
    "#Import the excel file.\n",
    "pol_data = pd.ExcelFile('Project Pollinator Count Data Collection Sheet 2022.xlsx')"
   ]
  },
  {
   "cell_type": "code",
<<<<<<< HEAD
<<<<<<< HEAD
   "execution_count": 5,
=======
   "execution_count": 4,
>>>>>>> d475215b9d07698deabd245d0e6cfd8667094ebb
=======
   "execution_count": 43,
>>>>>>> parent of d475215 (checklist)
   "id": "3eea0d56",
   "metadata": {},
   "outputs": [],
   "source": [
    "#Select the sheet of interest and create a dataframe based off the sheet. \n",
    "df_pol_sh1 = pd.read_excel(pol_data, 'Summer 2022 Pollinator Data Col')"
   ]
  },
  {
   "cell_type": "code",
<<<<<<< HEAD
<<<<<<< HEAD
   "execution_count": 6,
=======
   "execution_count": 5,
>>>>>>> d475215b9d07698deabd245d0e6cfd8667094ebb
=======
   "execution_count": 44,
>>>>>>> parent of d475215 (checklist)
   "id": "3c748d17",
   "metadata": {},
   "outputs": [
    {
     "data": {
      "text/html": [
       "<div>\n",
       "<style scoped>\n",
       "    .dataframe tbody tr th:only-of-type {\n",
       "        vertical-align: middle;\n",
       "    }\n",
       "\n",
       "    .dataframe tbody tr th {\n",
       "        vertical-align: top;\n",
       "    }\n",
       "\n",
       "    .dataframe thead th {\n",
       "        text-align: right;\n",
       "    }\n",
       "</style>\n",
       "<table border=\"1\" class=\"dataframe\">\n",
       "  <thead>\n",
       "    <tr style=\"text-align: right;\">\n",
       "      <th></th>\n",
       "      <th>sample_date</th>\n",
       "      <th>collector_name</th>\n",
       "      <th>location</th>\n",
       "      <th>location_number</th>\n",
       "      <th>time_code (M,A,E)</th>\n",
       "      <th>sample_start</th>\n",
       "      <th>sample_end</th>\n",
       "      <th>weather</th>\n",
       "      <th>wind (km/hr)</th>\n",
       "      <th>air_temp(C°)</th>\n",
       "      <th>...</th>\n",
       "      <th>plant_genus</th>\n",
       "      <th>plant_species</th>\n",
       "      <th>plant_color</th>\n",
       "      <th>plant_pattern</th>\n",
       "      <th>Photo reference #</th>\n",
       "      <th>Notes (additional observations)</th>\n",
       "      <th>Unnamed: 26</th>\n",
       "      <th>name_primary</th>\n",
       "      <th>name_secondary</th>\n",
       "      <th>final</th>\n",
       "    </tr>\n",
       "  </thead>\n",
       "  <tbody>\n",
       "    <tr>\n",
       "      <th>0</th>\n",
       "      <td>2022-07-08</td>\n",
       "      <td>Keegan, Parsa</td>\n",
       "      <td>Library</td>\n",
       "      <td>L4</td>\n",
       "      <td>E</td>\n",
       "      <td>14:02:00</td>\n",
       "      <td>14:26:00</td>\n",
       "      <td>cloudy</td>\n",
       "      <td>13</td>\n",
       "      <td>21</td>\n",
       "      <td>...</td>\n",
       "      <td>silene</td>\n",
       "      <td>coronaria</td>\n",
       "      <td>pink</td>\n",
       "      <td>solid</td>\n",
       "      <td>NaN</td>\n",
       "      <td>NaN</td>\n",
       "      <td>NaN</td>\n",
       "      <td>Liz</td>\n",
       "      <td>NaN</td>\n",
       "      <td>Liz</td>\n",
       "    </tr>\n",
       "    <tr>\n",
       "      <th>1</th>\n",
       "      <td>2022-06-29</td>\n",
       "      <td>Jen,Aldona</td>\n",
       "      <td>Student_Union</td>\n",
       "      <td>S2</td>\n",
       "      <td>M</td>\n",
       "      <td>10:47:00</td>\n",
       "      <td>11:12:00</td>\n",
       "      <td>cloudy</td>\n",
       "      <td>12</td>\n",
       "      <td>17</td>\n",
       "      <td>...</td>\n",
       "      <td>verbena</td>\n",
       "      <td>rigida</td>\n",
       "      <td>purple</td>\n",
       "      <td>solid</td>\n",
       "      <td>NaN</td>\n",
       "      <td>NaN</td>\n",
       "      <td>NaN</td>\n",
       "      <td>Liz</td>\n",
       "      <td>NaN</td>\n",
       "      <td>NaN</td>\n",
       "    </tr>\n",
       "    <tr>\n",
       "      <th>2</th>\n",
       "      <td>2022-06-29</td>\n",
       "      <td>Jen,Aldona</td>\n",
       "      <td>Student_Union</td>\n",
       "      <td>S2</td>\n",
       "      <td>M</td>\n",
       "      <td>10:47:00</td>\n",
       "      <td>11:12:00</td>\n",
       "      <td>cloudy</td>\n",
       "      <td>12</td>\n",
       "      <td>17</td>\n",
       "      <td>...</td>\n",
       "      <td>myosotis</td>\n",
       "      <td>syleatica</td>\n",
       "      <td>blue</td>\n",
       "      <td>striped</td>\n",
       "      <td>NaN</td>\n",
       "      <td>NaN</td>\n",
       "      <td>NaN</td>\n",
       "      <td>Liz</td>\n",
       "      <td>NaN</td>\n",
       "      <td>NaN</td>\n",
       "    </tr>\n",
       "    <tr>\n",
       "      <th>3</th>\n",
       "      <td>2022-06-29</td>\n",
       "      <td>Jen,Aldona</td>\n",
       "      <td>Student_Union</td>\n",
       "      <td>S2</td>\n",
       "      <td>M</td>\n",
       "      <td>10:47:00</td>\n",
       "      <td>11:12:00</td>\n",
       "      <td>cloudy</td>\n",
       "      <td>12</td>\n",
       "      <td>17</td>\n",
       "      <td>...</td>\n",
       "      <td>delphinium</td>\n",
       "      <td>spp</td>\n",
       "      <td>purple</td>\n",
       "      <td>solid</td>\n",
       "      <td>NaN</td>\n",
       "      <td>NaN</td>\n",
       "      <td>NaN</td>\n",
       "      <td>Liz</td>\n",
       "      <td>NaN</td>\n",
       "      <td>NaN</td>\n",
       "    </tr>\n",
       "    <tr>\n",
       "      <th>4</th>\n",
       "      <td>2022-06-29</td>\n",
       "      <td>Jen,Aldona</td>\n",
       "      <td>Student_Union</td>\n",
       "      <td>S2</td>\n",
       "      <td>M</td>\n",
       "      <td>10:47:00</td>\n",
       "      <td>11:12:00</td>\n",
       "      <td>cloudy</td>\n",
       "      <td>12</td>\n",
       "      <td>17</td>\n",
       "      <td>...</td>\n",
       "      <td>verbena</td>\n",
       "      <td>rigida</td>\n",
       "      <td>purple</td>\n",
       "      <td>solid</td>\n",
       "      <td>NaN</td>\n",
       "      <td>NaN</td>\n",
       "      <td>NaN</td>\n",
       "      <td>Liz</td>\n",
       "      <td>NaN</td>\n",
       "      <td>NaN</td>\n",
       "    </tr>\n",
       "    <tr>\n",
       "      <th>...</th>\n",
       "      <td>...</td>\n",
       "      <td>...</td>\n",
       "      <td>...</td>\n",
       "      <td>...</td>\n",
       "      <td>...</td>\n",
       "      <td>...</td>\n",
       "      <td>...</td>\n",
       "      <td>...</td>\n",
       "      <td>...</td>\n",
       "      <td>...</td>\n",
       "      <td>...</td>\n",
       "      <td>...</td>\n",
       "      <td>...</td>\n",
       "      <td>...</td>\n",
       "      <td>...</td>\n",
       "      <td>...</td>\n",
       "      <td>...</td>\n",
       "      <td>...</td>\n",
       "      <td>...</td>\n",
       "      <td>...</td>\n",
       "      <td>...</td>\n",
       "    </tr>\n",
       "    <tr>\n",
       "      <th>1929</th>\n",
       "      <td>2022-06-07</td>\n",
       "      <td>Liz,Dave</td>\n",
       "      <td>Student_Union</td>\n",
       "      <td>S1</td>\n",
       "      <td>E</td>\n",
       "      <td>16:41:00</td>\n",
       "      <td>17:06:00</td>\n",
       "      <td>overcast</td>\n",
       "      <td>5</td>\n",
       "      <td>18</td>\n",
       "      <td>...</td>\n",
       "      <td>raphanus</td>\n",
       "      <td>raphanistrum</td>\n",
       "      <td>white</td>\n",
       "      <td>striped</td>\n",
       "      <td>NaN</td>\n",
       "      <td>NaN</td>\n",
       "      <td>NaN</td>\n",
       "      <td>Liz</td>\n",
       "      <td>NaN</td>\n",
       "      <td>NaN</td>\n",
       "    </tr>\n",
       "    <tr>\n",
       "      <th>1930</th>\n",
       "      <td>2022-06-07</td>\n",
       "      <td>Liz,Dave</td>\n",
       "      <td>Student_Union</td>\n",
       "      <td>S1</td>\n",
       "      <td>E</td>\n",
       "      <td>16:41:00</td>\n",
       "      <td>17:06:00</td>\n",
       "      <td>overcast</td>\n",
       "      <td>5</td>\n",
       "      <td>18</td>\n",
       "      <td>...</td>\n",
       "      <td>raphanus</td>\n",
       "      <td>raphanistrum</td>\n",
       "      <td>white</td>\n",
       "      <td>striped</td>\n",
       "      <td>NaN</td>\n",
       "      <td>hornet</td>\n",
       "      <td>NaN</td>\n",
       "      <td>Liz</td>\n",
       "      <td>NaN</td>\n",
       "      <td>NaN</td>\n",
       "    </tr>\n",
       "    <tr>\n",
       "      <th>1931</th>\n",
       "      <td>2022-06-01</td>\n",
       "      <td>David,Jen,Aldona</td>\n",
       "      <td>Library</td>\n",
       "      <td>L1</td>\n",
       "      <td>M</td>\n",
       "      <td>11:53:00</td>\n",
       "      <td>12:17:00</td>\n",
       "      <td>overcast</td>\n",
       "      <td>6</td>\n",
       "      <td>19</td>\n",
       "      <td>...</td>\n",
       "      <td>lamium</td>\n",
       "      <td>maculatum</td>\n",
       "      <td>pink</td>\n",
       "      <td>solid</td>\n",
       "      <td>NaN</td>\n",
       "      <td>slender wasp</td>\n",
       "      <td>NaN</td>\n",
       "      <td>David</td>\n",
       "      <td>Liz</td>\n",
       "      <td>Keegan</td>\n",
       "    </tr>\n",
       "    <tr>\n",
       "      <th>1932</th>\n",
       "      <td>2022-06-01</td>\n",
       "      <td>David,Jen,Aldona</td>\n",
       "      <td>Library</td>\n",
       "      <td>L1</td>\n",
       "      <td>M</td>\n",
       "      <td>11:53:00</td>\n",
       "      <td>12:17:00</td>\n",
       "      <td>overcast</td>\n",
       "      <td>6</td>\n",
       "      <td>19</td>\n",
       "      <td>...</td>\n",
       "      <td>lamium</td>\n",
       "      <td>maculatum</td>\n",
       "      <td>pink</td>\n",
       "      <td>solid</td>\n",
       "      <td>NaN</td>\n",
       "      <td>paper wasp</td>\n",
       "      <td>NaN</td>\n",
       "      <td>David</td>\n",
       "      <td>Liz</td>\n",
       "      <td>Keegan</td>\n",
       "    </tr>\n",
       "    <tr>\n",
       "      <th>1933</th>\n",
       "      <td>2022-06-01</td>\n",
       "      <td>David,Parsa</td>\n",
       "      <td>Library</td>\n",
       "      <td>L1</td>\n",
       "      <td>A</td>\n",
       "      <td>13:35:00</td>\n",
       "      <td>14:00:00</td>\n",
       "      <td>overcast</td>\n",
       "      <td>8</td>\n",
       "      <td>20</td>\n",
       "      <td>...</td>\n",
       "      <td>lamium</td>\n",
       "      <td>maculatum</td>\n",
       "      <td>pink</td>\n",
       "      <td>solid</td>\n",
       "      <td>NaN</td>\n",
       "      <td>NaN</td>\n",
       "      <td>NaN</td>\n",
       "      <td>David</td>\n",
       "      <td>Liz</td>\n",
       "      <td>Keegan</td>\n",
       "    </tr>\n",
       "  </tbody>\n",
       "</table>\n",
       "<p>1934 rows × 30 columns</p>\n",
       "</div>"
      ],
      "text/plain": [
       "     sample_date    collector_name       location location_number  \\\n",
       "0     2022-07-08     Keegan, Parsa        Library              L4   \n",
       "1     2022-06-29        Jen,Aldona  Student_Union              S2   \n",
       "2     2022-06-29        Jen,Aldona  Student_Union              S2   \n",
       "3     2022-06-29        Jen,Aldona  Student_Union              S2   \n",
       "4     2022-06-29        Jen,Aldona  Student_Union              S2   \n",
       "...          ...               ...            ...             ...   \n",
       "1929  2022-06-07          Liz,Dave  Student_Union              S1   \n",
       "1930  2022-06-07          Liz,Dave  Student_Union              S1   \n",
       "1931  2022-06-01  David,Jen,Aldona        Library              L1   \n",
       "1932  2022-06-01  David,Jen,Aldona        Library              L1   \n",
       "1933  2022-06-01       David,Parsa        Library              L1   \n",
       "\n",
       "     time_code (M,A,E) sample_start sample_end   weather  wind (km/hr)  \\\n",
       "0                    E     14:02:00   14:26:00    cloudy            13   \n",
       "1                    M     10:47:00   11:12:00    cloudy            12   \n",
       "2                    M     10:47:00   11:12:00    cloudy            12   \n",
       "3                    M     10:47:00   11:12:00    cloudy            12   \n",
       "4                    M     10:47:00   11:12:00    cloudy            12   \n",
       "...                ...          ...        ...       ...           ...   \n",
       "1929                 E     16:41:00   17:06:00  overcast             5   \n",
       "1930                 E     16:41:00   17:06:00  overcast             5   \n",
       "1931                 M     11:53:00   12:17:00  overcast             6   \n",
       "1932                 M     11:53:00   12:17:00  overcast             6   \n",
       "1933                 A     13:35:00   14:00:00  overcast             8   \n",
       "\n",
       "      air_temp(C°)  ... plant_genus plant_species plant_color plant_pattern  \\\n",
       "0               21  ...      silene     coronaria        pink         solid   \n",
       "1               17  ...     verbena        rigida      purple         solid   \n",
       "2               17  ...    myosotis     syleatica        blue       striped   \n",
       "3               17  ...  delphinium           spp      purple         solid   \n",
       "4               17  ...     verbena        rigida      purple         solid   \n",
       "...            ...  ...         ...           ...         ...           ...   \n",
       "1929            18  ...    raphanus  raphanistrum       white       striped   \n",
       "1930            18  ...    raphanus  raphanistrum       white       striped   \n",
       "1931            19  ...      lamium     maculatum        pink         solid   \n",
       "1932            19  ...      lamium     maculatum        pink         solid   \n",
       "1933            20  ...      lamium     maculatum        pink         solid   \n",
       "\n",
       "     Photo reference # Notes (additional observations) Unnamed: 26  \\\n",
       "0                  NaN                             NaN         NaN   \n",
       "1                  NaN                             NaN         NaN   \n",
       "2                  NaN                             NaN         NaN   \n",
       "3                  NaN                             NaN         NaN   \n",
       "4                  NaN                             NaN         NaN   \n",
       "...                ...                             ...         ...   \n",
       "1929               NaN                             NaN         NaN   \n",
       "1930               NaN                          hornet         NaN   \n",
       "1931               NaN                    slender wasp         NaN   \n",
       "1932               NaN                      paper wasp         NaN   \n",
       "1933               NaN                             NaN         NaN   \n",
       "\n",
       "     name_primary name_secondary   final  \n",
       "0             Liz            NaN     Liz  \n",
       "1             Liz            NaN     NaN  \n",
       "2             Liz            NaN     NaN  \n",
       "3             Liz            NaN     NaN  \n",
       "4             Liz            NaN     NaN  \n",
       "...           ...            ...     ...  \n",
       "1929          Liz            NaN     NaN  \n",
       "1930          Liz            NaN     NaN  \n",
       "1931        David            Liz  Keegan  \n",
       "1932        David            Liz  Keegan  \n",
       "1933        David            Liz  Keegan  \n",
       "\n",
       "[1934 rows x 30 columns]"
      ]
     },
<<<<<<< HEAD
<<<<<<< HEAD
     "execution_count": 6,
=======
     "execution_count": 5,
>>>>>>> d475215b9d07698deabd245d0e6cfd8667094ebb
=======
     "execution_count": 44,
>>>>>>> parent of d475215 (checklist)
     "metadata": {},
     "output_type": "execute_result"
    }
   ],
   "source": [
    "df_pol_sh1"
   ]
  },
  {
   "cell_type": "code",
   "execution_count": 45,
   "id": "8d842ff8",
   "metadata": {},
   "outputs": [
    {
     "name": "stdout",
     "output_type": "stream",
     "text": [
      "sample_date\n",
      "collector_name\n",
      "location\n",
      "location_number\n",
      "time_code (M,A,E)\n",
      "sample_start\n",
      "sample_end\n",
      "weather\n",
      "wind (km/hr)\n",
      "air_temp(C°)\n",
      "shade_coverage\n",
      "observation_id\n",
      "pollinator\n",
      "insect_order\n",
      "insect_family\n",
      "insect_genus\n",
      "insect_species\n",
      "plant_host\n",
      "plant_order\n",
      "plant_family\n",
      "plant_genus\n",
      "plant_species\n",
      "plant_color\n",
      "plant_pattern\n",
      "Photo reference #\n",
      "Notes (additional observations)\n",
      "Unnamed: 26\n",
      "name_primary\n",
      "name_secondary\n",
      "final\n"
     ]
    }
   ],
   "source": [
    "#Print a list of column names. \n",
    "column_names = df_pol_sh1.columns\n",
    "for name in column_names: \n",
    "    print(name)"
   ]
  },
  {
   "cell_type": "code",
   "execution_count": 46,
   "id": "2d79ee82",
   "metadata": {},
   "outputs": [],
   "source": [
    "#Make a function that makes a dict of column names and their associated index from an inputed dataframe. \n",
    "def Dict_of_column_NameIndex(dataframe):\n",
    "    \n",
    "    column_names = []\n",
    "    column_index = []\n",
    "\n",
    "    for name in dataframe.columns: \n",
    "        column_names.append(name)\n",
    "    \n",
    "    for name in dataframe.columns:\n",
    "        column_index.append(dataframe.columns.get_loc(name)) \n",
    "    \n",
    "    dict_column_index = dict(zip(column_names, column_index))\n",
    "\n",
    "    return dict_column_index"
   ]
  },
  {
   "cell_type": "code",
   "execution_count": 47,
   "id": "6d248793",
   "metadata": {},
   "outputs": [
    {
     "name": "stdout",
     "output_type": "stream",
     "text": [
      "                        sample_date   0\n",
      "                     collector_name   1\n",
      "                           location   2\n",
      "                    location_number   3\n",
      "                  time_code (M,A,E)   4\n",
      "                       sample_start   5\n",
      "                         sample_end   6\n",
      "                            weather   7\n",
      "                       wind (km/hr)   8\n",
      "                       air_temp(C°)   9\n",
      "                     shade_coverage  10\n",
      "                     observation_id  11\n",
      "                         pollinator  12\n",
      "                       insect_order  13\n",
      "                      insect_family  14\n",
      "                       insect_genus  15\n",
      "                     insect_species  16\n",
      "                         plant_host  17\n",
      "                        plant_order  18\n",
      "                       plant_family  19\n",
      "                        plant_genus  20\n",
      "                      plant_species  21\n",
      "                        plant_color  22\n",
      "                      plant_pattern  23\n",
      "                  Photo reference #  24\n",
      "    Notes (additional observations)  25\n",
      "                        Unnamed: 26  26\n",
      "                       name_primary  27\n",
      "                     name_secondary  28\n",
      "                              final  29\n"
     ]
    }
   ],
   "source": [
    "#Run the function to create a dict. \n",
    "dict_column_index = Dict_of_column_NameIndex(df_pol_sh1)\n",
    "\n",
    "#Print the dict in an alligned format. \n",
    "for key, value in dict_column_index.items():\n",
    "    print('{: >35} {: >3}'.format(key, value))"
   ]
  },
  {
   "cell_type": "code",
   "execution_count": 48,
   "id": "43356a63",
   "metadata": {},
   "outputs": [
    {
     "data": {
      "text/plain": [
       "location_number    33\n",
       "dtype: int64"
      ]
     },
     "execution_count": 48,
     "metadata": {},
     "output_type": "execute_result"
    }
   ],
   "source": [
    "#Count how many unique locations numbers. \n",
    "df_pol_sh1.iloc[:, [3]].nunique()\n"
   ]
  },
  {
   "cell_type": "code",
   "execution_count": 49,
   "id": "cebd92b1",
   "metadata": {},
   "outputs": [
    {
     "data": {
      "text/plain": [
       "location_number\n",
       "C5                 223\n",
       "C7                 170\n",
       "S9                 121\n",
       "S1                 114\n",
       "C4                 108\n",
       "C8                  99\n",
       "S5                  87\n",
       "L7                  83\n",
       "S2                  82\n",
       "S3                  79\n",
       "S8                  78\n",
       "L2                  78\n",
       "S4                  73\n",
       "C6                  67\n",
       "L3                  57\n",
       "S10                 56\n",
       "L8                  55\n",
       "C1                  49\n",
       "L6                  39\n",
       "S7                  28\n",
       "C3                  25\n",
       "S6                  25\n",
       "L0                  22\n",
       "L10                 20\n",
       "C2                  19\n",
       "L1                  16\n",
       "S0                  14\n",
       "L4                  12\n",
       "C10                  8\n",
       "C0                   8\n",
       "L9                   7\n",
       "L5                   7\n",
       "C9                   5\n",
       "dtype: int64"
      ]
     },
     "execution_count": 49,
     "metadata": {},
     "output_type": "execute_result"
    }
   ],
   "source": [
    "#Get the counts for each unique location nunber. \n",
    "df_pol_sh1.iloc[:, [3]].value_counts().squeeze()"
   ]
  },
  {
   "cell_type": "code",
   "execution_count": 50,
   "id": "06177118",
   "metadata": {},
   "outputs": [
    {
     "data": {
      "text/plain": [
       "[<matplotlib.lines.Line2D at 0x1d2d05a92b0>]"
      ]
     },
     "execution_count": 50,
     "metadata": {},
     "output_type": "execute_result"
    },
    {
     "data": {
      "image/png": "iVBORw0KGgoAAAANSUhEUgAAAigAAAGdCAYAAAA44ojeAAAAOXRFWHRTb2Z0d2FyZQBNYXRwbG90bGliIHZlcnNpb24zLjUuMiwgaHR0cHM6Ly9tYXRwbG90bGliLm9yZy8qNh9FAAAACXBIWXMAAA9hAAAPYQGoP6dpAABDuElEQVR4nO3deXwTdf4/8NckTdI7bemRlpZLWq5SjqJIUQ6Rowro4goKi6isiyuiFV1ddt1dvu73Cyu/VdxdVverggiKgO6C+BVBEEGRQ0DuQ1opUGzTQluSnmmbfH5/lMQeOdu0k7Sv5+ORBzaZybznMzPJy8lnPiMJIQSIiIiIfIhC7gKIiIiImmJAISIiIp/DgEJEREQ+hwGFiIiIfA4DChEREfkcBhQiIiLyOQwoRERE5HMYUIiIiMjnBMhdQEtYLBbk5+cjLCwMkiTJXQ4RERG5QQiBsrIyJCQkQKFwfo7ELwNKfn4+kpKS5C6DiIiIWiAvLw+JiYlOp/HLgBIWFgagfgXDw8NlroaIiIjcYTQakZSUZPsed8YvA4r1Z53w8HAGFCIiIj/jTvcMdpIlIiIin8OAQkRERD6HAYWIiIh8DgMKERER+RwGFCIiIvI5DChERETkcxhQiIiIyOcwoBAREZHPYUAhIiIin8OAQkRERD6HAYWIiIh8DgMKERER+Ry/vFlgW8m/XoV1By+j1mzBorv6yV0OERFRp8UzKA1UmOqw4sscvHfgEiwWIXc5REREnRYDSgM9okOgUkqoqDHjx+tVcpdDRETUaTGgNKBSKnBTTCgA4HxhmczVEBERdV4MKE2kxIUBAL5nQCEiIpINA0oTfXT1AeW8ngGFiIhILgwoTfS5cQblHAMKERGRbBhQmrCeQblwtQK1ZovM1RAREXVODChNdI0IQrBaiRqzBZeKK+Quh4iIqFNiQGlCoZCQbO0oqy+XuRoiIqLOiQHFjj5x9Zca80oeIiIieTCg2GG91JhX8hAREcmDAcWOvrpwABysjYiISC4MKHak6Op/4rlYXIHqWrPM1RAREXU+DCh2xIRqEBmsgkUAOUXsKEtERNTeGFDskCTppyHv2Q+FiIio3TGgOGAb8p79UIiIiNodA4oDvGkgERGRfBhQHOjLmwYSERHJhgHFAetosvmGahiqamWuhoiIqHNhQHFAG6RCvDYQAJDNn3mIiIjaFQOKE+yHQkREJA8GFCf6sB8KERGRLBhQnOAZFCIiInkwoDhhvZLne30ZhBAyV0NERNR5MKA40Ts2FJIElFbW4lp5jdzlEBERdRoMKE4EqpTo0SUEAIe8JyIiak8MKC6kxNXf2Zj9UIiIiNoPA4oLfeJ4JQ8REVF7Y0BxIUXHK3mIiIjaGwOKC9YrebILy2Cx8EoeIiKi9sCA4kL3LiFQKxWoqDHjx+tVcpdDRETUKTCguKBSKtArhlfyEBERtSePAsrSpUtx8803IywsDLGxsbj33nvx/fffN5pGCIHFixcjISEBQUFBGDNmDE6fPt1oGpPJhAULFiA6OhohISGYOnUqrly50vq1aSN92A+FiIioXXkUUPbs2YP58+fjwIED2LFjB+rq6jBhwgRUVFTYplm2bBleffVVrFixAocOHYJOp8P48eNRVvbTl3tWVhY2bdqE9evXY+/evSgvL8fkyZNhNpu9t2ZeZB3y/jwDChERUbuQRCvGcL969SpiY2OxZ88ejBo1CkIIJCQkICsrCy+88AKA+rMlcXFxePnllzFv3jwYDAbExMRg7dq1mDFjBgAgPz8fSUlJ2Lp1KyZOnOhyuUajEVqtFgaDAeHh4S0t3207zxTil2sOo68uDNuyRrX58oiIiDoiT76/W9UHxWAwAACioqIAALm5udDr9ZgwYYJtGo1Gg9GjR2Pfvn0AgCNHjqC2trbRNAkJCUhNTbVN05TJZILRaGz0aE/Wn3guXK1ArdnSrssmIiLqjFocUIQQWLhwIW677TakpqYCAPR6PQAgLi6u0bRxcXG21/R6PdRqNSIjIx1O09TSpUuh1Wptj6SkpJaW3SJdI4IQolaixmzBpeIK1zMQERFRq7Q4oDz55JM4ceIEPvjgg2avSZLU6G8hRLPnmnI2zaJFi2AwGGyPvLy8lpbdIgqFhOQb/VDO8UoeIiKiNteigLJgwQJs2bIFX375JRITE23P63Q6AGh2JqSoqMh2VkWn06GmpgalpaUOp2lKo9EgPDy80aO9cch7IiKi9uNRQBFC4Mknn8R//vMf7Nq1Cz179mz0es+ePaHT6bBjxw7bczU1NdizZw8yMjIAAOnp6VCpVI2mKSgowKlTp2zT+CIOeU9ERNR+AjyZeP78+Vi3bh0+/vhjhIWF2c6UaLVaBAUFQZIkZGVlYcmSJUhOTkZycjKWLFmC4OBgzJw50zbt3Llz8eyzz6JLly6IiorCc889h4EDB+LOO+/0/hp6ie0MSmG5zJUQERF1fB4FlDfeeAMAMGbMmEbPv/POO3j44YcBAM8//zyqqqrwxBNPoLS0FMOHD8fnn3+OsLAw2/TLly9HQEAApk+fjqqqKowbNw6rV6+GUqls3dq0oRRdKADgYnEFqmvNCFT5bq1ERET+rlXjoMilvcdBAep/3kr/750oqajB/y24Daldte2yXCIioo6i3cZB6UwkSUJKXP1ZFN6Th4iIqG0xoHjA2g+FHWWJiIjaFgOKB2xX8vAMChERUZtiQPFAH940kIiIqF0woHjAOppsgaEahqpamashIiLquBhQPKANUiFBGwgAyOZZFCIiojbDgOIhjihLRETU9hhQPGS7kocdZYmIiNoMA4qHUhhQiIiI2hwDiof66H66kscPB+ElIiLyCwwoHuodGwqFBJRW1uJquUnucoiIiDokBhQPBaqU6NElBABwXs87GxMREbUFBpQWSOGQ90RERG2KAaUFrJcan2dHWSIiojbBgNIC1kuNz/EMChERUZtgQGmBPrpQAPWjyVosvJKHiIjI2xhQWqB7lxColQpU1pjx4/UqucshIiLqcBhQWkClVKBXTP2VPBywjYiIyPsYUFqoL+/JQ0RE1GYYUFoopcGIskRERORdDCgtxJsGEhERtR0GlBayDtb2w9Vy1JotMldDRETUsTCgtFDXiCCEqJWoNQtcvFYhdzlEREQdCgNKCykUEpI55D0REVGbYEBphb4c8p6IiKhNMKC0Am8aSERE1DYYUFqhj+1S43KZKyEiIupYGFBawXoG5WJxBapqzDJXQ0RE1HEwoLRCdKgaUSFqCAHkFPEsChERkbcwoLSCJElIiau/szH7oRAREXkPA0or9dWFA+CQ90RERN7EgNJKKRzynoiIyOsYUFqpj67+Jx6eQSEiIvIeBpRWso4mW2CohqGyVuZqiIiIOgYGlFYKD1QhQRsIADhfxLMoRERE3sCA4gUpOvZDISIi8iYGFC/oE2cdUZYBhYiIyBsYULygD8+gEBEReRUDihc0vGmgEELmaoiIiPwfA4oX9I4NhUICrlfWoqjMJHc5REREfo8BxQsCVUrcFFM/HsqZfKPM1RAREfk/BhQv6Z9QP+T9mQIGFCIiotZiQPGS/vE3AgrPoBAREbUaA4qXWM+gnOUZFCIiolZjQPGSfjfOoOQWV6DCVCdzNURERP6NAcVLokM1iA3TQAjgHMdDISIiahUGFC9iR1kiIiLvYEDxInaUJSIi8g4GFC+y9kNhR1kiIqLWYUDxIutPPOf0RpgtHPKeiIiopRhQvKhHlxAEqZSorrUg91qF3OUQERH5LQYUL1IqJPSNr79xIDvKEhERtRwDipexHwoREVHrMaB4Ga/kISIiaj0GFC/jWChEREStx4DiZX11YZAk4GqZCVfLTHKXQ0RE5JcYULwsWB2AntEhANgPhYiIqKUYUNqAtaMsf+YhIiJqGQaUNsCOskRERK3DgNIG2FGWiIiodRhQ2sCAG2dQLlwtR3WtWeZqiIiI/A8DShuICdOgS4gaFgF8ry+TuxwiIiK/w4DSBiRJ4s88RERErcCA0kbYUZaIiKjlGFDaiPUMCsdCISIi8hwDShvp3+CmgRaLkLkaIiIi/+JxQPnqq68wZcoUJCQkQJIkbN68udHrDz/8MCRJavS49dZbG01jMpmwYMECREdHIyQkBFOnTsWVK1datSK+pmd0CNQBClTUmHG5pFLucoiIiPyKxwGloqICgwYNwooVKxxOM2nSJBQUFNgeW7dubfR6VlYWNm3ahPXr12Pv3r0oLy/H5MmTYTZ3nEtyA5QK9NWFAWBHWSIiIk8FeDpDZmYmMjMznU6j0Wig0+nsvmYwGLBy5UqsXbsWd955JwDgvffeQ1JSEnbu3ImJEyd6WpLP6h8fjhNXDDhbYMRdA+PlLoeIiMhvtEkflN27dyM2NhYpKSl47LHHUFRUZHvtyJEjqK2txYQJE2zPJSQkIDU1Ffv27bP7fiaTCUajsdHDH9guNeaVPERERB7xekDJzMzE+++/j127duGVV17BoUOHcMcdd8BkMgEA9Ho91Go1IiMjG80XFxcHvV5v9z2XLl0KrVZreyQlJXm77DbBmwYSERG1jMc/8bgyY8YM23+npqZi2LBh6N69Oz799FNMmzbN4XxCCEiSZPe1RYsWYeHChba/jUajX4QUax+UAkM1SipqEBWilrkiIiIi/9DmlxnHx8eje/fuyM7OBgDodDrU1NSgtLS00XRFRUWIi4uz+x4ajQbh4eGNHv4gLFCF7l2CAXA8FCIiIk+0eUApLi5GXl4e4uPrO4mmp6dDpVJhx44dtmkKCgpw6tQpZGRktHU57a7heChERETkHo9/4ikvL0dOTo7t79zcXBw7dgxRUVGIiorC4sWLcd999yE+Ph4XL17E7373O0RHR+NnP/sZAECr1WLu3Ll49tln0aVLF0RFReG5557DwIEDbVf1dCT94sPx2Sk9O8oSERF5wOOAcvjwYYwdO9b2t7VvyJw5c/DGG2/g5MmTWLNmDa5fv474+HiMHTsWGzZsQFhYmG2e5cuXIyAgANOnT0dVVRXGjRuH1atXQ6lUemGVfEt/dpQlIiLymCSE8Ltx2I1GI7RaLQwGg8/3R8m/XoWMv+xCgELC6ZcmQhPQ8UIYERGROzz5/ua9eNpYvDYQEcEq1FkEsgvL5S6HiIjILzCgtDFJkvgzDxERkYcYUNqBbcA2dpQlIiJyCwNKO+AZFCIiIs8woLQD6z15zhYY4Yd9komIiNodA0o7uCkmFGqlAmXVdbhSWiV3OURERD6PAaUdqAMU6B0bCoA/8xAREbmDAaWdWH/mYUdZIiIi1xhQ2gnvyUNEROQ+BpR2YjuDwoBCRETkEgNKO+mnqw8oV0qrYKiqlbkaIiIi38aA0k60wSp0jQgCwJ95iIiIXGFAaUcNx0MhIiIixxhQ2lF/DnlPRETkFgaUdsSOskRERO5hQGlH1jMo2YXlqDVbZK6GiIjIdzGgtKPEyCCEaQJQY7bgh6vlcpdDRETksxhQ2pEkSejHEWWJiIhcYkBpZ+woS0RE5BoDSjuzBRR2lCUiInKIAaWdNbySRwghczVERES+iQGlnfWODUWAQsL1ylrojdVyl0NEROSTGFDaWaBKid6xoQDYD4WIiMgRBhQZ9GNHWSIiIqcYUGTAjrJERETOMaDIgDcNJCIico4BRQbWn3guFlei3FQnczVERES+hwFFBlEhasRrAwEA53gWhYiIqBkGFJn0Yz8UIiIihxhQZGLtKMt+KERERM0xoMikP28aSERE5BADikysZ1DO6ctQZ7bIXA0REZFvYUCRSbeoYISolTDVWZB7rULucoiIiHwKA4pMFAoJfdlRloiIyC4GFBlxRFkiIiL7GFBkxI6yRERE9jGgyIiXGhMREdnHgCKjProwKBUSrpXXYOlnZ3k1DxER0Q0MKDIKVCnx1B3JAID/3XMBM98+iCJjtcxVERERyY8BRWZP35mMf84cilBNAL7NLcFdf9+L/T8Uy10WERGRrBhQfMDdafHY8uRI9NWF4Vq5CbPePoDXd+fAYhFyl0ZERCQLBhQf0SsmFJueGIlpQ7vCIoBl277HY2sOw1BZK3dpRERE7Y4BxYcEqZV45f5B+Mu0gVAHKPDFuSLc/Y+vceLKdblLIyIialcMKD5GkiQ8cEs3/OfXGegWFYwrpVX4+Rv78d6BSxCCP/kQEVHnwIDio1K7avHJgtswvn8caswWvLj5FJ7ZcAyVNXVyl0ZERNTmGFB8mDZIhTdnp+N3d/WFUiFh87F83LPiG+QUlcldGhERUZtiQPFxkiThV6NuwgeP3YrYMA2yi8oxdcU32HI8X+7SiIiI2gwDip+4pWcUPn3qdozo1QWVNWY89cFR/GHzKVTVmOUujYiIyOsYUPxITJgG7/1yOJ4c2xsAsPbAJWT+7SscvMCB3YiIqGNhQPEzSoWE5yb2wbuP3oJ4bSAuFldixpsH8MePT6HcxA60RETUMTCg+KnRKTHY/swoPHhLNwDAmv2XMHH5V/g6+6rMlREREbUeA4ofCw9UYem0gXj/l8ORGBmEH69XYfbKb/H8R8dhqOIItERE5L8YUDqAkb2jsT1rFB7O6AFJAjYevoIJy/dg55lCuUsjIiJqEQaUDiJEE4DFUwdg47wR6BUdgkKjCb9ccxhPrz+KkooaucsjIiLyCANKB3Nzjyhsffp2zBvdCwoJ+PhYPsa/ugefniiQuzQiIiK3MaB0QIEqJRZl9sOmJ0YiJS4UxRU1mL/uO/z6vSMoKquWuzwiIiKXGFA6sEFJEfhkwW14alwyAhQSPjulx/hXv8Kmo1d440EiIvJpDCgdnCZAiYXjU/DxkyMxICEchqpaPLPhOF7dcZ4hhYiIfBYDSicxIEGLzfNH4qlxyQCAf+zKwbLt3zOkEBGRT2JA6URUSgUWjk/BHyf3BwC8sfsHLP3sHEMKERH5HAaUTujR23ripXsGAADe/OoC/vx/ZxlSiIjIpzCgdFIPjeiB/743FQCw6ptcLN5ymiGFiIh8BgNKJ/aLW7vjL9MGQpKAd/dfwh8+PgWLhSGFiIjkx4DSyT1wSze8fF8aJAl478Bl/H7zSYYUIiKSHQMKYfqwJLxy/yAoJOCDb/Pwwr9PwMyQQkREMmJAIQDAtKGJWD5jMBQS8OGRK/jNR8cZUoiISDYeB5SvvvoKU6ZMQUJCAiRJwubNmxu9LoTA4sWLkZCQgKCgIIwZMwanT59uNI3JZMKCBQsQHR2NkJAQTJ06FVeuXGnVilDr3TO4K/72wBAoFRL+892PWLjxGOrMFrnLIiKiTsjjgFJRUYFBgwZhxYoVdl9ftmwZXn31VaxYsQKHDh2CTqfD+PHjUVZWZpsmKysLmzZtwvr167F3716Ul5dj8uTJMJvNLV8T8oopgxKw4sEhCFBI+PhYPrI2MKQQEVH7k0Qrri2VJAmbNm3CvffeC6D+7ElCQgKysrLwwgsvAKg/WxIXF4eXX34Z8+bNg8FgQExMDNauXYsZM2YAAPLz85GUlIStW7di4sSJLpdrNBqh1WphMBgQHh7e0vLJie2n9Xhy3XeoNQvcNVCHvz0wBColfxEkIqKW8+T726vfOLm5udDr9ZgwYYLtOY1Gg9GjR2Pfvn0AgCNHjqC2trbRNAkJCUhNTbVN05TJZILRaGz0oLY1cYAOb8xKh1qpwNaT9WGlpo5nUoiIqH14NaDo9XoAQFxcXKPn4+LibK/p9Xqo1WpERkY6nKappUuXQqvV2h5JSUneLJscuLN/HP53djrUAQpsP12IJ94/AlMdf4YjIqK21ybn7CVJavS3EKLZc005m2bRokUwGAy2R15entdqJefG9o3FWw8NgzpAgZ1ni/Df/3dW7pKIiKgT8GpA0el0ANDsTEhRUZHtrIpOp0NNTQ1KS0sdTtOURqNBeHh4owe1n9EpMXhj1lAAwNoDl7DleL7MFRERUUfn1YDSs2dP6HQ67Nixw/ZcTU0N9uzZg4yMDABAeno6VCpVo2kKCgpw6tQp2zTke8b1i8P8sTcBAH777xPIKSqXuSIiIurIAjydoby8HDk5Oba/c3NzcezYMURFRaFbt27IysrCkiVLkJycjOTkZCxZsgTBwcGYOXMmAECr1WLu3Ll49tln0aVLF0RFReG5557DwIEDceedd3pvzcjrnrkzBUculeLAhRI88f4RbJ4/EsFqj3chIiIilzz+djl8+DDGjh1r+3vhwoUAgDlz5mD16tV4/vnnUVVVhSeeeAKlpaUYPnw4Pv/8c4SFhdnmWb58OQICAjB9+nRUVVVh3LhxWL16NZRKpRdWidpKgFKBvz84BHf/fS/OF5bjxc2n8Mr9g1z2LyIiIvJUq8ZBkQvHQZHXgQvFmPnWAVgE8JdpA/HALd3kLomIiPyAbOOgUOdwa68ueG5iHwDAH7ecxul8g8wVERFRR8OAQi3y+KibMK5vLGrqLHji/e9grK6VuyQiIupAGFCoRRQKCa9MH4SuEUG4VFyJ5z88AT/8tZCIiHwUAwq1WESwGv+cNRQqpYRtp/VY9c1FuUsiIqIOggGFWmVwUgRevLs/AGDp1rM4cqnUxRxERESuMaBQqz00ojvuTotHnUXgyXXfoaSiRu6SiIjIzzGgUKtJkoSX70tDr+gQFBiqkbXhGCwW9kchIqKWY0AhrwjVBOD1XwxFoEqBr85fxT+/zHE9ExERkQMMKOQ1fXXh+PM9qQCA5TvPY1/ONZkrIiIif8WAQl51/7AkTB+WCIsAnlp/FIXGarlLIiIiP8SAQl730j2p6KsLw7XyGixYdxR1ZovcJRERkZ9hQCGvC1Qp8cYv0hGqCcC3F0vw/z7/Xu6SiIjIzzCgUJvoGR2CZT9PAwD8754LeHHzSfxwtVzmqoiIyF8woFCbuWtgPH41qhcA4L0DlzHulT145J1v8XX2VQ6LT0RETknCD78pPLldM8lLCIH9PxRj1Te5+OJcEax7W0pcKB4Z2RM/G9IVgSqlvEUSEVG78OT7mwGF2s3FaxVYve8iPjych4oaMwAgMliFmcO7YfatPaDTBspcIRERtSUGFPJpxupabDyUh9X7LuJKaRUAIEAh4e60eDw6sicGJUXIWyAREbUJBhTyC2aLwI4zhVj1TS6+zS2xPZ/ePRKPjuyJiQPiEKBkNykioo6CAYX8zqkfDVj1TS4+OZ6PWnP9LhmvDURqVy3itYHQaQPr/w0Psv3NvitERP6FAYX8VlFZNd47cBnvH7iEYhd3RY4MVkGn/SmwxIfX/5sQEYTBSREI0QS0U9VEROQOBhTye9W1Zuz/oRhXrldBb6hCgaEa+huPfEMVqmudj06rCVBgdEoM7hoYjzv6xSI8UNVOlRMRkSMMKNShCSFgrKpDgfGn4FL/b/3fF65W4MfrVbbp1UoFbk+ORubAeIzvFwdtMMMKEZEcGFCoUxNC4GxBGT47VYBPTxbgwtUK22sBCgkje0fjroE6jO+vQ1SIWsZKiYg6FwYUohuEEMguKsfWkwX47KQe3xeW2V5TKiSM6NUFmQN1mDhAh+hQjYyVEhF1fAwoRA7kFJVj26kCbD2px5kCo+15hQTc0jMKaYkR0IUHNrhyKAgxYRooFZKMVRMRdQwMKERuuHitAp+d0uOzUwU4ccXgcDqlQkJsmMbupc7Wf4PVLbtiKCJIBQXDDxF1EgwoRB7KK6nErnNFuFxSeaPTbRX0hmoUlplgtrTdIdItKhjPTeyDyQPjGVSIqMNjQCHyErNF4Fq5qdFVQj9dNVSNAmN9kLEOLtdSaYlaLMrshxE3dfFS5UREvocBhagdtfQQqqo1Y9XeXPxrzwWUm+oAAHf0jcVvM/siJS7MmyUSEfkEBhQiP3Kt3IR/fJGN9w9eRp1FQCEB96cn4ZnxKbzDMxF1KAwoRH4o91oF/t/2c9h6Ug8ACFQp8MvbemHe6F4I40i4RNQBMKAQ+bEjl0qxdOtZHL5UCgCIClHj6XHJePCWblAH8O7OROS/GFCI/JwQAjvOFOIv287ZRsLt0SUYz0/qi8xUHSSJV/wQkf9hQCHqIOrMFmw4nIflO7JxrdwEABicFIEX7+6HYT2iZK6OiMgzDChEHUyFqQ5vfnUBb319AZU1ZgDAQyO64/lJfRGqadkgcURE7c2T72/+oE3kB0I0AXhmfAp2/2YMZgxLAgCs2X8JE5d/ha+zr8pcHRGR9zGgEPmR2LBAvPzzNLz/y+FIjAzCj9erMHvlt3j+o+MwVNXKXR4RkdcwoBD5oZG9o7E9axQezugBSQI2Hr6CCcv3YOeZQrlLIyLyCgYUIj8VognA4qkDsHHeCPSKDkGh0YRfrjmMp9cfRUlFjdzlERG1CgMKkZ+7uUcUtj59O+aN7gWFBHx8LB/jX92DT08UyF0aEVGLMaAQdQCBKiUWZfbDpidGIiUuFMUVNZi/7jv8+r0jKCqrlrs8IiKPMaAQdSCDkiLwyYLb8NS4ZAQoJHx2So8Jy7/CpqNXWnxTQyIiOTCgEHUwmgAlFo5PwcdPjsSAhHBcr6zFMxuOY+67h1FgqJK7PCIitzCgEHVQAxK02Dx/JH4zsQ/USgV2nStC5t++xjm9Ue7SiIhcYkAh6sBUSgXmj+2NT5+6zXY2Zc6qb5FXUil3aURETjGgEHUCyXFheP+Xw5ESF4pCowkPrfrWdm8fIiJfxIBC1ElEBKux5tHh6BoRhNxrFXjknUMoN9XJXRYRkV0MKESdiE4biLVzb0FUiBonfzRg3trDMNWZ5S6LiKgZBhSiTqZXTChWP3IzQtRKfJNTjGc2HIPZwkuQici3MKAQdUJpiRF486FhUCsV2HpSjz9+fIrjpBCRT2FAIeqkRvaOxvIZgyFJwPsHL+O1ndlyl0REZMOAQtSJ3Z0Wj5fuSQUA/O2LbKzZf1HegoiIbmBAIerkZt/aHc/cmQIA+NOW0/jkeL7MFRERMaAQEYCnxvXGQyO6Qwhg4cZj+Dr7qtwlEVEnx4BCRJAkCYunDMDktHjUmgXmrT2C43nX5S6LiDoxBhQiAgAoFBJenT4YtydHo7LGjIff+RY5ReVyl0VEnRQDChHZqAMUeOMX6RiUqEXpjfv28A7IRCQHBhQiaiRUE4BVD9+MXjEh+PF6FR5a+S2uV9bIXRYRdTKS8MPRmYxGI7RaLQwGA8LDw+Uuh6hDulJaiZ+/sR96YzWSY0Mxsnc0dNpAxGsDoQsPRLw2CLHhGgSqlHKXSkR+wpPv74B2qomI/ExiZDDWzL0F9/9rP7KLypHtoD9KlxA14sJvBBdrgNEGNfo7WM2PGiLyDM+gEJFTP16vwhdnC6E3VENvqEaBoRp6YzUKDFWorrW49R7hgQGI1wY1CDDNg0x4oKqN14SI5ObJ9zcDChG1iBAChqra+sBiDS6GqgYBpv75clOdW+8XqgmwBZceXULwq1G9kBQV3MZrQUTtiQGFiHxGWXVtgwBjPQNT1ehvQ1Vts/mC1Uq8MKkvZt/aHQqFJEPlRORtDChE5Fcqa+psPyHlG6qx8XAevs0tAQDc0iMKL/88DT2jQ2SukohaiwGFiPyaxSLw3sFL+Mtn51BZY4YmQIHnJvTBo7f1hJJnU4j8liff3xwHhYh8jkIh4aERPbA9axRu6x0NU50F/7P1LKa9sQ/nC8vkLo+I2oHXA8rixYshSVKjh06ns70uhMDixYuRkJCAoKAgjBkzBqdPn/Z2GUTUASRFBWPt3Fvw8n0DEaYJwPG865j8971YsSsbtWb3riAiIv/UJmdQBgwYgIKCAtvj5MmTtteWLVuGV199FStWrMChQ4eg0+kwfvx4lJXx/4qIqDlJkjDj5m7YsXA0xvWNRY3Zgr9+fh73rPgGp/MNcpdHRG2kTQJKQEAAdDqd7RETEwOg/uzJa6+9ht///veYNm0aUlNT8e6776KyshLr1q1ri1KIqIPQaQPx9pxheG3GYEQEq3CmwIh7VnyDv27/HqY6s9zlEZGXtUlAyc7ORkJCAnr27IkHHngAFy5cAADk5uZCr9djwoQJtmk1Gg1Gjx6Nffv2OXw/k8kEo9HY6EFEnY8kSbh3SFfseGY07hqoQ51FYMWXOZj89704erlU7vKIyIu8HlCGDx+ONWvWYPv27Xjrrbeg1+uRkZGB4uJi6PV6AEBcXFyjeeLi4myv2bN06VJotVrbIykpydtlE5EfiQnT4PVZ6Xhj1lBEh6qRXVSO+97Yh//59Ayqa3k2hagjaPPLjCsqKnDTTTfh+eefx6233oqRI0ciPz8f8fHxtmkee+wx5OXlYdu2bXbfw2QywWQy2f42Go1ISkriZcZEhNKKGvz5/87gP0d/BADc2S8O//rFUAQoeZEika/xqcuMQ0JCMHDgQGRnZ9uu5ml6tqSoqKjZWZWGNBoNwsPDGz2IiAAgMkSNV2cMxpuz06EOUGDn2UL8btNJ+OEQT0TUQJsHFJPJhLNnzyI+Ph49e/aETqfDjh07bK/X1NRgz549yMjIaOtSiKgDmzBAhxUPDoFCAjYevoJl27+XuyQiagWvB5TnnnsOe/bsQW5uLg4ePIif//znMBqNmDNnDiRJQlZWFpYsWYJNmzbh1KlTePjhhxEcHIyZM2d6uxQi6mQmDNDhL9PSAABv7P4Bb399QeaKiKilArz9hleuXMGDDz6Ia9euISYmBrfeeisOHDiA7t27AwCef/55VFVV4YknnkBpaSmGDx+Ozz//HGFhYd4uhYg6oek3J6G4ogYvbzuH//70LKJC1Jg2NFHusojIQ7wXDxF1OEII/M+nZ/H23lwoFRLeeigdd/R13M+NiNqHT3WSJSJqb5Ik4Xd39cO0IV1htgg88f53OHKpRO6yiMgDDChE1CEpFBJe/nkaxvaJQXWtBY+8cwjf63lLDSJ/wYBCRB2WSqnA67PSkd49EsbqOjy06iCulFbKXRYRuYEBhYg6tCC1EivnDENKXCgKjSY8tPJbFJebXM9IRLJiQCGiDi8iWI01jw5H14ggXLhWgUdWH0K5qU7usojICQYUIuoUdNpArJl7C6JC1DhxxYB5aw/zLshEPowBhYg6jZtiQrH6kZsRolbim5xiLNxwHGaL3420QNQpMKAQUaeSlhiB/509DCqlhE9PFmDxltO8bw+RD2JAIaJO57bkaCyfMRiSBKw9cAl/+yJb7pKIqAkGFCLqlCanJeCle1IBAK/tzMa6g5dlroiIGmJAIaJOa/at3fH0uGQAwB8/PoV9P1yTuSIismJAIaJOLevOZNw7OAF1FoFfv/cdLl6rkLskIgIDChF1cpIk4S/3pWFwUgQMVbWY++4hGKpq5S6LqNNjQCGiTi9QpcSbD6UjXhuIH65WYMEHR1FntshdFlGnxoBCRAQgNiwQbz00DIEqBb46fxVLtp6TuySiTo0BhYjohtSuWiyfPhgAsOqbXKz/llf2EMmFAYWIqIHMgfFYOD4FAPDi5lM4cKFY5oqIOicGFCKiJhbc0RtTBlmv7DmCy8WVcpdE1OkwoBARNSFJEv7fz9OQlqhFaWX9lT1l1byyh6g9MaAQEdkRqFLirYeGIS5cg+yicjz1wVHeWJCoHTGgEBE5EBf+05U9X35/FX/57KzcJRF1GgwoREROpCVG4K/3DwIAvPV1LjYezpO5IqLOgQGFiMiFyWkJtnv2/H7TSXybWyJzRUQdHwMKEZEbnh6XjLsG6lBrFnj8vSPIK+GVPURtiQGFiMgNCoWEV+4fjNSu4SipqMEv3z2MclOd3GURdVgMKEREbgpS11/ZExumwfeFZchazyt7iNoKAwoRkQfitUF486Fh0AQosPNsEe795zd486sf+JMPkZdJQgi/i/9GoxFarRYGgwHh4eFyl0NEndAnx/OxcOMx1Jp/+ggd2FWLzIE63JUajx7RITJWR+SbPPn+ZkAhImqhImM1tp/WY+tJPQ7mFqPhrz394sNxV6oOmQPj0Ts2VL4iiXwIAwoRUTu7Vm7C56cL8dmpAuz7obhR35SUuFBkpsbjroHxSIkLhSRJMlZKJB8GFCIiGZVW1GDHmfqwsjfnWqOfgXrFhCAzVYekyOAWvXcfXRgGJ0Uw5JBfYkAhIvIRhqpafHG2EFtP6vHV+auoMVta/Z4J2kBMSo3HXQN1GNotEgoFwwr5BwYUIiIfVFZdi13nivDluaIWjaFSYxY4crEEFTVm23OxYRpk3ujrcnOPKCgZVsiHMaAQEXVQ1bVmfJ19DZ+dLMCOM4UoaxB0okPVmDhAh7sGxmN4zygEKDmSBPkWBhQiok7AVGfGvpxibD1ZgM/PFMJQVWt7LTJYhYkD6s+sZNzUBSqGFfIBDChERJ1MrdmC/T8U47NTBdh+uhAlFTW218IDA3B7cgyGdIvAkG6RGJAQjkCVUsZqqbNiQCEi6sTqzBZ8m1uCracKsO1UIa6Vmxq9rlJK6J+gxZCkCAzpFoGh3SKRGBnEK4OozTGgEBERAMBsEThyqRSHLpbg6OXrOJZXimvlNc2miw5VY3BS5I2zLBEYlBiBEE2ADBVTR8aAQkREdgkhcKW0Ct9dLsXRy9dxNO86zuQbGo3VAgAKCUiJC0O/+HDotIGI1wZCFx6IeG0QdNpAdAlR8/Jm8hgDChERua261ozT+UYcvVyKo3nXcezydfx4vcrpPCqlhLjwG8FFG9QgwARCpw1Er+hQaINV7bQG5C88+f7m+Tsiok4uUKVEevdIpHePtD1XaKzG0cvXcbG4AnpDNQoMVTf+rcbVchNqzfVnYq6UVgEobfaeSoWEEb26IHOgDhMH6BAdqmnHNaKOgGdQiIjII7VmC4rKTNAbqlBgqLYFF2uQKbjxt5VCAm7pGYW7BsZj4gAd4sIDZaye5MSfeIiISFaXiivw2Sk9PjtZgONXDLbnJQkY1j0SmanxmJSqQ0JEkIxVUntjQCEiIp+RV1KJ7af12HqyAN9dvt7otSHdInDXjbCSFNWyGyiS/2BAISIin1RgqMK2U3p8dlKPQ5dK0PAbaGBXLSb0j0N6j0ikJUYglJc5dzgMKERE5POKjNU3zqzocTC3GJYG30bWy5yHdIu8MZhcBHpFh/LSZj/HgEJERH7lWrkJ20/rsS+nGEcvlyK/QSdbq7DAAAxOirCFliFJEYgIVstQLbUUAwoREfk1vaEax/JuDCZ3+TpO/Hgd1bWWZtP1ignBkAYj4PaJC+NdnH0YAwoREXUotWYLvteX1Q8md2ME3NxrFc2mC1IpkZaobXSWJZaXNfsMBhQiIurwSitqcCzvOo5eLsV3l6/jeN51lJnqmk3XNSLIdifnId0iMCAhHJoA3s1ZDgwoRETU6VgsAj9cLb9xhqX+TMv3hWVo+i2nVirQPyEcQ7pFYFj3KIzrF4tAFQNLe2BAISIiAlBuqsOJvPqfhOr7s5SiuKLx3Zy7hKgxa3g3/OLW7vw5qI0xoBAREdnR9G7OO84U2m6MqFJKmJKWgEdv64nUrlqZK+2YGFCIiIjcUGe24PMzhVi1NxeHL/1008NbekTh0dt6YHx/HZQce8VrGFCIiIg8dDzvOt75Jhf/d6IAdTdGjUuMDMLDGT0w/eYkhAeqZK7Q/zGgEBERtVChsRpr91/C+wcvobSyFgAQolbi/mFJeDijB3pEh8hcof9iQCEiImql6lozNh/9Eau+ycX5wnIA9XdjHtc3FrNu7Y7YMI3H76mQJMSEaRAVrO6Uw/YzoBAREXmJEALf5BRj5d4L+PL7q155T7VSgTitBvHhQdBpAxGvDWzwbxDitYGIDtV0uP4vDChERERt4Ier5Vj9zUXsOleEOkvzofddMVsEiitqmo3NYo9SISEuTAOdNhBx4YFQB3g+hL8EoHuXkBuj6kZCGyxvPxoGFCIiIh9Va7bgapkJBYZq6A3VKDBU1f9rrP9bb6iG3lgNs8X7X89y37uIAYWIiMiPmS0CxeX1IabAUI1CY7XtyiJP1FnvYeTuvYu6RSA2rO0Gq2NAISIiokZKKmpw/Ma9i47mXcexy67vXfRIRg+vduZlQCEiIiKnXN27qFtUML56fqxXl+nJ93eAV5dMREREfkGhkJAcF4bkuDBMvzkJAFBWXYuTVww4mncd6nbsm2IPAwoREREBAMICVcjoHY2M3tFylwJ54xERERGRHbIGlNdffx09e/ZEYGAg0tPT8fXXX8tZDhEREfkI2QLKhg0bkJWVhd///vc4evQobr/9dmRmZuLy5ctylUREREQ+QrareIYPH46hQ4fijTfesD3Xr18/3HvvvVi6dKnTeXkVDxERkf/x5PtbljMoNTU1OHLkCCZMmNDo+QkTJmDfvn3NpjeZTDAajY0eRERE1HHJElCuXbsGs9mMuLi4Rs/HxcVBr9c3m37p0qXQarW2R1JSUnuVSkRERDKQtZOsJDUenU4I0ew5AFi0aBEMBoPtkZeX114lEhERkQxkGQclOjoaSqWy2dmSoqKiZmdVAECj0UCj0bRXeURERCQzWc6gqNVqpKenY8eOHY2e37FjBzIyMuQoiYiIiHyIbCPJLly4ELNnz8awYcMwYsQIvPnmm7h8+TIef/xxuUoiIiIiHyFbQJkxYwaKi4vx0ksvoaCgAKmpqdi6dSu6d+8uV0lERETkI3g3YyIiImoXPj8OChEREZEzfnk3Y+tJHw7YRkRE5D+s39vu/HjjlwGlrKwMADhgGxERkR8qKyuDVqt1Oo1f9kGxWCzIz89HWFiY3YHdWsNoNCIpKQl5eXke9W/hfN6dz59q5Xz+PZ8/1cr5/Hs+f6q1NevojBACZWVlSEhIgELhvJeJX55BUSgUSExMbNNlhIeHt2ijcD7vzifHMjlf55xPjmVyvs45nxzLlGMdHXF15sSKnWSJiIjI5zCgEBERkc9hQGlCo9HgT3/6k8f3/uF83p1PjmVyvs45nxzL5Hydcz45linHOnqLX3aSJSIioo6NZ1CIiIjI5zCgEBERkc9hQCEiIiKfw4BCREREPqfTBhS9Xo8FCxagV69e0Gg0SEpKwpQpU/DFF18AAMaMGQNJkho9HnjgAafzXbx4sdk81sfbb7+NefPmoVu3btBoNNDpdJg4cSL2798PAPjhhx/ws5/9DDExMQgPD8f06dNRWFiIoqIip/O9+eabGDNmDMLDwyFJEq5fv+72OloJIZCZmQlJkrB582aX8+n1esyePRs6nQ4hISEYOnQoPvroI5e1OmrThx9+GPfee2+zbeSsPT/88EOnyyspKcGCBQvQp08fBAcHo1u3bnjqqadgMBhc1jlv3jzcdNNNCAoKQkxMDO655x6cO3fO5XyO2sXR+jmrEYDL5Tnafu5u+/379+OOO+5ASEgIIiIioNPpMGXKFLvHS8M26dKlC3r06IGEhASP90mr0tJS3HTTTVCpVNBqtZg9e3azfddeWzZ83dn6OarB0bZw1CZjxoxBVVWV023RmuPe0TJzc3Odrp+jfdTZ+plMJixYsADR0dEICAiATqfDlStXmk3n7vabPXs2tFotwsLC0LdvX/To0aNZrY728ZkzZzqs09nyXR0TDdcxJCQEU6dOxZUrV1xud8D+cQS43tesy4yKioJKpUJISIhH+2TTdnV2XDj6ngCc79uOPnvdWT9ny2xrfjmSbGtdvHgRI0eOREREBJYtW4a0tDTU1tZi+/btmD9/Ps6dOwcAeOyxx/DSSy/Z5isqKkJ6errD+U6fPo2CgoJGy3rzzTexbNkyrFq1ChaLBe+++y569eqFwsJC2wFcUVGBCRMmYNCgQdi1axcA4A9/+AOmTJkCjUaD2tpau/MBQGVlJSZNmoRJkyZh0aJFHq8jALz22mu2Wwa4Wsdz585h9uzZMBgM2LJlC6Kjo7Fu3TrMmDEDaWlp0Gg0Dmu116ZBQUF4+umn7W6npKQkh+2ZmZmJzMxMh22Tn5+P/Px8/PWvf0X//v1x6dIlPP7448jPz0dhYaHTNk1PT8esWbPQrVs3lJSUYPHixZgwYQK6deuGuro6h/M5ape7777b7pDOzmr86KOPcN999zmt0972c3fb79+/37bP/OMf/4BarcZjjz3m8NYRDdvkZz/7GS5evAiVSoWzZ8/i2rVrbu2TDc2cORMlJSUYMWIEXn75ZfzqV7/C7Nmz8cknnzhty8OHDyMyMtLl+rlTQ1P22uT48eNQKBROt8Utt9zSouPe0TJ37NiB2267zen6OdpHx44d63D9srKy8Mknn2D9+vX4+9//jv3792Py5Mk4cuQIlEqlbTp3t9+VK1fwzjvvYN68ebh48SIGDBiAzz//vFGtH330kd19vKamBoMHD7b73s6W7+qYaLiOXbp0wbPPPovJkydj0KBBLrd/0+MIcO9YysrKwqZNm6BQKNCtWzcEBQXBbDZjw4YN2Llzp0f7pLPjwtn3xIEDB1yun73PXlfrd+TIEafLdDVUfauJTigzM1N07dpVlJeXN3uttLRUCCHE6NGjxdNPP+3xfE0NHjxYzJo1SwAQu3fvtjvN9u3bhUKhEAaDwfZcSUmJAOB0voa+/PJLAcBWh7u1Hjt2TCQmJoqCggIBQAwdOtTlfCEhIWLNmjWNXouIiHBZq702FUKIOXPmiHvuucflOgpR356PPvqoKC0tdbttrDZu3ChUKpXH8x0/ftytbWGvXaKiokRGRobb67dx40ahVqvF1atX3aqz6fbbtGmTW9t++PDh4sUXX2z0mjvbwdruK1euFABETk6Ow2mb7pNWZ86cEQDEXXfdZVve/v37BQBx7tw5IYTjtnz77bc9Og6b1uBsHe21ScN19mSfcee4d7TMlnzOWPfRadOm2V2/69evC5VKJdavXy+EqG+HiRMnCoVCIbZt22b3PV1tvwMHDthq3bVrV6Pt56zWjRs3CoVCIaZOnWr3dUfLd7Udmq6jEEL8+OOPQqFQiDvvvNPpvm3vOBLC9bawLnPw4MG26azLtLarq33SytVx4ex7YseOHU73bUefva7Wz9Uy21qn+4mnpKQE27Ztw/z58xESEtLs9YiICNt/v//++4iOjsaAAQMwf/58t+ezOnLkCI4dO4Zf/epXCA0NxebNm2EymZpNZzKZIElSowFxAgMDIUkS1Gq1w/lau46VlZV48MEHsWLFCuh0OgDA0aNHXc532223YcOGDSgpKYHFYsH69etRU1ODkJAQl7U2bNPnnnvOdmdqd1jbc+7cuQgNDXXapvYYDAaEh4d7NF9FRQXeeecd9OjRw+V89trFZDLZ2taTGiMiIlwuz972Kysrc7nti4qKcPDgQcTGxiIjIwNxcXEYPXq0W6dtre2+YsUK9OjRo0V3FN+/fz+0Wi1iYmJsz916663QarXYt28fAMdtOXjwYI+PQ3c4apO9e/d6vK+5e9zbW2ZGRobH62fdR3v27Gl3HmtNtbW1mDBhgu25wMBApKam2trcXdbtl5ycbKt17Nixjbafo1qB+n1cpVJ5fKNXV9vB3jomJCQgNTUVV69edfi+9o4jwL3PUesyjx8/bpvOukxrW7i7T7o6Lhx9TygUCuzdu9fl+zf97L106ZLL9WvtMlur0wWUnJwcCCHQt29fp9PNmjULH3zwAXbv3o0//OEP2LRpk1vzNbRy5Ur069cPo0aNwurVq/Huu+8iIiICI0eOxO9+9zucOHECQP1OGBISghdeeAGVlZWoqKjAb37zGwghMGrUKIfztXYdn3nmGWRkZOCee+6xPefOfBs2bEBdXR26dOkCjUaDefPmYfPmzXj33Xed1tq0Tf/9739j2rRprprRxtqeGRkZCAgIcNqmTRUXF+PPf/4zHn/8cbfme/31120fiNu2bcPOnTtdzmevXTZt2oSwsDC31s9a47x589xaP3vbr6CgwOU2vHDhAgBg8eLFeOyxx7Bt2zYMHToUn3/+OcrLyx3O9/rrryMiIgLl5eU4fvw4CgoKMHbsWLf2yYb0ej1iY2ObPR8bGwu9Xg/AcVuazWaPj0N3OGqTcePGITc316N9zd3j3t4yu3fvDiGEWzdna7qP7tixw+Epd71eD7VajcjIyEbPx8XF2drcXdbt1/RzpuH2c8S6j/fp08ejZQJweUw4W8eqqiqH72vvOALc+xzV6/UICAhoNl1r2rUpa7s6+p6wWCzNfmJsyt5n7/333+9y/VqzTG/odAFF3Bg411V6f+yxx3DnnXciNTUVDzzwAJYuXQrgpw8VV6qqqrBu3TrMnTsXQP1vp/n5+diyZQsmTpyI3bt3Y+jQoVi9ejViYmLw4Ycf4pNPPkFoaCi0Wi0MBgOGDh2K5ORkh/O1Zh23bNmCXbt24bXXXmv2mqu2efHFF1FaWoqdO3fi8OHDWLhwIe6//36kpKQ4rbVpm3700UfYuXMniouLnTcmmrcn4LxNGzIajbj77rvRv39//OlPf3JrvlmzZuHo0aPYs2cPkpOTMX36dNx9991O53PULqWlpS7Xr2mNrtbP2fYDnG9Di8UCoL6j5SOPPIIhQ4Zg+fLlCA8Px+XLlx3O17BNJk2ahKSkJIwbN86tfdKd+oQQtucdtWV2drbL9WsJR23Sp08frFq1yu19zZPj3t4ys7KyAMD2e78z9vZRs9ns0Xo3bHNPSJLU7HPG1Xs13Mfd6RNij7vboSHhZLB0Z8eRu98VVg2na0272qtDkiSn3xMN+xDZY++z99ChQw6XadWaZXpFm/+I5GOKi4uFJEliyZIlHs137do1AUA88MADbk2/Zs0aoVKpRFFRkcNp5s6dK7p169bouatXr9p+m4yLixPLli1za76Gv2u6s45PP/20kCRJKJVK2wM3+ln07NnT4Xw5OTkCgDh16lSj58eNGyfmzZvnVq1WFotFqFQqMWrUKJd9H9xpT3vLMxqNYsSIEWLcuHGiqqrK7fkaMplMIjg4WKxbt87hfM7aJSUlxen6uVtjw+U52n6SJAkATrf9hQsXBACxdu3aRs/36NFDJCYmOl2+VdM2cbVPNrRy5Uqh1Wqb/Wau1WrFqlWrnLblnDlzPDp+3e2D4qhNpk+fLmbOnGn3ve2tsyfHvb1lFhcXCwBi0KBBbq2flXV7ODqWvvjiCwFAlJSUCCF+aoe0tDTxxz/+0e57utp+TT9nrNvPnqb7uDv9nRwtvylrezZdR6u0tDQxaNAgu8tzdBwpFAqRkZHhcl+zLrPpdK1pV0fHRUP2vic86ctnsVhEQECAR8eSO99N3tbpzqBERUVh4sSJ+Oc//4mKiopmr9u79AuA7XTWF1984dZ8K1euxNSpUxv9nthU//79m71XdHQ0IiIisGvXLhQVFWHq1KluzdeQO+v429/+FidOnMCxY8dsDwDo168fqqqqHM5XWVkJAM1OJSuVStv/Ebpb6+nTp1FbW4vg4GCH62LlTns2XZ7RaMSECROgVquxZcsWBAYGujWfPUIIu797W+dz1i7Cyf/BeVJjw+U52n6vvfYaRo8e7XTbWy8R/v777xu9ZjAYEBQU5HT5DTVsE1ft19CIESNgMBhw7do123MHDx6EwWBARkaG07ZUq9UtOn5dcdQm58+fR/fu3e3OY2+dPTnu7S0zKioKYWFhuHDhgsfrJ4RweAYlPT0dKpUKO3bssD1XXV2NU6dOISMjw+F72mPdfjk5ObZtsXv3btv2a1qrp/u4p6ztaW8dCwoKcOrUKYfbw9FxtHz5crz33nsu9zXrMgcNGmSbzrpMa1u4u0+6Oi4acud7wpnTp0+jrq4ON998s9vHUmuX2SJtHoF80IULF4ROpxP9+/cXH330kTh//rw4c+aM+Nvf/ib69u0rcnJyxH/913+JQ4cOidzcXPHpp5+Kvn37iv79+zudzyo7O1tIkiQ+++wzIUT92ZexY8eKtWvXiuPHj4sLFy6IjRs3iri4OPHoo48KIYRYtWqV2L9/v8jJyRFr164VUVFR4te//rXL+QoKCsTRo0fFW2+9JQCIr776Shw9elR89913btXaEADxr3/9y+l8NTU1onfv3uL2228XBw8eFDk5OeKvf/2rACDS0tIc1uqoTYcMGSIeeughMWbMGHH06NFGj0uXLtltT3fa1Gg0iuHDh4uBAweKnJwcUVBQIAoKCsTp06fFmDFjHM73ww8/iCVLlojDhw+LS5cuiX379ol77rlHREREiJEjRzqcz1G7SJIkxo0bZ3f9Ll68aLfGgoICUVhY6HLb29t+mzZtcrl/CyHE8uXLRXh4uPjwww9Fdna2ePHFF4VCoRDDhw9vVueePXtsbXLs2DExdOhQMXToUBEeHi6+/fZbt/fJ4uJiW62TJk0SkZGRYujQoeLdd9+1tZ21XRy15aeffurW+jmq4YEHHnC4r9lrk8DAQHHo0CG3tkVLjnt7y1Sr1SImJsbh+jnaR6OiosSMGTMcrt/jjz8uEhMTxc6dO8WUKVNERESESElJEYcPH240nbvbLy0tTfz73/8WXbp0ERqNRqSnpzer1dFxOH36dDF69Gi7dTpafnZ2tsv2bLiO3333nbjjjjvEoEGDXH7G2DuO3PmusC5Tp9OJqKgo0atXL5Gamir69u0rTp486dY+6e5xcenSJbvfEwsXLhRC1J8Vs7eOu3fvdvjZm52d7XL9nC2zrXXKgCKEEPn5+WL+/Pmie/fuQq1Wi65du4qpU6eKL7/8Uly+fFmMGjVKREVFCbVaLW666Sbx1FNPieLiYqfzWS1atEgkJiYKs9kshBCiurpa/Pa3vxVDhw4VWq1WBAcHiz59+ogXX3xRVFZWCiGEeOGFF0RcXJxQqVQiOTlZvPLKK6KqqsrlfH/6059sP800fLzzzjtu1dqQ9cB0Nd/58+fFtGnTRGxsrAgODhZpaWli5cqVTmt11qZz5syxuw5z5syx257utKn1NKq9x69//WuH8/34448iMzNTxMbGCpVKJRITE8XMmTPFiRMnXG4Le+2yZs0ah+vXvXt3hzWeO3fO5fIcbT9X+7fV0qVLRWJioggODhYjRowQkyZNslvL+PHjbW0SEBAgwsLCRGRkpAgLC/N4n7QqLi4WvXr1crjdHbWlO8evsxpGjhzpdF9r2iZff/21W8dvS497R8t0tn6O9tFz5845PZaqqqrEk08+KaKiohr9pNt0One336xZs0RYWJgICQkRKSkpIikpqVmtzo5DT5f/5ptvumzPhusYFBQkJk+eLC5fvuzyM8bRceTOvmZdZkREhFAqlSIoKMijfdKT48Le94TFYhFCCIfreMcddzj87HVn/Zwts61JQjg5/0xEREQkg07XB4WIiIh8HwMKERER+RwGFCIiIvI5DChERETkcxhQiIiIyOcwoBAREZHPYUAhIiIin8OAQkRERD6HAYWIiIh8DgMKERER+RwGFCIiIvI5DChERETkc/4//JNb9I6u2cIAAAAASUVORK5CYII=\n",
      "text/plain": [
       "<Figure size 640x480 with 1 Axes>"
      ]
     },
     "metadata": {},
     "output_type": "display_data"
    }
   ],
   "source": [
    "#Plot the location numbers. \n",
    "\n",
    "fig = plt.figure()\n",
    "ax1 = fig.add_subplot(1,1,1)\n",
    "plt.plot(df_pol_sh1.iloc[:, [3]].squeeze().value_counts())"
   ]
  },
  {
   "cell_type": "code",
   "execution_count": 51,
   "id": "e55981c9",
   "metadata": {},
   "outputs": [
    {
     "data": {
      "text/html": [
       "<div>\n",
       "<style scoped>\n",
       "    .dataframe tbody tr th:only-of-type {\n",
       "        vertical-align: middle;\n",
       "    }\n",
       "\n",
       "    .dataframe tbody tr th {\n",
       "        vertical-align: top;\n",
       "    }\n",
       "\n",
       "    .dataframe thead th {\n",
       "        text-align: right;\n",
       "    }\n",
       "</style>\n",
       "<table border=\"1\" class=\"dataframe\">\n",
       "  <thead>\n",
       "    <tr style=\"text-align: right;\">\n",
       "      <th></th>\n",
       "      <th>location_number</th>\n",
       "    </tr>\n",
       "  </thead>\n",
       "  <tbody>\n",
       "    <tr>\n",
       "      <th>0</th>\n",
       "      <td>L4</td>\n",
       "    </tr>\n",
       "    <tr>\n",
       "      <th>1</th>\n",
       "      <td>S2</td>\n",
       "    </tr>\n",
       "    <tr>\n",
       "      <th>2</th>\n",
       "      <td>S2</td>\n",
       "    </tr>\n",
       "    <tr>\n",
       "      <th>3</th>\n",
       "      <td>S2</td>\n",
       "    </tr>\n",
       "    <tr>\n",
       "      <th>4</th>\n",
       "      <td>S2</td>\n",
       "    </tr>\n",
       "    <tr>\n",
       "      <th>...</th>\n",
       "      <td>...</td>\n",
       "    </tr>\n",
       "    <tr>\n",
       "      <th>1929</th>\n",
       "      <td>S1</td>\n",
       "    </tr>\n",
       "    <tr>\n",
       "      <th>1930</th>\n",
       "      <td>S1</td>\n",
       "    </tr>\n",
       "    <tr>\n",
       "      <th>1931</th>\n",
       "      <td>L1</td>\n",
       "    </tr>\n",
       "    <tr>\n",
       "      <th>1932</th>\n",
       "      <td>L1</td>\n",
       "    </tr>\n",
       "    <tr>\n",
       "      <th>1933</th>\n",
       "      <td>L1</td>\n",
       "    </tr>\n",
       "  </tbody>\n",
       "</table>\n",
       "<p>1934 rows × 1 columns</p>\n",
       "</div>"
      ],
      "text/plain": [
       "     location_number\n",
       "0                 L4\n",
       "1                 S2\n",
       "2                 S2\n",
       "3                 S2\n",
       "4                 S2\n",
       "...              ...\n",
       "1929              S1\n",
       "1930              S1\n",
       "1931              L1\n",
       "1932              L1\n",
       "1933              L1\n",
       "\n",
       "[1934 rows x 1 columns]"
      ]
     },
     "execution_count": 51,
     "metadata": {},
     "output_type": "execute_result"
    }
   ],
   "source": [
    "#Note that iloc returns a dataframe. \n",
    "df_pol_sh1.iloc[:, [3]]"
   ]
  },
  {
   "cell_type": "code",
   "execution_count": 52,
   "id": "0a79991b",
   "metadata": {},
   "outputs": [
    {
     "data": {
      "text/plain": [
       "0       L4\n",
       "1       S2\n",
       "2       S2\n",
       "3       S2\n",
       "4       S2\n",
       "        ..\n",
       "1929    S1\n",
       "1930    S1\n",
       "1931    L1\n",
       "1932    L1\n",
       "1933    L1\n",
       "Name: location_number, Length: 1934, dtype: object"
      ]
     },
     "execution_count": 52,
     "metadata": {},
     "output_type": "execute_result"
    }
   ],
   "source": [
    "#Note that loc and normal colunm name calling returns a series. \n",
    "df_pol_sh1['location_number']"
   ]
  },
  {
   "cell_type": "code",
   "execution_count": 53,
   "id": "bc513fd4",
   "metadata": {},
   "outputs": [],
   "source": [
    "#Creating bins, each bin will be a week starting on May 16, 2022, and going for 18 weeks. \n",
    "bins = pd.date_range(start='2022-05-15', freq='1W', periods=18)\n",
    "\n",
    "#Creating A column with the binned categorization. \n",
    "df_pol_sh1['binned_week'] = pd.cut(df_pol_sh1['sample_date'], bins = bins)\n",
    "\n",
    "#Creating series weekly bins, with each bin having an average of the total pollinator \n",
    "#visitation for each week, divided by the total number locations that were surveyed for each week.\n",
    "series_mean = df_pol_sh1['binned_week'].value_counts() / df_pol_sh1.groupby('binned_week')['location_number'].nunique()"
   ]
  },
  {
   "cell_type": "code",
   "execution_count": 54,
   "id": "b9777ab0",
   "metadata": {},
   "outputs": [
    {
     "data": {
      "text/plain": [
       "<AxesSubplot:>"
      ]
     },
     "execution_count": 54,
     "metadata": {},
     "output_type": "execute_result"
    },
    {
     "data": {
      "image/png": "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\n",
      "text/plain": [
       "<Figure size 640x480 with 1 Axes>"
      ]
     },
     "metadata": {},
     "output_type": "display_data"
    }
   ],
   "source": [
    "fig = plt.figure()\n",
    "ax1 = fig.add_subplot(1,1,1)\n",
    "series_mean.plot()"
   ]
  },
  {
   "cell_type": "code",
   "execution_count": 55,
   "id": "50fc3f04",
   "metadata": {},
   "outputs": [
    {
     "data": {
      "text/plain": [
       "(2022-05-15, 2022-05-22]      8.0\n",
       "(2022-05-22, 2022-05-29]     18.0\n",
       "(2022-05-29, 2022-06-05]     32.5\n",
       "(2022-06-05, 2022-06-12]     66.5\n",
       "(2022-06-12, 2022-06-19]     78.0\n",
       "(2022-06-19, 2022-06-26]     41.0\n",
       "(2022-06-26, 2022-07-03]     95.0\n",
       "(2022-07-03, 2022-07-10]     45.5\n",
       "(2022-07-10, 2022-07-17]    115.0\n",
       "(2022-07-17, 2022-07-24]     70.0\n",
       "(2022-07-24, 2022-07-31]     63.0\n",
       "(2022-07-31, 2022-08-07]    126.5\n",
       "(2022-08-07, 2022-08-14]     62.0\n",
       "(2022-08-14, 2022-08-21]     28.0\n",
       "(2022-08-21, 2022-08-28]     55.0\n",
       "(2022-08-28, 2022-09-04]     24.5\n",
       "(2022-09-04, 2022-09-11]     70.5\n",
       "dtype: float64"
      ]
     },
     "execution_count": 55,
     "metadata": {},
     "output_type": "execute_result"
    }
   ],
   "source": [
    "series_mean"
   ]
  },
  {
   "cell_type": "code",
   "execution_count": 56,
   "id": "47d24216",
   "metadata": {},
   "outputs": [
    {
     "ename": "TypeError",
     "evalue": "float() argument must be a string or a number, not 'pandas._libs.interval.Interval'",
     "output_type": "error",
     "traceback": [
      "\u001b[1;31m---------------------------------------------------------------------------\u001b[0m",
      "\u001b[1;31mTypeError\u001b[0m                                 Traceback (most recent call last)",
      "\u001b[1;32m~\\AppData\\Local\\Temp\\ipykernel_4284\\3866534495.py\u001b[0m in \u001b[0;36m<module>\u001b[1;34m\u001b[0m\n\u001b[0;32m      1\u001b[0m \u001b[0mfig\u001b[0m\u001b[1;33m,\u001b[0m \u001b[0max1\u001b[0m \u001b[1;33m=\u001b[0m \u001b[0mplt\u001b[0m\u001b[1;33m.\u001b[0m\u001b[0msubplots\u001b[0m\u001b[1;33m(\u001b[0m\u001b[0mfigsize\u001b[0m\u001b[1;33m=\u001b[0m \u001b[1;33m(\u001b[0m\u001b[1;36m10\u001b[0m\u001b[1;33m,\u001b[0m \u001b[1;36m5\u001b[0m\u001b[1;33m)\u001b[0m\u001b[1;33m)\u001b[0m\u001b[1;33m\u001b[0m\u001b[1;33m\u001b[0m\u001b[0m\n\u001b[1;32m----> 2\u001b[1;33m \u001b[0max1\u001b[0m\u001b[1;33m.\u001b[0m\u001b[0mplot\u001b[0m\u001b[1;33m(\u001b[0m\u001b[0mseries_mean\u001b[0m\u001b[1;33m)\u001b[0m\u001b[1;33m\u001b[0m\u001b[1;33m\u001b[0m\u001b[0m\n\u001b[0m\u001b[0;32m      3\u001b[0m \u001b[1;33m\u001b[0m\u001b[0m\n\u001b[0;32m      4\u001b[0m \u001b[0mplt\u001b[0m\u001b[1;33m.\u001b[0m\u001b[0mshow\u001b[0m\u001b[1;33m(\u001b[0m\u001b[1;33m)\u001b[0m\u001b[1;33m\u001b[0m\u001b[1;33m\u001b[0m\u001b[0m\n",
      "\u001b[1;32m~\\anaconda3\\lib\\site-packages\\matplotlib\\axes\\_axes.py\u001b[0m in \u001b[0;36mplot\u001b[1;34m(self, scalex, scaley, data, *args, **kwargs)\u001b[0m\n\u001b[0;32m   1632\u001b[0m         \u001b[0mlines\u001b[0m \u001b[1;33m=\u001b[0m \u001b[1;33m[\u001b[0m\u001b[1;33m*\u001b[0m\u001b[0mself\u001b[0m\u001b[1;33m.\u001b[0m\u001b[0m_get_lines\u001b[0m\u001b[1;33m(\u001b[0m\u001b[1;33m*\u001b[0m\u001b[0margs\u001b[0m\u001b[1;33m,\u001b[0m \u001b[0mdata\u001b[0m\u001b[1;33m=\u001b[0m\u001b[0mdata\u001b[0m\u001b[1;33m,\u001b[0m \u001b[1;33m**\u001b[0m\u001b[0mkwargs\u001b[0m\u001b[1;33m)\u001b[0m\u001b[1;33m]\u001b[0m\u001b[1;33m\u001b[0m\u001b[1;33m\u001b[0m\u001b[0m\n\u001b[0;32m   1633\u001b[0m         \u001b[1;32mfor\u001b[0m \u001b[0mline\u001b[0m \u001b[1;32min\u001b[0m \u001b[0mlines\u001b[0m\u001b[1;33m:\u001b[0m\u001b[1;33m\u001b[0m\u001b[1;33m\u001b[0m\u001b[0m\n\u001b[1;32m-> 1634\u001b[1;33m             \u001b[0mself\u001b[0m\u001b[1;33m.\u001b[0m\u001b[0madd_line\u001b[0m\u001b[1;33m(\u001b[0m\u001b[0mline\u001b[0m\u001b[1;33m)\u001b[0m\u001b[1;33m\u001b[0m\u001b[1;33m\u001b[0m\u001b[0m\n\u001b[0m\u001b[0;32m   1635\u001b[0m         \u001b[0mself\u001b[0m\u001b[1;33m.\u001b[0m\u001b[0m_request_autoscale_view\u001b[0m\u001b[1;33m(\u001b[0m\u001b[0mscalex\u001b[0m\u001b[1;33m=\u001b[0m\u001b[0mscalex\u001b[0m\u001b[1;33m,\u001b[0m \u001b[0mscaley\u001b[0m\u001b[1;33m=\u001b[0m\u001b[0mscaley\u001b[0m\u001b[1;33m)\u001b[0m\u001b[1;33m\u001b[0m\u001b[1;33m\u001b[0m\u001b[0m\n\u001b[0;32m   1636\u001b[0m         \u001b[1;32mreturn\u001b[0m \u001b[0mlines\u001b[0m\u001b[1;33m\u001b[0m\u001b[1;33m\u001b[0m\u001b[0m\n",
      "\u001b[1;32m~\\anaconda3\\lib\\site-packages\\matplotlib\\axes\\_base.py\u001b[0m in \u001b[0;36madd_line\u001b[1;34m(self, line)\u001b[0m\n\u001b[0;32m   2286\u001b[0m             \u001b[0mline\u001b[0m\u001b[1;33m.\u001b[0m\u001b[0mset_clip_path\u001b[0m\u001b[1;33m(\u001b[0m\u001b[0mself\u001b[0m\u001b[1;33m.\u001b[0m\u001b[0mpatch\u001b[0m\u001b[1;33m)\u001b[0m\u001b[1;33m\u001b[0m\u001b[1;33m\u001b[0m\u001b[0m\n\u001b[0;32m   2287\u001b[0m \u001b[1;33m\u001b[0m\u001b[0m\n\u001b[1;32m-> 2288\u001b[1;33m         \u001b[0mself\u001b[0m\u001b[1;33m.\u001b[0m\u001b[0m_update_line_limits\u001b[0m\u001b[1;33m(\u001b[0m\u001b[0mline\u001b[0m\u001b[1;33m)\u001b[0m\u001b[1;33m\u001b[0m\u001b[1;33m\u001b[0m\u001b[0m\n\u001b[0m\u001b[0;32m   2289\u001b[0m         \u001b[1;32mif\u001b[0m \u001b[1;32mnot\u001b[0m \u001b[0mline\u001b[0m\u001b[1;33m.\u001b[0m\u001b[0mget_label\u001b[0m\u001b[1;33m(\u001b[0m\u001b[1;33m)\u001b[0m\u001b[1;33m:\u001b[0m\u001b[1;33m\u001b[0m\u001b[1;33m\u001b[0m\u001b[0m\n\u001b[0;32m   2290\u001b[0m             \u001b[0mline\u001b[0m\u001b[1;33m.\u001b[0m\u001b[0mset_label\u001b[0m\u001b[1;33m(\u001b[0m\u001b[1;34mf'_child{len(self._children)}'\u001b[0m\u001b[1;33m)\u001b[0m\u001b[1;33m\u001b[0m\u001b[1;33m\u001b[0m\u001b[0m\n",
      "\u001b[1;32m~\\anaconda3\\lib\\site-packages\\matplotlib\\axes\\_base.py\u001b[0m in \u001b[0;36m_update_line_limits\u001b[1;34m(self, line)\u001b[0m\n\u001b[0;32m   2309\u001b[0m         \u001b[0mFigures\u001b[0m \u001b[0mout\u001b[0m \u001b[0mthe\u001b[0m \u001b[0mdata\u001b[0m \u001b[0mlimit\u001b[0m \u001b[0mof\u001b[0m \u001b[0mthe\u001b[0m \u001b[0mgiven\u001b[0m \u001b[0mline\u001b[0m\u001b[1;33m,\u001b[0m \u001b[0mupdating\u001b[0m \u001b[0mself\u001b[0m\u001b[1;33m.\u001b[0m\u001b[0mdataLim\u001b[0m\u001b[1;33m.\u001b[0m\u001b[1;33m\u001b[0m\u001b[1;33m\u001b[0m\u001b[0m\n\u001b[0;32m   2310\u001b[0m         \"\"\"\n\u001b[1;32m-> 2311\u001b[1;33m         \u001b[0mpath\u001b[0m \u001b[1;33m=\u001b[0m \u001b[0mline\u001b[0m\u001b[1;33m.\u001b[0m\u001b[0mget_path\u001b[0m\u001b[1;33m(\u001b[0m\u001b[1;33m)\u001b[0m\u001b[1;33m\u001b[0m\u001b[1;33m\u001b[0m\u001b[0m\n\u001b[0m\u001b[0;32m   2312\u001b[0m         \u001b[1;32mif\u001b[0m \u001b[0mpath\u001b[0m\u001b[1;33m.\u001b[0m\u001b[0mvertices\u001b[0m\u001b[1;33m.\u001b[0m\u001b[0msize\u001b[0m \u001b[1;33m==\u001b[0m \u001b[1;36m0\u001b[0m\u001b[1;33m:\u001b[0m\u001b[1;33m\u001b[0m\u001b[1;33m\u001b[0m\u001b[0m\n\u001b[0;32m   2313\u001b[0m             \u001b[1;32mreturn\u001b[0m\u001b[1;33m\u001b[0m\u001b[1;33m\u001b[0m\u001b[0m\n",
      "\u001b[1;32m~\\anaconda3\\lib\\site-packages\\matplotlib\\lines.py\u001b[0m in \u001b[0;36mget_path\u001b[1;34m(self)\u001b[0m\n\u001b[0;32m    997\u001b[0m         \u001b[1;34m\"\"\"Return the `~matplotlib.path.Path` associated with this line.\"\"\"\u001b[0m\u001b[1;33m\u001b[0m\u001b[1;33m\u001b[0m\u001b[0m\n\u001b[0;32m    998\u001b[0m         \u001b[1;32mif\u001b[0m \u001b[0mself\u001b[0m\u001b[1;33m.\u001b[0m\u001b[0m_invalidy\u001b[0m \u001b[1;32mor\u001b[0m \u001b[0mself\u001b[0m\u001b[1;33m.\u001b[0m\u001b[0m_invalidx\u001b[0m\u001b[1;33m:\u001b[0m\u001b[1;33m\u001b[0m\u001b[1;33m\u001b[0m\u001b[0m\n\u001b[1;32m--> 999\u001b[1;33m             \u001b[0mself\u001b[0m\u001b[1;33m.\u001b[0m\u001b[0mrecache\u001b[0m\u001b[1;33m(\u001b[0m\u001b[1;33m)\u001b[0m\u001b[1;33m\u001b[0m\u001b[1;33m\u001b[0m\u001b[0m\n\u001b[0m\u001b[0;32m   1000\u001b[0m         \u001b[1;32mreturn\u001b[0m \u001b[0mself\u001b[0m\u001b[1;33m.\u001b[0m\u001b[0m_path\u001b[0m\u001b[1;33m\u001b[0m\u001b[1;33m\u001b[0m\u001b[0m\n\u001b[0;32m   1001\u001b[0m \u001b[1;33m\u001b[0m\u001b[0m\n",
      "\u001b[1;32m~\\anaconda3\\lib\\site-packages\\matplotlib\\lines.py\u001b[0m in \u001b[0;36mrecache\u001b[1;34m(self, always)\u001b[0m\n\u001b[0;32m    650\u001b[0m         \u001b[1;32mif\u001b[0m \u001b[0malways\u001b[0m \u001b[1;32mor\u001b[0m \u001b[0mself\u001b[0m\u001b[1;33m.\u001b[0m\u001b[0m_invalidx\u001b[0m\u001b[1;33m:\u001b[0m\u001b[1;33m\u001b[0m\u001b[1;33m\u001b[0m\u001b[0m\n\u001b[0;32m    651\u001b[0m             \u001b[0mxconv\u001b[0m \u001b[1;33m=\u001b[0m \u001b[0mself\u001b[0m\u001b[1;33m.\u001b[0m\u001b[0mconvert_xunits\u001b[0m\u001b[1;33m(\u001b[0m\u001b[0mself\u001b[0m\u001b[1;33m.\u001b[0m\u001b[0m_xorig\u001b[0m\u001b[1;33m)\u001b[0m\u001b[1;33m\u001b[0m\u001b[1;33m\u001b[0m\u001b[0m\n\u001b[1;32m--> 652\u001b[1;33m             \u001b[0mx\u001b[0m \u001b[1;33m=\u001b[0m \u001b[0m_to_unmasked_float_array\u001b[0m\u001b[1;33m(\u001b[0m\u001b[0mxconv\u001b[0m\u001b[1;33m)\u001b[0m\u001b[1;33m.\u001b[0m\u001b[0mravel\u001b[0m\u001b[1;33m(\u001b[0m\u001b[1;33m)\u001b[0m\u001b[1;33m\u001b[0m\u001b[1;33m\u001b[0m\u001b[0m\n\u001b[0m\u001b[0;32m    653\u001b[0m         \u001b[1;32melse\u001b[0m\u001b[1;33m:\u001b[0m\u001b[1;33m\u001b[0m\u001b[1;33m\u001b[0m\u001b[0m\n\u001b[0;32m    654\u001b[0m             \u001b[0mx\u001b[0m \u001b[1;33m=\u001b[0m \u001b[0mself\u001b[0m\u001b[1;33m.\u001b[0m\u001b[0m_x\u001b[0m\u001b[1;33m\u001b[0m\u001b[1;33m\u001b[0m\u001b[0m\n",
      "\u001b[1;32m~\\anaconda3\\lib\\site-packages\\matplotlib\\cbook\\__init__.py\u001b[0m in \u001b[0;36m_to_unmasked_float_array\u001b[1;34m(x)\u001b[0m\n\u001b[0;32m   1296\u001b[0m         \u001b[1;32mreturn\u001b[0m \u001b[0mnp\u001b[0m\u001b[1;33m.\u001b[0m\u001b[0mma\u001b[0m\u001b[1;33m.\u001b[0m\u001b[0masarray\u001b[0m\u001b[1;33m(\u001b[0m\u001b[0mx\u001b[0m\u001b[1;33m,\u001b[0m \u001b[0mfloat\u001b[0m\u001b[1;33m)\u001b[0m\u001b[1;33m.\u001b[0m\u001b[0mfilled\u001b[0m\u001b[1;33m(\u001b[0m\u001b[0mnp\u001b[0m\u001b[1;33m.\u001b[0m\u001b[0mnan\u001b[0m\u001b[1;33m)\u001b[0m\u001b[1;33m\u001b[0m\u001b[1;33m\u001b[0m\u001b[0m\n\u001b[0;32m   1297\u001b[0m     \u001b[1;32melse\u001b[0m\u001b[1;33m:\u001b[0m\u001b[1;33m\u001b[0m\u001b[1;33m\u001b[0m\u001b[0m\n\u001b[1;32m-> 1298\u001b[1;33m         \u001b[1;32mreturn\u001b[0m \u001b[0mnp\u001b[0m\u001b[1;33m.\u001b[0m\u001b[0masarray\u001b[0m\u001b[1;33m(\u001b[0m\u001b[0mx\u001b[0m\u001b[1;33m,\u001b[0m \u001b[0mfloat\u001b[0m\u001b[1;33m)\u001b[0m\u001b[1;33m\u001b[0m\u001b[1;33m\u001b[0m\u001b[0m\n\u001b[0m\u001b[0;32m   1299\u001b[0m \u001b[1;33m\u001b[0m\u001b[0m\n\u001b[0;32m   1300\u001b[0m \u001b[1;33m\u001b[0m\u001b[0m\n",
      "\u001b[1;31mTypeError\u001b[0m: float() argument must be a string or a number, not 'pandas._libs.interval.Interval'"
     ]
    },
    {
     "data": {
      "image/png": "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\n",
      "text/plain": [
       "<Figure size 1000x500 with 1 Axes>"
      ]
     },
     "metadata": {},
     "output_type": "display_data"
    }
   ],
   "source": [
    "fig, ax1 = plt.subplots(figsize= (10, 5))\n",
    "ax1.plot(series_mean)\n",
    "\n",
    "plt.show()"
   ]
  },
  {
   "cell_type": "code",
   "execution_count": 59,
   "id": "49dbd1b2",
   "metadata": {},
   "outputs": [
    {
     "data": {
      "text/plain": [
       "CategoricalIndex([(2022-05-15, 2022-05-22], (2022-05-22, 2022-05-29],\n",
       "                  (2022-05-29, 2022-06-05], (2022-06-05, 2022-06-12],\n",
       "                  (2022-06-12, 2022-06-19], (2022-06-19, 2022-06-26],\n",
       "                  (2022-06-26, 2022-07-03], (2022-07-03, 2022-07-10],\n",
       "                  (2022-07-10, 2022-07-17], (2022-07-17, 2022-07-24],\n",
       "                  (2022-07-24, 2022-07-31], (2022-07-31, 2022-08-07],\n",
       "                  (2022-08-07, 2022-08-14], (2022-08-14, 2022-08-21],\n",
       "                  (2022-08-21, 2022-08-28], (2022-08-28, 2022-09-04],\n",
       "                  (2022-09-04, 2022-09-11]],\n",
       "                 categories=[(2022-05-15, 2022-05-22], (2022-05-22, 2022-05-29], (2022-05-29, 2022-06-05], (2022-06-05, 2022-06-12], (2022-06-12, 2022-06-19], (2022-06-19, 2022-06-26], (2022-06-26, 2022-07-03], (2022-07-03, 2022-07-10], ...], ordered=True, dtype='category')"
      ]
     },
     "execution_count": 59,
     "metadata": {},
     "output_type": "execute_result"
    }
   ],
   "source": [
    "series_mean.index"
   ]
  },
  {
   "cell_type": "code",
   "execution_count": 36,
   "id": "23c9bfe7",
   "metadata": {},
   "outputs": [
    {
     "ename": "TypeError",
     "evalue": "float() argument must be a string or a number, not 'pandas._libs.interval.Interval'",
     "output_type": "error",
     "traceback": [
      "\u001b[1;31m---------------------------------------------------------------------------\u001b[0m",
      "\u001b[1;31mTypeError\u001b[0m                                 Traceback (most recent call last)",
      "\u001b[1;32m~\\AppData\\Local\\Temp\\ipykernel_4284\\2585603756.py\u001b[0m in \u001b[0;36m<module>\u001b[1;34m\u001b[0m\n\u001b[0;32m      2\u001b[0m \u001b[1;33m\u001b[0m\u001b[0m\n\u001b[0;32m      3\u001b[0m \u001b[0max\u001b[0m \u001b[1;33m=\u001b[0m \u001b[0maxs\u001b[0m\u001b[1;33m[\u001b[0m\u001b[1;36m0\u001b[0m\u001b[1;33m]\u001b[0m\u001b[1;33m\u001b[0m\u001b[1;33m\u001b[0m\u001b[0m\n\u001b[1;32m----> 4\u001b[1;33m \u001b[0max\u001b[0m\u001b[1;33m.\u001b[0m\u001b[0mplot\u001b[0m\u001b[1;33m(\u001b[0m\u001b[0mseries_mean\u001b[0m\u001b[1;33m.\u001b[0m\u001b[0mindex\u001b[0m\u001b[1;33m.\u001b[0m\u001b[0mcategories\u001b[0m\u001b[1;33m,\u001b[0m \u001b[0mseries_mean\u001b[0m\u001b[1;33m.\u001b[0m\u001b[0mvalues\u001b[0m\u001b[1;33m)\u001b[0m\u001b[1;33m\u001b[0m\u001b[1;33m\u001b[0m\u001b[0m\n\u001b[0m",
      "\u001b[1;32m~\\anaconda3\\lib\\site-packages\\matplotlib\\axes\\_axes.py\u001b[0m in \u001b[0;36mplot\u001b[1;34m(self, scalex, scaley, data, *args, **kwargs)\u001b[0m\n\u001b[0;32m   1632\u001b[0m         \u001b[0mlines\u001b[0m \u001b[1;33m=\u001b[0m \u001b[1;33m[\u001b[0m\u001b[1;33m*\u001b[0m\u001b[0mself\u001b[0m\u001b[1;33m.\u001b[0m\u001b[0m_get_lines\u001b[0m\u001b[1;33m(\u001b[0m\u001b[1;33m*\u001b[0m\u001b[0margs\u001b[0m\u001b[1;33m,\u001b[0m \u001b[0mdata\u001b[0m\u001b[1;33m=\u001b[0m\u001b[0mdata\u001b[0m\u001b[1;33m,\u001b[0m \u001b[1;33m**\u001b[0m\u001b[0mkwargs\u001b[0m\u001b[1;33m)\u001b[0m\u001b[1;33m]\u001b[0m\u001b[1;33m\u001b[0m\u001b[1;33m\u001b[0m\u001b[0m\n\u001b[0;32m   1633\u001b[0m         \u001b[1;32mfor\u001b[0m \u001b[0mline\u001b[0m \u001b[1;32min\u001b[0m \u001b[0mlines\u001b[0m\u001b[1;33m:\u001b[0m\u001b[1;33m\u001b[0m\u001b[1;33m\u001b[0m\u001b[0m\n\u001b[1;32m-> 1634\u001b[1;33m             \u001b[0mself\u001b[0m\u001b[1;33m.\u001b[0m\u001b[0madd_line\u001b[0m\u001b[1;33m(\u001b[0m\u001b[0mline\u001b[0m\u001b[1;33m)\u001b[0m\u001b[1;33m\u001b[0m\u001b[1;33m\u001b[0m\u001b[0m\n\u001b[0m\u001b[0;32m   1635\u001b[0m         \u001b[0mself\u001b[0m\u001b[1;33m.\u001b[0m\u001b[0m_request_autoscale_view\u001b[0m\u001b[1;33m(\u001b[0m\u001b[0mscalex\u001b[0m\u001b[1;33m=\u001b[0m\u001b[0mscalex\u001b[0m\u001b[1;33m,\u001b[0m \u001b[0mscaley\u001b[0m\u001b[1;33m=\u001b[0m\u001b[0mscaley\u001b[0m\u001b[1;33m)\u001b[0m\u001b[1;33m\u001b[0m\u001b[1;33m\u001b[0m\u001b[0m\n\u001b[0;32m   1636\u001b[0m         \u001b[1;32mreturn\u001b[0m \u001b[0mlines\u001b[0m\u001b[1;33m\u001b[0m\u001b[1;33m\u001b[0m\u001b[0m\n",
      "\u001b[1;32m~\\anaconda3\\lib\\site-packages\\matplotlib\\axes\\_base.py\u001b[0m in \u001b[0;36madd_line\u001b[1;34m(self, line)\u001b[0m\n\u001b[0;32m   2286\u001b[0m             \u001b[0mline\u001b[0m\u001b[1;33m.\u001b[0m\u001b[0mset_clip_path\u001b[0m\u001b[1;33m(\u001b[0m\u001b[0mself\u001b[0m\u001b[1;33m.\u001b[0m\u001b[0mpatch\u001b[0m\u001b[1;33m)\u001b[0m\u001b[1;33m\u001b[0m\u001b[1;33m\u001b[0m\u001b[0m\n\u001b[0;32m   2287\u001b[0m \u001b[1;33m\u001b[0m\u001b[0m\n\u001b[1;32m-> 2288\u001b[1;33m         \u001b[0mself\u001b[0m\u001b[1;33m.\u001b[0m\u001b[0m_update_line_limits\u001b[0m\u001b[1;33m(\u001b[0m\u001b[0mline\u001b[0m\u001b[1;33m)\u001b[0m\u001b[1;33m\u001b[0m\u001b[1;33m\u001b[0m\u001b[0m\n\u001b[0m\u001b[0;32m   2289\u001b[0m         \u001b[1;32mif\u001b[0m \u001b[1;32mnot\u001b[0m \u001b[0mline\u001b[0m\u001b[1;33m.\u001b[0m\u001b[0mget_label\u001b[0m\u001b[1;33m(\u001b[0m\u001b[1;33m)\u001b[0m\u001b[1;33m:\u001b[0m\u001b[1;33m\u001b[0m\u001b[1;33m\u001b[0m\u001b[0m\n\u001b[0;32m   2290\u001b[0m             \u001b[0mline\u001b[0m\u001b[1;33m.\u001b[0m\u001b[0mset_label\u001b[0m\u001b[1;33m(\u001b[0m\u001b[1;34mf'_child{len(self._children)}'\u001b[0m\u001b[1;33m)\u001b[0m\u001b[1;33m\u001b[0m\u001b[1;33m\u001b[0m\u001b[0m\n",
      "\u001b[1;32m~\\anaconda3\\lib\\site-packages\\matplotlib\\axes\\_base.py\u001b[0m in \u001b[0;36m_update_line_limits\u001b[1;34m(self, line)\u001b[0m\n\u001b[0;32m   2309\u001b[0m         \u001b[0mFigures\u001b[0m \u001b[0mout\u001b[0m \u001b[0mthe\u001b[0m \u001b[0mdata\u001b[0m \u001b[0mlimit\u001b[0m \u001b[0mof\u001b[0m \u001b[0mthe\u001b[0m \u001b[0mgiven\u001b[0m \u001b[0mline\u001b[0m\u001b[1;33m,\u001b[0m \u001b[0mupdating\u001b[0m \u001b[0mself\u001b[0m\u001b[1;33m.\u001b[0m\u001b[0mdataLim\u001b[0m\u001b[1;33m.\u001b[0m\u001b[1;33m\u001b[0m\u001b[1;33m\u001b[0m\u001b[0m\n\u001b[0;32m   2310\u001b[0m         \"\"\"\n\u001b[1;32m-> 2311\u001b[1;33m         \u001b[0mpath\u001b[0m \u001b[1;33m=\u001b[0m \u001b[0mline\u001b[0m\u001b[1;33m.\u001b[0m\u001b[0mget_path\u001b[0m\u001b[1;33m(\u001b[0m\u001b[1;33m)\u001b[0m\u001b[1;33m\u001b[0m\u001b[1;33m\u001b[0m\u001b[0m\n\u001b[0m\u001b[0;32m   2312\u001b[0m         \u001b[1;32mif\u001b[0m \u001b[0mpath\u001b[0m\u001b[1;33m.\u001b[0m\u001b[0mvertices\u001b[0m\u001b[1;33m.\u001b[0m\u001b[0msize\u001b[0m \u001b[1;33m==\u001b[0m \u001b[1;36m0\u001b[0m\u001b[1;33m:\u001b[0m\u001b[1;33m\u001b[0m\u001b[1;33m\u001b[0m\u001b[0m\n\u001b[0;32m   2313\u001b[0m             \u001b[1;32mreturn\u001b[0m\u001b[1;33m\u001b[0m\u001b[1;33m\u001b[0m\u001b[0m\n",
      "\u001b[1;32m~\\anaconda3\\lib\\site-packages\\matplotlib\\lines.py\u001b[0m in \u001b[0;36mget_path\u001b[1;34m(self)\u001b[0m\n\u001b[0;32m    997\u001b[0m         \u001b[1;34m\"\"\"Return the `~matplotlib.path.Path` associated with this line.\"\"\"\u001b[0m\u001b[1;33m\u001b[0m\u001b[1;33m\u001b[0m\u001b[0m\n\u001b[0;32m    998\u001b[0m         \u001b[1;32mif\u001b[0m \u001b[0mself\u001b[0m\u001b[1;33m.\u001b[0m\u001b[0m_invalidy\u001b[0m \u001b[1;32mor\u001b[0m \u001b[0mself\u001b[0m\u001b[1;33m.\u001b[0m\u001b[0m_invalidx\u001b[0m\u001b[1;33m:\u001b[0m\u001b[1;33m\u001b[0m\u001b[1;33m\u001b[0m\u001b[0m\n\u001b[1;32m--> 999\u001b[1;33m             \u001b[0mself\u001b[0m\u001b[1;33m.\u001b[0m\u001b[0mrecache\u001b[0m\u001b[1;33m(\u001b[0m\u001b[1;33m)\u001b[0m\u001b[1;33m\u001b[0m\u001b[1;33m\u001b[0m\u001b[0m\n\u001b[0m\u001b[0;32m   1000\u001b[0m         \u001b[1;32mreturn\u001b[0m \u001b[0mself\u001b[0m\u001b[1;33m.\u001b[0m\u001b[0m_path\u001b[0m\u001b[1;33m\u001b[0m\u001b[1;33m\u001b[0m\u001b[0m\n\u001b[0;32m   1001\u001b[0m \u001b[1;33m\u001b[0m\u001b[0m\n",
      "\u001b[1;32m~\\anaconda3\\lib\\site-packages\\matplotlib\\lines.py\u001b[0m in \u001b[0;36mrecache\u001b[1;34m(self, always)\u001b[0m\n\u001b[0;32m    650\u001b[0m         \u001b[1;32mif\u001b[0m \u001b[0malways\u001b[0m \u001b[1;32mor\u001b[0m \u001b[0mself\u001b[0m\u001b[1;33m.\u001b[0m\u001b[0m_invalidx\u001b[0m\u001b[1;33m:\u001b[0m\u001b[1;33m\u001b[0m\u001b[1;33m\u001b[0m\u001b[0m\n\u001b[0;32m    651\u001b[0m             \u001b[0mxconv\u001b[0m \u001b[1;33m=\u001b[0m \u001b[0mself\u001b[0m\u001b[1;33m.\u001b[0m\u001b[0mconvert_xunits\u001b[0m\u001b[1;33m(\u001b[0m\u001b[0mself\u001b[0m\u001b[1;33m.\u001b[0m\u001b[0m_xorig\u001b[0m\u001b[1;33m)\u001b[0m\u001b[1;33m\u001b[0m\u001b[1;33m\u001b[0m\u001b[0m\n\u001b[1;32m--> 652\u001b[1;33m             \u001b[0mx\u001b[0m \u001b[1;33m=\u001b[0m \u001b[0m_to_unmasked_float_array\u001b[0m\u001b[1;33m(\u001b[0m\u001b[0mxconv\u001b[0m\u001b[1;33m)\u001b[0m\u001b[1;33m.\u001b[0m\u001b[0mravel\u001b[0m\u001b[1;33m(\u001b[0m\u001b[1;33m)\u001b[0m\u001b[1;33m\u001b[0m\u001b[1;33m\u001b[0m\u001b[0m\n\u001b[0m\u001b[0;32m    653\u001b[0m         \u001b[1;32melse\u001b[0m\u001b[1;33m:\u001b[0m\u001b[1;33m\u001b[0m\u001b[1;33m\u001b[0m\u001b[0m\n\u001b[0;32m    654\u001b[0m             \u001b[0mx\u001b[0m \u001b[1;33m=\u001b[0m \u001b[0mself\u001b[0m\u001b[1;33m.\u001b[0m\u001b[0m_x\u001b[0m\u001b[1;33m\u001b[0m\u001b[1;33m\u001b[0m\u001b[0m\n",
      "\u001b[1;32m~\\anaconda3\\lib\\site-packages\\matplotlib\\cbook\\__init__.py\u001b[0m in \u001b[0;36m_to_unmasked_float_array\u001b[1;34m(x)\u001b[0m\n\u001b[0;32m   1296\u001b[0m         \u001b[1;32mreturn\u001b[0m \u001b[0mnp\u001b[0m\u001b[1;33m.\u001b[0m\u001b[0mma\u001b[0m\u001b[1;33m.\u001b[0m\u001b[0masarray\u001b[0m\u001b[1;33m(\u001b[0m\u001b[0mx\u001b[0m\u001b[1;33m,\u001b[0m \u001b[0mfloat\u001b[0m\u001b[1;33m)\u001b[0m\u001b[1;33m.\u001b[0m\u001b[0mfilled\u001b[0m\u001b[1;33m(\u001b[0m\u001b[0mnp\u001b[0m\u001b[1;33m.\u001b[0m\u001b[0mnan\u001b[0m\u001b[1;33m)\u001b[0m\u001b[1;33m\u001b[0m\u001b[1;33m\u001b[0m\u001b[0m\n\u001b[0;32m   1297\u001b[0m     \u001b[1;32melse\u001b[0m\u001b[1;33m:\u001b[0m\u001b[1;33m\u001b[0m\u001b[1;33m\u001b[0m\u001b[0m\n\u001b[1;32m-> 1298\u001b[1;33m         \u001b[1;32mreturn\u001b[0m \u001b[0mnp\u001b[0m\u001b[1;33m.\u001b[0m\u001b[0masarray\u001b[0m\u001b[1;33m(\u001b[0m\u001b[0mx\u001b[0m\u001b[1;33m,\u001b[0m \u001b[0mfloat\u001b[0m\u001b[1;33m)\u001b[0m\u001b[1;33m\u001b[0m\u001b[1;33m\u001b[0m\u001b[0m\n\u001b[0m\u001b[0;32m   1299\u001b[0m \u001b[1;33m\u001b[0m\u001b[0m\n\u001b[0;32m   1300\u001b[0m \u001b[1;33m\u001b[0m\u001b[0m\n",
      "\u001b[1;31mTypeError\u001b[0m: float() argument must be a string or a number, not 'pandas._libs.interval.Interval'"
     ]
    },
    {
     "data": {
      "image/png": "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\n",
      "text/plain": [
       "<Figure size 1000x500 with 2 Axes>"
      ]
     },
     "metadata": {},
     "output_type": "display_data"
    }
   ],
   "source": [
    "fig, axs = plt.subplots(1, 2, figsize=(10, 5))\n",
    "ax = axs[0]\n",
    "ax.plot(series_mean.index.categories, series_mean.values)"
   ]
  },
  {
   "cell_type": "code",
   "execution_count": null,
   "id": "c101e56f",
   "metadata": {},
   "outputs": [],
   "source": []
  }
 ],
 "metadata": {
  "kernelspec": {
   "display_name": "Python 3",
   "language": "python",
   "name": "python3"
  },
  "language_info": {
   "codemirror_mode": {
    "name": "ipython",
    "version": 3
   },
   "file_extension": ".py",
   "mimetype": "text/x-python",
   "name": "python",
   "nbconvert_exporter": "python",
   "pygments_lexer": "ipython3",
<<<<<<< HEAD
<<<<<<< HEAD
   "version": "3.10.10"
  },
  "vscode": {
   "interpreter": {
    "hash": "f96bf21726fd722e7247079fe72a00b952d2514051ea81af8a1fcbe2bd4ab9c1"
   }
=======
   "version": "3.9.7"
>>>>>>> d475215b9d07698deabd245d0e6cfd8667094ebb
=======
   "version": "3.9.13"
>>>>>>> parent of d475215 (checklist)
  }
 },
 "nbformat": 4,
 "nbformat_minor": 5
}
