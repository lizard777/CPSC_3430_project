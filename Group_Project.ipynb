{
 "cells": [
  {
   "cell_type": "code",
   "execution_count": 44,
   "id": "05502ea3",
   "metadata": {},
   "outputs": [],
   "source": [
    "#Import the neccassary libraries. \n",
    "import pandas as pd\n",
    "import numpy as np\n",
    "import seaborn as sns\n",
    "import matplotlib.pyplot as plt"
   ]
  },
  {
   "cell_type": "code",
   "execution_count": 45,
   "id": "a266aba4",
   "metadata": {},
   "outputs": [],
   "source": [
    "#Import the excel file.\n",
    "pol_data = pd.ExcelFile('Project Pollinator Count Data Collection Sheet 2022.xlsx')\n",
    "\n",
    "#Select the sheet of interest and create a dataframe based off the sheet. \n",
    "df_pol_sh1 = pd.read_excel(pol_data, 'Summer 2022 Pollinator Data Col')\n",
    "\n",
    "df_pol_sh1.replace('total_shade', 'full_shade', inplace=True)"
   ]
  },
  {
   "cell_type": "code",
   "execution_count": 46,
   "id": "c27ed4c4",
   "metadata": {},
   "outputs": [],
   "source": [
    "df_pol_sh1['pollinator_group'] = df_pol_sh1['pollinator']"
   ]
  },
  {
   "cell_type": "code",
   "execution_count": 54,
   "id": "033b9ff5",
   "metadata": {},
   "outputs": [],
   "source": [
    "df_pol_sh1['pollinator_group'] = df_pol_sh1['pollinator_group'].replace('HB', 'Honey Bee')\n",
    "df_pol_sh1['pollinator_group'] = df_pol_sh1['pollinator_group'].replace('BVO', 'Bumble Bee')\n",
    "df_pol_sh1['pollinator_group'] = df_pol_sh1['pollinator_group'].replace('HF', 'Hover Fly')\n",
    "df_pol_sh1['pollinator_group'] = df_pol_sh1['pollinator_group'].replace('SB', 'Sweat Bee')\n",
    "df_pol_sh1['pollinator_group'] = df_pol_sh1['pollinator_group'].replace('BFL', 'Bumble Bee')\n",
    "df_pol_sh1['pollinator_group'] = df_pol_sh1['pollinator_group'].replace('BI', 'Bumble Bee')\n",
    "df_pol_sh1['pollinator_group'] = df_pol_sh1['pollinator_group'].replace('BME', 'Bumble Bee')\n",
    "df_pol_sh1['pollinator_group'] = df_pol_sh1['pollinator_group'].replace('BMI', 'Bumble Bee')\n",
    "df_pol_sh1['pollinator_group'] = df_pol_sh1['pollinator_group'].replace('BS', 'Bumble Bee')\n",
    "df_pol_sh1['pollinator_group'] = df_pol_sh1['pollinator_group'].replace('BVO', 'Bumble Bee')\n",
    "df_pol_sh1['pollinator_group'] = df_pol_sh1['pollinator_group'].replace('BU', 'Bumble Bee')\n",
    "df_pol_sh1['pollinator_group'] = df_pol_sh1['pollinator_group'].replace('BB', 'Bumble Bee')\n",
    "df_pol_sh1['pollinator_group'] = df_pol_sh1['pollinator_group'].replace('BUT', 'Butterfly')\n",
    "df_pol_sh1['pollinator_group'] = df_pol_sh1['pollinator_group'].replace('BMI', 'Bumble Bee')\n",
    "df_pol_sh1['pollinator_group'] = df_pol_sh1['pollinator_group'].replace('LB', 'Leafcutter Bee')\n",
    "df_pol_sh1['pollinator_group'] = df_pol_sh1['pollinator_group'].replace('MB', 'Leafcutter Bee')\n",
    "df_pol_sh1['pollinator_group'] = df_pol_sh1['pollinator_group'].replace('W', 'Wasp')\n",
    "df_pol_sh1['pollinator_group'] = df_pol_sh1['pollinator_group'].replace('BF', 'Fly')\n",
    "df_pol_sh1.loc[(df_pol_sh1['pollinator'] == 'OP') & (df_pol_sh1['insect_order'] == 'diptera'), 'pollinator_group'] = 'Fly'\n",
    "df_pol_sh1.loc[(df_pol_sh1['pollinator'] == 'OP') & (df_pol_sh1['insect_order'] == 'coleoptera'), 'pollinator_group'] = 'Beetle'\n",
    "index_names = df_pol_sh1[(df_pol_sh1['pollinator_group'] == 'NI') | (df_pol_sh1['pollinator_group'] == 'OP') | (df_pol_sh1['pollinator_group'] == 'UB')].index\n",
    "df_pol_sh1.drop(index_names, inplace = True)\n"
   ]
  },
  {
   "cell_type": "code",
   "execution_count": 72,
   "id": "808242ac",
   "metadata": {},
   "outputs": [
    {
     "data": {
      "text/plain": [
       "Bumble Bee        597\n",
       "Honey Bee         581\n",
       "Hover Fly         304\n",
       "Sweat Bee         267\n",
       "Wasp               48\n",
       "Fly                46\n",
       "Leafcutter Bee     29\n",
       "Butterfly          17\n",
       "Beetle             14\n",
       "Name: pollinator_group, dtype: int64"
      ]
     },
     "execution_count": 72,
     "metadata": {},
     "output_type": "execute_result"
    }
   ],
   "source": [
    "df_pol_sh1['pollinator_group'].value_counts()"
   ]
  },
  {
   "cell_type": "code",
   "execution_count": 57,
   "id": "f757b503",
   "metadata": {},
   "outputs": [
    {
     "data": {
      "text/plain": [
       "pollinator_group  insect_order\n",
       "Beetle            coleoptera       14\n",
       "Bumble Bee        hymenoptera     596\n",
       "                  diptera           1\n",
       "Butterfly         lepidoptera      17\n",
       "Fly               diptera          46\n",
       "Honey Bee         hymenoptera     581\n",
       "Hover Fly         diptera         304\n",
       "Leafcutter Bee    hymenoptera      29\n",
       "Sweat Bee         hymenoptera     267\n",
       "Wasp              hymenoptera      48\n",
       "Name: insect_order, dtype: int64"
      ]
     },
     "execution_count": 57,
     "metadata": {},
     "output_type": "execute_result"
    }
   ],
   "source": [
    "df_pol_sh1.groupby(df_pol_sh1['pollinator_group'])['insect_order'].value_counts()"
   ]
  },
  {
   "cell_type": "code",
   "execution_count": 58,
   "id": "2d79ee82",
   "metadata": {},
   "outputs": [],
   "source": [
    "#Make a function that makes a dict of column names and their associated index from an inputed dataframe. \n",
    "def Dict_of_column_NameIndex(dataframe):\n",
    "    \n",
    "    column_names = []\n",
    "    column_index = []\n",
    "\n",
    "    for name in dataframe.columns: \n",
    "        column_names.append(name)\n",
    "    \n",
    "    for name in dataframe.columns:\n",
    "        column_index.append(dataframe.columns.get_loc(name)) \n",
    "    \n",
    "    dict_column_index = dict(zip(column_names, column_index))\n",
    "\n",
    "    return dict_column_index"
   ]
  },
  {
   "cell_type": "code",
   "execution_count": 59,
   "id": "6d248793",
   "metadata": {},
   "outputs": [
    {
     "name": "stdout",
     "output_type": "stream",
     "text": [
      "                        sample_date   0\n",
      "                     collector_name   1\n",
      "                           location   2\n",
      "                    location_number   3\n",
      "                  time_code (M,A,E)   4\n",
      "                       sample_start   5\n",
      "                         sample_end   6\n",
      "                            weather   7\n",
      "                       wind (km/hr)   8\n",
      "                       air_temp(C°)   9\n",
      "                     shade_coverage  10\n",
      "                     observation_id  11\n",
      "                         pollinator  12\n",
      "                       insect_order  13\n",
      "                      insect_family  14\n",
      "                       insect_genus  15\n",
      "                     insect_species  16\n",
      "                         plant_host  17\n",
      "                        plant_order  18\n",
      "                       plant_family  19\n",
      "                        plant_genus  20\n",
      "                      plant_species  21\n",
      "                        plant_color  22\n",
      "                      plant_pattern  23\n",
      "                  Photo reference #  24\n",
      "    Notes (additional observations)  25\n",
      "                        Unnamed: 26  26\n",
      "                       name_primary  27\n",
      "                     name_secondary  28\n",
      "                              final  29\n",
      "                   pollinator_group  30\n"
     ]
    }
   ],
   "source": [
    "#Run the function to create a dict. \n",
    "dict_column_index = Dict_of_column_NameIndex(df_pol_sh1)\n",
    "\n",
    "#Print the dict in an alligned format. \n",
    "for key, value in dict_column_index.items():\n",
    "    print('{: >35} {: >3}'.format(key, value))"
   ]
  },
  {
   "attachments": {},
   "cell_type": "markdown",
   "id": "bc4bfb0e",
   "metadata": {},
   "source": [
    "Figure 1: This figure takes the percentage difference of both the average number of visitations of pollinators and the mean temperature for each 7 day period from June 12 to Sept 11th. \n",
    "\n",
    "Mean visitionsation: Calucalted for each week by taking the total number of visitation for that week and dividing it \n",
    "by the total number of survey locations that were sampled in that week and does that for each week. \n",
    "\n",
    "Mean Temperature: Calulated by adding all the temperatures for a week together and then dividing it by the number of visitations. "
   ]
  },
  {
   "cell_type": "code",
   "execution_count": 60,
   "id": "50fc3f04",
   "metadata": {},
   "outputs": [],
   "source": [
    "# A function that intakes a df column and returns a list of the percent differences with the first value being \n",
    "#the baseline percentage of 100.\n",
    "\n",
    "def turn_into_percent_difference(old_series):\n",
    "    initial_value = old_series[0]\n",
    "    new_list = []\n",
    "    for index in old_series:\n",
    "        new_list.append((index/ initial_value)*100)\n",
    "    return new_list"
   ]
  },
  {
   "cell_type": "code",
   "execution_count": 61,
   "id": "416b3afe",
   "metadata": {},
   "outputs": [],
   "source": [
    "def average_per_week(request):\n",
    "\n",
    "\t# #find the total number of pollinators according to location number and time code\n",
    "\tif(request == 'average'):\n",
    "\t\tseries_mean = df_pol_sh1['binned_week'].value_counts() / df_pol_sh1.groupby('binned_week')['location_number'].nunique()\n",
    "\telse:\n",
    "\t\tdf_pol_sh1_request = df_pol_sh1[(df_pol_sh1['pollinator_group'] == request)]\n",
    "\t\tseries_mean = df_pol_sh1['binned_week'].value_counts() / df_pol_sh1.groupby('binned_week')['location_number'].nunique()\n",
    "\t\n",
    "\t#Creating bins, each bin will be a week starting on May 16, 2022, and going for 18 weeks. \n",
    "\tbins = pd.date_range(start='2022-05-15', freq='1W', periods=18)\n",
    "\n",
    "\t#Creating A column with the binned categorization. \n",
    "\tdf_pol_sh1['binned_week'] = pd.cut(df_pol_sh1['sample_date'], bins = bins)\n",
    "\n",
    "\t#Creating series weekly bins, with each bin having an average of the total pollinator \n",
    "\t#visitation for each week, divided by the total number locations that were surveyed for each week.\n",
    "\tseries_mean = df_pol_sh1['binned_week'].value_counts() / df_pol_sh1.groupby('binned_week')['location_number'].nunique()\n",
    "\n",
    "\t#Gets the mean temperature per week and turns it into a series. \n",
    "\tseries_mean_temp = df_pol_sh1.groupby('binned_week')['air_temp(C°)'].mean()\n",
    "\n",
    "\tdf_mean = pd.DataFrame(series_mean)\n",
    "\tdf_mean_temp = pd.DataFrame(series_mean_temp)\n",
    "\n",
    "\t# Conveting the series into dataframes and while not including the first 4 weeks. \n",
    "\n",
    "\tdf_mean['Abundance_percentage'] = turn_into_percent_difference(df_mean[0])\n",
    "\tdf_mean['Temp_percentage'] = turn_into_percent_difference(df_mean_temp['air_temp(C°)'])\n",
    "\n",
    "\t#Dropping the original mean column. \n",
    "\n",
    "\tdf_mean = df_mean.drop(0, axis=1)\n",
    "\n",
    "\t#Adding a new index column that is a single data format instead of a data range and \n",
    "\t# converting it to a string of Mon, day, year format. \n",
    "\n",
    "\tdf_mean['date'] = bins[1:]\n",
    "\tdf_mean.set_index([\"date\"],inplace=True)\n",
    "\tdf_mean.index = df_mean.index.strftime(\"%b %d, %Y\")\n",
    "\n",
    "\t#Plotting both percentage difference of visitations and temperature of weeks. \n",
    "\n",
    "\tfig, ax = plt.subplots()\n",
    "\tax.plot(df_mean.index, df_mean['Abundance_percentage'], linewidth=3, color='#63B7B7')\n",
    "\tax.plot(df_mean.index, df_mean['Temp_percentage'], linewidth=3, color='#FF6961')\n",
    "\tplt.xticks(rotation = 60, horizontalalignment='right')\n",
    "\tax.legend(['Visitations', 'Temperature'])\n",
    "\tax.set_ylabel('Percent Difference (%)')\n",
    "\tax.set_xlabel('Week')\n",
    "\tax.set_title('Percent Difference of Average Visition Number and \\n Temperature For Each Week Between June 12 and September 11th.',\n",
    "\t\t\t\tfontname = 'Georgia', \n",
    "\t\t\t\tfontsize= 16, \n",
    "\t\t\t\tpad=30)\n",
    "\tax.grid()\n",
    "\t#ax.tick_params(axis='both', length = 10, width = 2)\n",
    "\t#yticks = np.linspace(0, 220, num=12)\n",
    "\t#ax.set_yticks(yticks)\n",
    "\tplt.show()"
   ]
  },
  {
   "cell_type": "code",
   "execution_count": 62,
   "metadata": {},
   "outputs": [
    {
     "data": {
      "text/html": [
       "<div>\n",
       "<style scoped>\n",
       "    .dataframe tbody tr th:only-of-type {\n",
       "        vertical-align: middle;\n",
       "    }\n",
       "\n",
       "    .dataframe tbody tr th {\n",
       "        vertical-align: top;\n",
       "    }\n",
       "\n",
       "    .dataframe thead th {\n",
       "        text-align: right;\n",
       "    }\n",
       "</style>\n",
       "<table border=\"1\" class=\"dataframe\">\n",
       "  <thead>\n",
       "    <tr style=\"text-align: right;\">\n",
       "      <th></th>\n",
       "      <th></th>\n",
       "      <th>0</th>\n",
       "    </tr>\n",
       "    <tr>\n",
       "      <th>location</th>\n",
       "      <th>shade_coverage</th>\n",
       "      <th></th>\n",
       "    </tr>\n",
       "  </thead>\n",
       "  <tbody>\n",
       "    <tr>\n",
       "      <th rowspan=\"4\" valign=\"top\">Community_Garden</th>\n",
       "      <th>no_shade</th>\n",
       "      <td>169</td>\n",
       "    </tr>\n",
       "    <tr>\n",
       "      <th>partly_shade</th>\n",
       "      <td>151</td>\n",
       "    </tr>\n",
       "    <tr>\n",
       "      <th>full_shade</th>\n",
       "      <td>110</td>\n",
       "    </tr>\n",
       "    <tr>\n",
       "      <th>mostly_shade</th>\n",
       "      <td>63</td>\n",
       "    </tr>\n",
       "    <tr>\n",
       "      <th rowspan=\"3\" valign=\"top\">Library</th>\n",
       "      <th>partly_shade</th>\n",
       "      <td>143</td>\n",
       "    </tr>\n",
       "    <tr>\n",
       "      <th>no_shade</th>\n",
       "      <td>86</td>\n",
       "    </tr>\n",
       "    <tr>\n",
       "      <th>mostly_shade</th>\n",
       "      <td>81</td>\n",
       "    </tr>\n",
       "    <tr>\n",
       "      <th rowspan=\"2\" valign=\"top\">Student_Union</th>\n",
       "      <th>no_shade</th>\n",
       "      <td>528</td>\n",
       "    </tr>\n",
       "    <tr>\n",
       "      <th>mostly_shade</th>\n",
       "      <td>40</td>\n",
       "    </tr>\n",
       "  </tbody>\n",
       "</table>\n",
       "</div>"
      ],
      "text/plain": [
       "                                   0\n",
       "location         shade_coverage     \n",
       "Community_Garden no_shade        169\n",
       "                 partly_shade    151\n",
       "                 full_shade      110\n",
       "                 mostly_shade     63\n",
       "Library          partly_shade    143\n",
       "                 no_shade         86\n",
       "                 mostly_shade     81\n",
       "Student_Union    no_shade        528\n",
       "                 mostly_shade     40"
      ]
     },
     "execution_count": 62,
     "metadata": {},
     "output_type": "execute_result"
    }
   ],
   "source": [
    "df_shade_pol_abundance_less24= df_pol_sh1[df_pol_sh1['air_temp(C°)'] < 24]\n",
    "df_shade_pol_abundance_less24 = pd.DataFrame(df_shade_pol_abundance_less24.groupby('location')[['shade_coverage', 'location']].value_counts())\n",
    "df_shade_pol_abundance_less24"
   ]
  },
  {
   "cell_type": "code",
   "execution_count": 63,
   "id": "56bedcc0",
   "metadata": {},
   "outputs": [
    {
     "data": {
      "text/html": [
       "<div>\n",
       "<style scoped>\n",
       "    .dataframe tbody tr th:only-of-type {\n",
       "        vertical-align: middle;\n",
       "    }\n",
       "\n",
       "    .dataframe tbody tr th {\n",
       "        vertical-align: top;\n",
       "    }\n",
       "\n",
       "    .dataframe thead th {\n",
       "        text-align: right;\n",
       "    }\n",
       "</style>\n",
       "<table border=\"1\" class=\"dataframe\">\n",
       "  <thead>\n",
       "    <tr style=\"text-align: right;\">\n",
       "      <th></th>\n",
       "      <th></th>\n",
       "      <th>0</th>\n",
       "    </tr>\n",
       "    <tr>\n",
       "      <th>location</th>\n",
       "      <th>shade_coverage</th>\n",
       "      <th></th>\n",
       "    </tr>\n",
       "  </thead>\n",
       "  <tbody>\n",
       "    <tr>\n",
       "      <th rowspan=\"4\" valign=\"top\">Community_Garden</th>\n",
       "      <th>partly_shade</th>\n",
       "      <td>143</td>\n",
       "    </tr>\n",
       "    <tr>\n",
       "      <th>no_shade</th>\n",
       "      <td>72</td>\n",
       "    </tr>\n",
       "    <tr>\n",
       "      <th>mostly_shade</th>\n",
       "      <td>35</td>\n",
       "    </tr>\n",
       "    <tr>\n",
       "      <th>full_shade</th>\n",
       "      <td>20</td>\n",
       "    </tr>\n",
       "    <tr>\n",
       "      <th rowspan=\"3\" valign=\"top\">Library</th>\n",
       "      <th>partly_shade</th>\n",
       "      <td>41</td>\n",
       "    </tr>\n",
       "    <tr>\n",
       "      <th>mostly_shade</th>\n",
       "      <td>39</td>\n",
       "    </tr>\n",
       "    <tr>\n",
       "      <th>no_shade</th>\n",
       "      <td>2</td>\n",
       "    </tr>\n",
       "    <tr>\n",
       "      <th>Student_Union</th>\n",
       "      <th>no_shade</th>\n",
       "      <td>180</td>\n",
       "    </tr>\n",
       "  </tbody>\n",
       "</table>\n",
       "</div>"
      ],
      "text/plain": [
       "                                   0\n",
       "location         shade_coverage     \n",
       "Community_Garden partly_shade    143\n",
       "                 no_shade         72\n",
       "                 mostly_shade     35\n",
       "                 full_shade       20\n",
       "Library          partly_shade     41\n",
       "                 mostly_shade     39\n",
       "                 no_shade          2\n",
       "Student_Union    no_shade        180"
      ]
     },
     "execution_count": 63,
     "metadata": {},
     "output_type": "execute_result"
    }
   ],
   "source": [
    "df_shade_pol_abundance_greatEqual24= df_pol_sh1[df_pol_sh1['air_temp(C°)'] >= 24]\n",
    "df_shade_pol_abundance_greatEqual24 = pd.DataFrame(df_shade_pol_abundance_greatEqual24.groupby('location')[['shade_coverage', 'location']].value_counts(dropna=False))\n",
    "df_shade_pol_abundance_greatEqual24"
   ]
  },
  {
   "cell_type": "code",
   "execution_count": 64,
   "id": "46445e4d",
   "metadata": {},
   "outputs": [],
   "source": [
    "df_shade_pol_abundance_greatEqual24 = df_shade_pol_abundance_greatEqual24.unstack()\n",
    "df_shade_pol_abundance_less24 = df_shade_pol_abundance_less24.unstack()\n",
    "df_shade_pol_abundance_less24 = df_shade_pol_abundance_less24.fillna(0)\n"
   ]
  },
  {
   "cell_type": "code",
   "execution_count": 65,
   "id": "922b0b71",
   "metadata": {},
   "outputs": [
    {
     "data": {
      "text/html": [
       "<div>\n",
       "<style scoped>\n",
       "    .dataframe tbody tr th:only-of-type {\n",
       "        vertical-align: middle;\n",
       "    }\n",
       "\n",
       "    .dataframe tbody tr th {\n",
       "        vertical-align: top;\n",
       "    }\n",
       "\n",
       "    .dataframe thead tr th {\n",
       "        text-align: left;\n",
       "    }\n",
       "\n",
       "    .dataframe thead tr:last-of-type th {\n",
       "        text-align: right;\n",
       "    }\n",
       "</style>\n",
       "<table border=\"1\" class=\"dataframe\">\n",
       "  <thead>\n",
       "    <tr>\n",
       "      <th></th>\n",
       "      <th colspan=\"4\" halign=\"left\">0</th>\n",
       "    </tr>\n",
       "    <tr>\n",
       "      <th>shade_coverage</th>\n",
       "      <th>full_shade</th>\n",
       "      <th>mostly_shade</th>\n",
       "      <th>no_shade</th>\n",
       "      <th>partly_shade</th>\n",
       "    </tr>\n",
       "    <tr>\n",
       "      <th>location</th>\n",
       "      <th></th>\n",
       "      <th></th>\n",
       "      <th></th>\n",
       "      <th></th>\n",
       "    </tr>\n",
       "  </thead>\n",
       "  <tbody>\n",
       "    <tr>\n",
       "      <th>Community_Garden</th>\n",
       "      <td>110.0</td>\n",
       "      <td>63.0</td>\n",
       "      <td>169.0</td>\n",
       "      <td>151.0</td>\n",
       "    </tr>\n",
       "    <tr>\n",
       "      <th>Library</th>\n",
       "      <td>0.0</td>\n",
       "      <td>81.0</td>\n",
       "      <td>86.0</td>\n",
       "      <td>143.0</td>\n",
       "    </tr>\n",
       "    <tr>\n",
       "      <th>Student_Union</th>\n",
       "      <td>0.0</td>\n",
       "      <td>40.0</td>\n",
       "      <td>528.0</td>\n",
       "      <td>0.0</td>\n",
       "    </tr>\n",
       "  </tbody>\n",
       "</table>\n",
       "</div>"
      ],
      "text/plain": [
       "                          0                                   \n",
       "shade_coverage   full_shade mostly_shade no_shade partly_shade\n",
       "location                                                      \n",
       "Community_Garden      110.0         63.0    169.0        151.0\n",
       "Library                 0.0         81.0     86.0        143.0\n",
       "Student_Union           0.0         40.0    528.0          0.0"
      ]
     },
     "execution_count": 65,
     "metadata": {},
     "output_type": "execute_result"
    }
   ],
   "source": [
    "df_shade_pol_abundance_less24"
   ]
  },
  {
   "cell_type": "code",
   "execution_count": 66,
   "id": "79184183",
   "metadata": {},
   "outputs": [],
   "source": [
    "#pd.DataFrame(df_shade_pol_abundance_less24)"
   ]
  },
  {
   "cell_type": "code",
   "execution_count": 67,
   "id": "1177e455",
   "metadata": {},
   "outputs": [
    {
     "data": {
      "text/plain": [
       "<Axes: xlabel='location'>"
      ]
     },
     "execution_count": 67,
     "metadata": {},
     "output_type": "execute_result"
    },
    {
     "data": {
      "image/png": "[encoded data removed]",
      "text/plain": [
       "<Figure size 640x480 with 1 Axes>"
      ]
     },
     "metadata": {},
     "output_type": "display_data"
    }
   ],
   "source": [
    "df_shade_pol_abundance_greatEqual24.plot(kind='bar')"
   ]
  },
  {
   "cell_type": "code",
   "execution_count": 68,
   "id": "ec5521aa",
   "metadata": {},
   "outputs": [
    {
     "data": {
      "text/plain": [
       "<Axes: xlabel='location'>"
      ]
     },
     "execution_count": 68,
     "metadata": {},
     "output_type": "execute_result"
    },
    {
     "data": {
      "image/png": "[encoded data removed]",
      "text/plain": [
       "<Figure size 640x480 with 1 Axes>"
      ]
     },
     "metadata": {},
     "output_type": "display_data"
    }
   ],
   "source": [
    "df_shade_pol_abundance_less24.plot(kind='bar')"
   ]
  },
  {
   "cell_type": "code",
   "execution_count": 69,
   "id": "1c605598",
   "metadata": {},
   "outputs": [],
   "source": [
    "import plotly.express as px\n",
    "\n",
    "import ipywidgets as widgets\n",
    "import datetime\n",
    "import calendar\n",
    "\n",
    "#from ipywidgets import interact\n",
    "#%matplotlib widget\n",
    "import seaborn as sb"
   ]
  },
  {
   "cell_type": "code",
   "execution_count": 71,
   "id": "1364900f",
   "metadata": {},
   "outputs": [
    {
     "ename": "KeyError",
     "evalue": "'binned_week'",
     "output_type": "error",
     "traceback": [
      "\u001b[1;31m---------------------------------------------------------------------------\u001b[0m",
      "\u001b[1;31mKeyError\u001b[0m                                  Traceback (most recent call last)",
      "File \u001b[1;32m~\\AppData\\Local\\Packages\\PythonSoftwareFoundation.Python.3.10_qbz5n2kfra8p0\\LocalCache\\local-packages\\Python310\\site-packages\\pandas\\core\\indexes\\base.py:3802\u001b[0m, in \u001b[0;36mIndex.get_loc\u001b[1;34m(self, key, method, tolerance)\u001b[0m\n\u001b[0;32m   3801\u001b[0m \u001b[39mtry\u001b[39;00m:\n\u001b[1;32m-> 3802\u001b[0m     \u001b[39mreturn\u001b[39;00m \u001b[39mself\u001b[39;49m\u001b[39m.\u001b[39;49m_engine\u001b[39m.\u001b[39;49mget_loc(casted_key)\n\u001b[0;32m   3803\u001b[0m \u001b[39mexcept\u001b[39;00m \u001b[39mKeyError\u001b[39;00m \u001b[39mas\u001b[39;00m err:\n",
      "File \u001b[1;32m~\\AppData\\Local\\Packages\\PythonSoftwareFoundation.Python.3.10_qbz5n2kfra8p0\\LocalCache\\local-packages\\Python310\\site-packages\\pandas\\_libs\\index.pyx:138\u001b[0m, in \u001b[0;36mpandas._libs.index.IndexEngine.get_loc\u001b[1;34m()\u001b[0m\n",
      "File \u001b[1;32m~\\AppData\\Local\\Packages\\PythonSoftwareFoundation.Python.3.10_qbz5n2kfra8p0\\LocalCache\\local-packages\\Python310\\site-packages\\pandas\\_libs\\index.pyx:165\u001b[0m, in \u001b[0;36mpandas._libs.index.IndexEngine.get_loc\u001b[1;34m()\u001b[0m\n",
      "File \u001b[1;32mpandas\\_libs\\hashtable_class_helper.pxi:5745\u001b[0m, in \u001b[0;36mpandas._libs.hashtable.PyObjectHashTable.get_item\u001b[1;34m()\u001b[0m\n",
      "File \u001b[1;32mpandas\\_libs\\hashtable_class_helper.pxi:5753\u001b[0m, in \u001b[0;36mpandas._libs.hashtable.PyObjectHashTable.get_item\u001b[1;34m()\u001b[0m\n",
      "\u001b[1;31mKeyError\u001b[0m: 'binned_week'",
      "\nThe above exception was the direct cause of the following exception:\n",
      "\u001b[1;31mKeyError\u001b[0m                                  Traceback (most recent call last)",
      "Cell \u001b[1;32mIn[71], line 1\u001b[0m\n\u001b[1;32m----> 1\u001b[0m average_per_week(\u001b[39m'\u001b[39;49m\u001b[39mBumble Bee\u001b[39;49m\u001b[39m'\u001b[39;49m)\n",
      "Cell \u001b[1;32mIn[61], line 8\u001b[0m, in \u001b[0;36maverage_per_week\u001b[1;34m(request)\u001b[0m\n\u001b[0;32m      6\u001b[0m \u001b[39melse\u001b[39;00m:\n\u001b[0;32m      7\u001b[0m \tdf_pol_sh1_request \u001b[39m=\u001b[39m df_pol_sh1[(df_pol_sh1[\u001b[39m'\u001b[39m\u001b[39mpollinator_group\u001b[39m\u001b[39m'\u001b[39m] \u001b[39m==\u001b[39m request)]\n\u001b[1;32m----> 8\u001b[0m \tseries_mean \u001b[39m=\u001b[39m df_pol_sh1[\u001b[39m'\u001b[39;49m\u001b[39mbinned_week\u001b[39;49m\u001b[39m'\u001b[39;49m]\u001b[39m.\u001b[39mvalue_counts() \u001b[39m/\u001b[39m df_pol_sh1\u001b[39m.\u001b[39mgroupby(\u001b[39m'\u001b[39m\u001b[39mbinned_week\u001b[39m\u001b[39m'\u001b[39m)[\u001b[39m'\u001b[39m\u001b[39mlocation_number\u001b[39m\u001b[39m'\u001b[39m]\u001b[39m.\u001b[39mnunique()\n\u001b[0;32m     10\u001b[0m \u001b[39m#Creating bins, each bin will be a week starting on May 16, 2022, and going for 18 weeks. \u001b[39;00m\n\u001b[0;32m     11\u001b[0m bins \u001b[39m=\u001b[39m pd\u001b[39m.\u001b[39mdate_range(start\u001b[39m=\u001b[39m\u001b[39m'\u001b[39m\u001b[39m2022-05-15\u001b[39m\u001b[39m'\u001b[39m, freq\u001b[39m=\u001b[39m\u001b[39m'\u001b[39m\u001b[39m1W\u001b[39m\u001b[39m'\u001b[39m, periods\u001b[39m=\u001b[39m\u001b[39m18\u001b[39m)\n",
      "File \u001b[1;32m~\\AppData\\Local\\Packages\\PythonSoftwareFoundation.Python.3.10_qbz5n2kfra8p0\\LocalCache\\local-packages\\Python310\\site-packages\\pandas\\core\\frame.py:3807\u001b[0m, in \u001b[0;36mDataFrame.__getitem__\u001b[1;34m(self, key)\u001b[0m\n\u001b[0;32m   3805\u001b[0m \u001b[39mif\u001b[39;00m \u001b[39mself\u001b[39m\u001b[39m.\u001b[39mcolumns\u001b[39m.\u001b[39mnlevels \u001b[39m>\u001b[39m \u001b[39m1\u001b[39m:\n\u001b[0;32m   3806\u001b[0m     \u001b[39mreturn\u001b[39;00m \u001b[39mself\u001b[39m\u001b[39m.\u001b[39m_getitem_multilevel(key)\n\u001b[1;32m-> 3807\u001b[0m indexer \u001b[39m=\u001b[39m \u001b[39mself\u001b[39;49m\u001b[39m.\u001b[39;49mcolumns\u001b[39m.\u001b[39;49mget_loc(key)\n\u001b[0;32m   3808\u001b[0m \u001b[39mif\u001b[39;00m is_integer(indexer):\n\u001b[0;32m   3809\u001b[0m     indexer \u001b[39m=\u001b[39m [indexer]\n",
      "File \u001b[1;32m~\\AppData\\Local\\Packages\\PythonSoftwareFoundation.Python.3.10_qbz5n2kfra8p0\\LocalCache\\local-packages\\Python310\\site-packages\\pandas\\core\\indexes\\base.py:3804\u001b[0m, in \u001b[0;36mIndex.get_loc\u001b[1;34m(self, key, method, tolerance)\u001b[0m\n\u001b[0;32m   3802\u001b[0m     \u001b[39mreturn\u001b[39;00m \u001b[39mself\u001b[39m\u001b[39m.\u001b[39m_engine\u001b[39m.\u001b[39mget_loc(casted_key)\n\u001b[0;32m   3803\u001b[0m \u001b[39mexcept\u001b[39;00m \u001b[39mKeyError\u001b[39;00m \u001b[39mas\u001b[39;00m err:\n\u001b[1;32m-> 3804\u001b[0m     \u001b[39mraise\u001b[39;00m \u001b[39mKeyError\u001b[39;00m(key) \u001b[39mfrom\u001b[39;00m \u001b[39merr\u001b[39;00m\n\u001b[0;32m   3805\u001b[0m \u001b[39mexcept\u001b[39;00m \u001b[39mTypeError\u001b[39;00m:\n\u001b[0;32m   3806\u001b[0m     \u001b[39m# If we have a listlike key, _check_indexing_error will raise\u001b[39;00m\n\u001b[0;32m   3807\u001b[0m     \u001b[39m#  InvalidIndexError. Otherwise we fall through and re-raise\u001b[39;00m\n\u001b[0;32m   3808\u001b[0m     \u001b[39m#  the TypeError.\u001b[39;00m\n\u001b[0;32m   3809\u001b[0m     \u001b[39mself\u001b[39m\u001b[39m.\u001b[39m_check_indexing_error(key)\n",
      "\u001b[1;31mKeyError\u001b[0m: 'binned_week'"
     ]
    }
   ],
   "source": [
    "average_per_week('Bumble Bee')"
   ]
  },
  {
   "cell_type": "code",
   "execution_count": 70,
   "id": "fab515bb",
   "metadata": {},
   "outputs": [
    {
     "data": {
      "application/vnd.jupyter.widget-view+json": {
       "model_id": "e9e5b023cb53400a93dd31922522a061",
       "version_major": 2,
       "version_minor": 0
      },
      "text/plain": [
       "interactive(children=(Dropdown(description='request', options=('Bumble Bee', 'Fly', 'Butterfly', 'Honey Bee', …"
      ]
     },
     "metadata": {},
     "output_type": "display_data"
    },
    {
     "data": {
      "text/plain": [
       "<function __main__.average_per_week(request)>"
      ]
     },
     "execution_count": 70,
     "metadata": {},
     "output_type": "execute_result"
    }
   ],
   "source": [
    "widgets.interact(average_per_week,request = df_pol_sh1['pollinator_group'].unique())"
   ]
  },
  {
   "cell_type": "code",
   "execution_count": 25,
   "id": "310a11fb",
   "metadata": {},
   "outputs": [
    {
     "ename": "NameError",
     "evalue": "name 'average_per_week' is not defined",
     "output_type": "error",
     "traceback": [
      "\u001b[1;31m---------------------------------------------------------------------------\u001b[0m",
      "\u001b[1;31mNameError\u001b[0m                                 Traceback (most recent call last)",
      "Cell \u001b[1;32mIn[25], line 4\u001b[0m\n\u001b[0;32m      1\u001b[0m \u001b[39m#using ipywidgets\u001b[39;00m\n\u001b[0;32m      2\u001b[0m \u001b[39m#data_set, request\u001b[39;00m\n\u001b[1;32m----> 4\u001b[0m widgets\u001b[39m.\u001b[39minteract(average_per_week,request \u001b[39m=\u001b[39m df[\u001b[39m'\u001b[39m\u001b[39mpollinator\u001b[39m\u001b[39m'\u001b[39m]\u001b[39m.\u001b[39munique())\n\u001b[0;32m      6\u001b[0m \u001b[39m#create information for slider\u001b[39;00m\n\u001b[0;32m      7\u001b[0m \u001b[39m#adding widget for sliding months to get specific range of month\u001b[39;00m\n\u001b[0;32m      8\u001b[0m dates \u001b[39m=\u001b[39m df[\u001b[39m'\u001b[39m\u001b[39mdate\u001b[39m\u001b[39m'\u001b[39m]\u001b[39m.\u001b[39munique()\n",
      "\u001b[1;31mNameError\u001b[0m: name 'average_per_week' is not defined"
     ]
    }
   ],
   "source": [
    "#using ipywidgets\n",
    "#data_set, request\n",
    "\n",
    "widgets.interact(average_per_week,request = df_pol_sh1['pollinator_group'].unique())\n",
    "\n",
    "#create information for slider\n",
    "#adding widget for sliding months to get specific range of month\n",
    "dates = df_['date'].unique()\n",
    "dates = np.sort(dates)\n",
    "#print('Test Case 1: \\n',type(dates))\n",
    "#print('Test Case 2: \\n',dates)\n",
    "month = []\n",
    "for i in dates:\n",
    "    month.append(calendar.month_name[i])\n",
    "#months = [(calendar.month_name[i]) for i in dates]\n",
    "print(month)\n",
    "\n",
    "#create slider for the informtion \n",
    "widgets.SelectionRangeSlider(\n",
    "    options = month,\n",
    "    index =(0,4),\n",
    "    description = 'Months',\n",
    "    disabled = False\n",
    ")"
   ]
  },
  {
   "cell_type": "code",
   "execution_count": null,
   "id": "0dd43467",
   "metadata": {},
   "outputs": [],
   "source": []
  }
 ],
 "metadata": {
  "kernelspec": {
   "display_name": "Python 3 (ipykernel)",
   "language": "python",
   "name": "python3"
  },
  "language_info": {
   "codemirror_mode": {
    "name": "ipython",
    "version": 3
   },
   "file_extension": ".py",
   "mimetype": "text/x-python",
   "name": "python",
   "nbconvert_exporter": "python",
   "pygments_lexer": "ipython3",
   "version": "3.10.10"
  }
 },
 "nbformat": 4,
 "nbformat_minor": 5
}
