{
 "cells": [
  {
   "cell_type": "code",
   "execution_count": 49,
   "id": "05502ea3",
   "metadata": {},
   "outputs": [],
   "source": [
    "#Import the neccassary libraries. \n",
    "import pandas as pd\n",
    "import numpy as np\n",
    "import seaborn as sns\n",
    "import matplotlib.pyplot as plt\n",
    "import plotly.graph_objects as go\n",
    "import plotly.express as px\n",
    "from ipywidgets import widgets\n",
    "from ipywidgets import interact"
   ]
  },
  {
   "cell_type": "code",
   "execution_count": 50,
   "id": "a266aba4",
   "metadata": {},
   "outputs": [],
   "source": [
    "#Import the excel file.\n",
    "pol_data = pd.ExcelFile('Project Pollinator Count Data Collection Sheet 2022.xlsx')\n",
    "\n",
    "#Select the sheet of interest and create a dataframe based off the sheet. \n",
    "df_pol_sh1 = pd.read_excel(pol_data, 'Summer 2022 Pollinator Data Col')\n",
    "\n",
    "df_pol_sh1.replace('total_shade', 'full_shade', inplace=True)"
   ]
  },
  {
   "cell_type": "code",
   "execution_count": 51,
   "id": "c27ed4c4",
   "metadata": {},
   "outputs": [],
   "source": [
    "df_pol_sh1['pollinator_group'] = df_pol_sh1['pollinator']"
   ]
  },
  {
   "cell_type": "code",
   "execution_count": 52,
   "id": "033b9ff5",
   "metadata": {},
   "outputs": [],
   "source": [
    "#Cleaning Up the data and making a new column called \"pollinator_group\", that then is designated based \n",
    "# on one of the 9 codes (Honey Bee, Bumble Bee, Sweat Bee, Hover Fly, Wasp, Leafcutter Bee, Fly, or Butterfly)\n",
    "\n",
    "df_pol_sh1['pollinator_group'] = df_pol_sh1['pollinator_group'].replace('HB', 'Honey Bee')\n",
    "df_pol_sh1['pollinator_group'] = df_pol_sh1['pollinator_group'].replace('BVO', 'Bumble Bee')\n",
    "df_pol_sh1['pollinator_group'] = df_pol_sh1['pollinator_group'].replace('HF', 'Hover Fly')\n",
    "df_pol_sh1['pollinator_group'] = df_pol_sh1['pollinator_group'].replace('SB', 'Sweat Bee')\n",
    "df_pol_sh1['pollinator_group'] = df_pol_sh1['pollinator_group'].replace('BFL', 'Bumble Bee')\n",
    "df_pol_sh1['pollinator_group'] = df_pol_sh1['pollinator_group'].replace('BI', 'Bumble Bee')\n",
    "df_pol_sh1['pollinator_group'] = df_pol_sh1['pollinator_group'].replace('BME', 'Bumble Bee')\n",
    "df_pol_sh1['pollinator_group'] = df_pol_sh1['pollinator_group'].replace('BMI', 'Bumble Bee')\n",
    "df_pol_sh1['pollinator_group'] = df_pol_sh1['pollinator_group'].replace('BS', 'Bumble Bee')\n",
    "df_pol_sh1['pollinator_group'] = df_pol_sh1['pollinator_group'].replace('BVO', 'Bumble Bee')\n",
    "df_pol_sh1['pollinator_group'] = df_pol_sh1['pollinator_group'].replace('BU', 'Bumble Bee')\n",
    "df_pol_sh1['pollinator_group'] = df_pol_sh1['pollinator_group'].replace('BB', 'Bumble Bee')\n",
    "df_pol_sh1['pollinator_group'] = df_pol_sh1['pollinator_group'].replace('BUT', 'Butterfly')\n",
    "df_pol_sh1['pollinator_group'] = df_pol_sh1['pollinator_group'].replace('BMI', 'Bumble Bee')\n",
    "df_pol_sh1['pollinator_group'] = df_pol_sh1['pollinator_group'].replace('LB', 'Leafcutter Bee')\n",
    "df_pol_sh1['pollinator_group'] = df_pol_sh1['pollinator_group'].replace('MB', 'Leafcutter Bee')\n",
    "df_pol_sh1['pollinator_group'] = df_pol_sh1['pollinator_group'].replace('W', 'Wasp')\n",
    "df_pol_sh1['pollinator_group'] = df_pol_sh1['pollinator_group'].replace('BF', 'Fly')\n",
    "\n",
    "#The OP's need additional sorting. \n",
    "\n",
    "df_pol_sh1.loc[(df_pol_sh1['pollinator'] == 'OP') & (df_pol_sh1['insect_order'] == 'diptera'), 'pollinator_group'] = 'Fly'\n",
    "df_pol_sh1.loc[(df_pol_sh1['pollinator'] == 'OP') & (df_pol_sh1['insect_order'] == 'coleoptera'), 'pollinator_group'] = 'Beetle'\n",
    "\n",
    "#Getting rid of any of the left over data points that can't be categorized into the above codes. \n",
    "\n",
    "index_names = df_pol_sh1[(df_pol_sh1['pollinator_group'] == 'NI') | (df_pol_sh1['pollinator_group'] == 'OP') | (df_pol_sh1['pollinator_group'] == 'UB')].index\n",
    "df_pol_sh1.drop(index_names, inplace = True)\n"
   ]
  },
  {
   "cell_type": "code",
   "execution_count": 53,
   "id": "2d79ee82",
   "metadata": {},
   "outputs": [],
   "source": [
    "#Make a function that makes a dict of column names and their associated index from an inputed dataframe. \n",
    "def Dict_of_column_NameIndex(dataframe):\n",
    "    \n",
    "    column_names = []\n",
    "    column_index = []\n",
    "\n",
    "    for name in dataframe.columns: \n",
    "        column_names.append(name)\n",
    "    \n",
    "    for name in dataframe.columns:\n",
    "        column_index.append(dataframe.columns.get_loc(name)) \n",
    "    \n",
    "    dict_column_index = dict(zip(column_names, column_index))\n",
    "\n",
    "    return dict_column_index"
   ]
  },
  {
   "cell_type": "code",
   "execution_count": 54,
   "id": "6d248793",
   "metadata": {},
   "outputs": [
    {
     "name": "stdout",
     "output_type": "stream",
     "text": [
      "                        sample_date   0\n",
      "                     collector_name   1\n",
      "                           location   2\n",
      "                    location_number   3\n",
      "                  time_code (M,A,E)   4\n",
      "                       sample_start   5\n",
      "                         sample_end   6\n",
      "                            weather   7\n",
      "                       wind (km/hr)   8\n",
      "                       air_temp(C°)   9\n",
      "                     shade_coverage  10\n",
      "                     observation_id  11\n",
      "                         pollinator  12\n",
      "                       insect_order  13\n",
      "                      insect_family  14\n",
      "                       insect_genus  15\n",
      "                     insect_species  16\n",
      "                         plant_host  17\n",
      "                        plant_order  18\n",
      "                       plant_family  19\n",
      "                        plant_genus  20\n",
      "                      plant_species  21\n",
      "                        plant_color  22\n",
      "                      plant_pattern  23\n",
      "                  Photo reference #  24\n",
      "    Notes (additional observations)  25\n",
      "                        Unnamed: 26  26\n",
      "                       name_primary  27\n",
      "                     name_secondary  28\n",
      "                              final  29\n",
      "                   pollinator_group  30\n"
     ]
    }
   ],
   "source": [
    "#Run the function to create a dict. \n",
    "dict_column_index = Dict_of_column_NameIndex(df_pol_sh1)\n",
    "\n",
    "#Print the dict in an alligned format. \n",
    "for key, value in dict_column_index.items():\n",
    "    print('{: >35} {: >3}'.format(key, value))"
   ]
  },
  {
   "attachments": {},
   "cell_type": "markdown",
   "id": "bc4bfb0e",
   "metadata": {},
   "source": [
    "Figure 1: This figure takes the percentage difference of both the average number of visitations of pollinators and the mean temperature for each 7 day period from June 12 to Sept 11th. \n",
    "\n",
    "Mean visitionsation: Calucalted for each week by taking the total number of visitation for that week and dividing it \n",
    "by the total number of survey locations that were sampled in that week and does that for each week. \n",
    "\n",
    "Mean Temperature: Calulated by adding all the temperatures for a week together and then dividing it by the number of visitations. "
   ]
  },
  {
   "cell_type": "code",
   "execution_count": 55,
   "id": "50fc3f04",
   "metadata": {},
   "outputs": [],
   "source": [
    "# A function that intakes a df column and returns a list of the percent differences with the first value being \n",
    "#the baseline percentage of 100.\n",
    "\n",
    "def turn_into_percent_difference(old_series):\n",
    "    initial_value = old_series[0]\n",
    "    new_list = []\n",
    "    for index in old_series:\n",
    "        new_list.append((index/ initial_value)*100)\n",
    "    return new_list"
   ]
  },
  {
   "cell_type": "code",
   "execution_count": 56,
   "id": "416b3afe",
   "metadata": {},
   "outputs": [],
   "source": [
    "def average_per_week(Request):\n",
    "\n",
    "\t#Creating bins, each bin will be a week starting on May 16, 2022, and going for 18 weeks. \n",
    "\tbins = pd.date_range(start='2022-05-15', freq='1W', periods=18)\n",
    "\n",
    "\t#Creating A column with the binned categorization. \n",
    "\tdf_pol_sh1['binned_week'] = pd.cut(df_pol_sh1['sample_date'], bins = bins)\n",
    "\n",
    "\t# #find the total number of pollinators according to location number and time code\n",
    "\tif(Request == 'Average'):\n",
    "\t\tseries_mean = df_pol_sh1['binned_week'].value_counts() / df_pol_sh1.groupby('binned_week')['location_number'].nunique()\n",
    "\telse:\n",
    "\t\tdf_pol_sh1_request = df_pol_sh1[(df_pol_sh1['pollinator_group'] == Request)]\n",
    "\t\tseries_mean = df_pol_sh1_request ['binned_week'].value_counts() / df_pol_sh1_request .groupby('binned_week')['location_number'].nunique()\n",
    "\n",
    "\t#Gets the mean temperature per week and turns it into a series. \n",
    "\tseries_mean_temp = df_pol_sh1.groupby('binned_week')['air_temp(C°)'].mean()\n",
    "\n",
    "\tdf_mean = pd.DataFrame(series_mean)\n",
    "\tdf_mean_temp = pd.DataFrame(series_mean_temp)\n",
    "\tdf_mean.fillna(1, inplace=True)\n",
    "\n",
    "\t# Conveting the series into dataframes and while not including the first 4 weeks. \n",
    "\n",
    "\tdf_mean['Abundance_percentage'] = turn_into_percent_difference(df_mean[0])\n",
    "\tdf_mean['Temp_percentage'] = turn_into_percent_difference(df_mean_temp['air_temp(C°)'])\n",
    "\n",
    "\t#Dropping the original mean column. \n",
    "\n",
    "\tdf_mean = df_mean.drop(0, axis=1)\n",
    "\n",
    "\t#Adding a new index column that is a single data format instead of a data range and \n",
    "\t# converting it to a string of Mon, day, year format. \n",
    "\n",
    "\tdf_mean['date'] = bins[1:]\n",
    "\tdf_mean.set_index([\"date\"],inplace=True)\n",
    "\tdf_mean.index = df_mean.index.strftime(\"%b %d, %Y\")\n",
    "\n",
    "\t#Plotting both percentage difference of visitations and temperature of weeks. \n",
    "\n",
    "\tfig, ax = plt.subplots()\n",
    "\tax.plot(df_mean.index, df_mean['Abundance_percentage'], linewidth=3, color='#63B7B7')\n",
    "\tax.plot(df_mean.index, df_mean['Temp_percentage'], linewidth=3, color='#FF6961')\n",
    "\tplt.xticks(rotation = 60, horizontalalignment='right')\n",
    "\tax.legend(['Visitations', 'Temperature'])\n",
    "\tax.set_ylabel('Percent Difference (%)')\n",
    "\tax.set_xlabel('Week')\n",
    "\tax.set_title('Percent Difference of Average Visition Number and \\n Temperature For Each Week Between June 12 and September 11th.',\n",
    "\t\t\t\tfontname = 'Georgia', \n",
    "\t\t\t\tfontsize= 16, \n",
    "\t\t\t\tpad=30)\n",
    "\tax.grid()\n",
    "\n",
    "\tplt.show()"
   ]
  },
  {
   "attachments": {},
   "cell_type": "markdown",
   "id": "bb8a6e3b",
   "metadata": {},
   "source": [
    "Figure 2: This figure takes the abundances of each of the different shade types (Full Shade, Mostly Shade, Mostly Sun, Full Sun), and gives the abundaces for each for the three gardens. \n",
    "\n",
    "In addtion two versions of this figure were created. \n",
    "- One for all visitations when the temperature was greater than or equal to 24 degrees celsius. \n",
    "- The other for all visitations when the temperature was less than 24 degrees celsius "
   ]
  },
  {
   "cell_type": "code",
   "execution_count": 68,
   "metadata": {},
   "outputs": [
    {
     "data": {
      "text/html": [
       "<div>\n",
       "<style scoped>\n",
       "    .dataframe tbody tr th:only-of-type {\n",
       "        vertical-align: middle;\n",
       "    }\n",
       "\n",
       "    .dataframe tbody tr th {\n",
       "        vertical-align: top;\n",
       "    }\n",
       "\n",
       "    .dataframe thead th {\n",
       "        text-align: right;\n",
       "    }\n",
       "</style>\n",
       "<table border=\"1\" class=\"dataframe\">\n",
       "  <thead>\n",
       "    <tr style=\"text-align: right;\">\n",
       "      <th></th>\n",
       "      <th>location</th>\n",
       "      <th>greatEqual24</th>\n",
       "      <th>less24</th>\n",
       "    </tr>\n",
       "  </thead>\n",
       "  <tbody>\n",
       "    <tr>\n",
       "      <th>Student_Union</th>\n",
       "      <td>568</td>\n",
       "      <td>180</td>\n",
       "      <td>568</td>\n",
       "    </tr>\n",
       "    <tr>\n",
       "      <th>Community_Garden</th>\n",
       "      <td>493</td>\n",
       "      <td>270</td>\n",
       "      <td>493</td>\n",
       "    </tr>\n",
       "    <tr>\n",
       "      <th>Library</th>\n",
       "      <td>310</td>\n",
       "      <td>82</td>\n",
       "      <td>310</td>\n",
       "    </tr>\n",
       "  </tbody>\n",
       "</table>\n",
       "</div>"
      ],
      "text/plain": [
       "                  location  greatEqual24  less24\n",
       "Student_Union          568           180     568\n",
       "Community_Garden       493           270     493\n",
       "Library                310            82     310"
      ]
     },
     "execution_count": 68,
     "metadata": {},
     "output_type": "execute_result"
    }
   ],
   "source": [
    "#Grouping the visitations based on temperature and then making new smaller df's with only the shade coverage and location information. \n",
    "\n",
    "df_shade_pol_abundance_less24= df_pol_sh1[df_pol_sh1['air_temp(C°)'] < 24]\n",
    "df_shade_pol_abundance_greatEqual24= df_pol_sh1[df_pol_sh1['air_temp(C°)'] >= 24]\n",
    "\n",
    "df_shade_pol_counts['less24'] = pd.DataFrame(df_shade_pol_abundance_less24['location'].value_counts())\n",
    "df_shade_pol_counts['greatEqual24'] = pd.DataFrame(df_shade_pol_abundance_greatEqual24['location'].value_counts())\n",
    "df_shade_pol_counts\n"
   ]
  },
  {
   "cell_type": "code",
   "execution_count": 62,
   "id": "fa4f74b4",
   "metadata": {},
   "outputs": [],
   "source": [
    "\n",
    "df_shade_pol_abundance_less24 = pd.DataFrame(df_shade_pol_abundance_less24.groupby('location')[['shade_coverage', 'location']].value_counts())\n",
    "df_shade_pol_abundance_greatEqual24 = pd.DataFrame(df_shade_pol_abundance_greatEqual24.groupby('location')[['shade_coverage', 'location']].value_counts())\n",
    "\n",
    "df_shade_pol_abundance_greatEqual24 = df_shade_pol_abundance_greatEqual24.unstack().fillna(0)\n",
    "df_shade_pol_abundance_less24 = df_shade_pol_abundance_less24.unstack().fillna(0)"
   ]
  },
  {
   "cell_type": "code",
   "execution_count": 63,
   "id": "1177e455",
   "metadata": {},
   "outputs": [
    {
     "data": {
      "image/png": "[encoded data removed]",
      "text/plain": [
       "<Figure size 1300x500 with 2 Axes>"
      ]
     },
     "metadata": {},
     "output_type": "display_data"
    }
   ],
   "source": [
    "fig, ax =plt.subplots(1, 2, figsize=(13, 5))\n",
    "df_shade_pol_abundance_greatEqual24.plot(kind='bar', ax=ax[0], color = ['#63B7B7', '#8ED9D1', '#D14841', '#FF6961'], width=.8)\n",
    "df_shade_pol_abundance_less24.plot(kind='bar', ax=ax[1], color = ['#63B7B7', '#8ED9D1', '#D14841', '#FF6961'], width=.8)\n",
    "\n",
    "            \n",
    "ax[0].set_title('Counts For Shade Type When the \\n Temperature Was ' + r\"$\\bf{\" + \"Greater \" + \"}$\" + ' Than \\n 24 Degrees',\n",
    "                fontname = 'Georgia', \n",
    "\t\t\t\tfontsize= 17, \n",
    "                pad=20)\n",
    "ax[1].set_title('Counts For Shade Type When the \\n Temperature Was ' + r\"$\\bf{\" + \"Less \" + \"}$\" + ' Than \\n 24 Degrees', \n",
    "                fontname = 'Georgia', \n",
    "\t\t\t\tfontsize= 17, \n",
    "\t\t\t\tpad=20)\n",
    "\n",
    "for axes in ax:\n",
    "    axes.legend(['Full Shade', 'Mostly Shade', 'Full Sun', \"Mostly Sun\"], loc='upper center')\n",
    "    axes.set_xlabel('')\n",
    "    axes.set_xticklabels(['Community Garden', 'Library', 'Student Union'], rotation=60, horizontalalignment='right', fontsize=10)\n",
    "    axes.set_ylabel('Abundance', \n",
    "                    fontname = 'Georgia', \n",
    "                    fontsize= 14)\n",
    "    for p in axes.containers:\n",
    "        for bar in p:\n",
    "            axes.text(bar.get_x() + bar.get_width() / 2., bar.get_height(), '%d' % int(bar.get_height()), \n",
    "                    fontsize=8, color='black', ha='center', va='bottom')"
   ]
  },
  {
   "cell_type": "code",
   "execution_count": 24,
   "id": "fb333b10",
   "metadata": {},
   "outputs": [
    {
     "data": {
      "application/vnd.jupyter.widget-view+json": {
       "model_id": "bc1a7762a12a4d788fe0fe3f1aca766b",
       "version_major": 2,
       "version_minor": 0
      },
      "text/plain": [
       "interactive(children=(Dropdown(description='Request', options=('Bumble Bee', 'Fly', 'Butterfly', 'Honey Bee', …"
      ]
     },
     "metadata": {},
     "output_type": "display_data"
    },
    {
     "data": {
      "text/plain": [
       "<function __main__.average_per_week(Request)>"
      ]
     },
     "execution_count": 24,
     "metadata": {},
     "output_type": "execute_result"
    }
   ],
   "source": []
  },
  {
   "cell_type": "code",
   "execution_count": null,
   "id": "9781babe",
   "metadata": {},
   "outputs": [],
   "source": [
    "widgets.interact(average_per_week, Request = df_pol_sh1['pollinator_group'].unique())"
   ]
  },
  {
   "cell_type": "code",
   "execution_count": null,
   "id": "325c83e6",
   "metadata": {},
   "outputs": [],
   "source": [
    "def update(change):\n",
    "    line.set_ydata(np.sin(change.new * x))\n",
    "    fig.canvas.draw()\n",
    "     \n",
    "int_slider = widgets.IntSlider(\n",
    "    value=1, \n",
    "    min=0, max=10, step=1,\n",
    "    description='$\\omega$',\n",
    "    continuous_update=False\n",
    ")\n",
    "int_slider.observe(update, 'value')\n",
    "int_slider"
   ]
  }
 ],
 "metadata": {
  "kernelspec": {
   "display_name": "Python 3 (ipykernel)",
   "language": "python",
   "name": "python3"
  },
  "language_info": {
   "codemirror_mode": {
    "name": "ipython",
    "version": 3
   },
   "file_extension": ".py",
   "mimetype": "text/x-python",
   "name": "python",
   "nbconvert_exporter": "python",
   "pygments_lexer": "ipython3",
   "version": "3.10.10"
  }
 },
 "nbformat": 4,
 "nbformat_minor": 5
}
