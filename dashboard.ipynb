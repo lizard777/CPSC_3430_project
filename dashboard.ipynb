{
 "cells": [
  {
   "cell_type": "markdown",
   "metadata": {},
   "source": [
    "Dashboard building with temperature and abudannce of specific pollinators"
   ]
  },
  {
   "cell_type": "markdown",
   "metadata": {},
   "source": [
    "import the necessary libraries"
   ]
  },
  {
   "cell_type": "code",
   "execution_count": 286,
   "metadata": {},
   "outputs": [],
   "source": [
    "import pandas as pd\n",
    "import matplotlib.pyplot as plt\n",
    "import numpy as np\n",
    "import datetime\n",
    "import warnings"
   ]
  },
  {
   "cell_type": "markdown",
   "metadata": {},
   "source": [
    "Import Data"
   ]
  },
  {
   "cell_type": "code",
   "execution_count": 287,
   "metadata": {},
   "outputs": [],
   "source": [
    "df = pd.read_csv(\"pollinator_count_data-final.csv\", sep = ',')\n",
    "y = pd.read_csv(\"plant_on_campus_frequency.csv\", sep = ',')\n",
    "#getting rid of future warning signs \n",
    "warnings.filterwarnings('ignore', category = FutureWarning)"
   ]
  },
  {
   "cell_type": "markdown",
   "metadata": {},
   "source": [
    "Clean up the imported data"
   ]
  },
  {
   "cell_type": "code",
   "execution_count": 288,
   "metadata": {},
   "outputs": [],
   "source": [
    "#want to convert acronyms to full names \n",
    "#(hoverfly, honeybee, bumblebee, sweatbee, wasp, leafcutter, fly, beatle, butterfly)\n",
    "\n",
    "def clean_data(df):\n",
    "\n",
    "    #setting to print all the rows \n",
    "    pd.set_option('display.max_rows', None)\n",
    "\n",
    "    #plants on campus data \n",
    "    df_frequency = pd.read_csv(\"plant_on_campus_frequency.csv\",sep = ',')\n",
    "\n",
    "    #convert european carder bee ( ECB), mason bee and carpenter bee to the leafcutter bee group (LF)\n",
    "    df['pollinator'] = df['pollinator'].replace(['ECB','MB','CB'],'LB')\n",
    "    #convert No information (NI) and unidentified bee (UB) to the Other pollinator group (OP)\n",
    "    df['pollinator'] = df['pollinator'].replace(['NI','UB'],'OP')\n",
    "\n",
    "    #replacing values within dataframe to favored/changed names exp. Bumble\n",
    "    df['pollinator'] = df['pollinator'].replace(['BUT'],'Butterfly')\n",
    "    df['pollinator'] = df['pollinator'].replace(['W'],'Wasp')\n",
    "    df['pollinator'] = df['pollinator'].replace(['HF'],'Hover Fly')\n",
    "    df['pollinator'] = df['pollinator'].replace(['BVO','BS','BMI','BME','BU','BI','BFL','BF','BB'],'Bumble')\n",
    "    df['pollinator'] = df['pollinator'].replace(['SB'],'Sweat')\n",
    "    df['pollinator'] = df['pollinator'].replace(['HB'],'Honey')\n",
    "    df['pollinator'] = df['pollinator'].replace(['LB'],'Leaf Cutter')\n",
    "\n",
    "    #using where statement to seperate OP to beetles and flies based on the insect order \n",
    "\n",
    "    # beetle \n",
    "    df['pollinator'] = np.where((df['pollinator'] == 'OP') & (df['insect_order'] == 'coleoptera'), 'Beetle', df['pollinator'])\n",
    "    #print(df['pollinator'])\n",
    "\n",
    "    # flies \n",
    "    df['pollinator'] =  np.where((df['pollinator'] == 'OP') & (df['insect_order'] == 'diptera'),'Fly',df['pollinator'] )\n",
    "    #print(df[['pollinator','insect_order']])\n",
    "\n",
    "    #droping all other pollinator from the data because not interested in other pollinators in data analysis\n",
    "    df = df.drop(df[df['pollinator'] == 'OP'].index)\n",
    "    #print(df[['pollinator','insect_order']])\n",
    "\n",
    "    return df"
   ]
  },
  {
   "cell_type": "code",
   "execution_count": 289,
   "metadata": {},
   "outputs": [
    {
     "name": "stdout",
     "output_type": "stream",
     "text": [
      "The individual pollinator count: \n",
      " pollinator\n",
      "BB      13\n",
      "BF       5\n",
      "BFL     82\n",
      "BI      32\n",
      "BME     33\n",
      "BMI     41\n",
      "BS      12\n",
      "BU       9\n",
      "BUT     17\n",
      "BVO    375\n",
      "HB     581\n",
      "HF     304\n",
      "LB      20\n",
      "MB       9\n",
      "NI      24\n",
      "OP      60\n",
      "SB     267\n",
      "UB       2\n",
      "W       48\n",
      "Name: pollinator, dtype: int64\n",
      "The # of total pollinators: \n",
      " 1934\n",
      "Percentage of pollinator distribution count: \n",
      " pollinator\n",
      "BB      0.672182\n",
      "BF      0.258532\n",
      "BFL     4.239917\n",
      "BI      1.654602\n",
      "BME     1.706308\n",
      "BMI     2.119959\n",
      "BS      0.620476\n",
      "BU      0.465357\n",
      "BUT     0.879007\n",
      "BVO    19.389866\n",
      "HB     30.041365\n",
      "HF     15.718718\n",
      "LB      1.034126\n",
      "MB      0.465357\n",
      "NI      1.240951\n",
      "OP      3.102378\n",
      "SB     13.805584\n",
      "UB      0.103413\n",
      "W       2.481903\n",
      "Name: pollinator, dtype: float64\n"
     ]
    }
   ],
   "source": [
    "\n",
    "#find the count of pollinator groups in the csv and return a percentage\n",
    "pol_count = df.groupby(['pollinator'])['pollinator'].count()\n",
    "print('The individual pollinator count: \\n', pol_count)\n",
    "print('The # of total pollinators: \\n', len(df))\n",
    "print('Percentage of pollinator distribution count: \\n',(pol_count/len(df))*100)"
   ]
  },
  {
   "cell_type": "markdown",
   "metadata": {},
   "source": [
    "Adding in data regarding the date into seperate columns"
   ]
  },
  {
   "cell_type": "code",
   "execution_count": 290,
   "metadata": {},
   "outputs": [],
   "source": [
    "def give_time(df):\n",
    "    #convert the sampe_date to a datetime object\n",
    "    df['sample_date'] = pd.to_datetime(df['sample_date'])\n",
    "    #add a column of datetime object of month\n",
    "    df['month'] = df['sample_date'].dt.month\n",
    "    #add a column of datetime object of week of the year ( in terms of integer ) \n",
    "    df['Week'] = df['sample_date'].dt.week -20\n",
    "    #add a column of datetime object which gives the day of the year\n",
    "    df['day_of_year'] = df['sample_date'].dt.dayofweek\n",
    "    \n",
    "   \n",
    "\n",
    "    #Get a column of the start of the week of all datetime objects (year, month, day )\n",
    "    df['datetime_monday_week'] = df['sample_date'].dt.to_period('W').dt.start_time\n",
    "    #adds a column which would shift the sample datetime object to a specific format ( month, day , and year)\n",
    "    df['dates'] = df['sample_date'].dt.strftime(\"%b %d, %Y\")\n",
    "    \n",
    "    return df\n",
    "\t\n"
   ]
  },
  {
   "attachments": {},
   "cell_type": "markdown",
   "metadata": {},
   "source": [
    "Changing the column to percentage changed columns to be graphed"
   ]
  },
  {
   "cell_type": "code",
   "execution_count": 332,
   "metadata": {},
   "outputs": [],
   "source": [
    "# A function that intakes a df column and returns a list of the percent differences with the first value being \n",
    "#the baseline percentage of 100.\n",
    "\n",
    "def turn_into_percent_difference(old_series):\n",
    "    \n",
    "    initial_value = old_series[0]\n",
    "    #print(initial_value)\n",
    "    new_list = []\n",
    "    for index in old_series:\n",
    "        new_list.append((index/ initial_value)*100)\n",
    "    return new_list"
   ]
  },
  {
   "attachments": {},
   "cell_type": "markdown",
   "metadata": {},
   "source": [
    "Define a function which would give the average temperature for each week. Using a copy of the dataframe to create a column of averages, then merging that column into the original dataframe"
   ]
  },
  {
   "cell_type": "code",
   "execution_count": 333,
   "metadata": {},
   "outputs": [],
   "source": [
    "def line_temp_plot(data_set):\n",
    "\t\n",
    "\t#TEST to find missing temperatures in data \n",
    "\t#Result : found missing time data for C0: E and C10: A --> both have no data for count in pollinator\n",
    "\t#must hardcode into data as no pollinator \n",
    "\tcount_test = data_set.groupby(['location_number','time_code'])['location_number'].count()\n",
    "\tcount_test = count_test.reset_index(name='counts')\n",
    "\t#print(count_test)\n",
    "\n",
    "\t#results \n",
    "\t# week = 20 , air_temp = 15, time_code = 'E', location_number = 'CO', counts = 0\n",
    "\t# week = 35 , air_temp = 23, time_code = 'A', location_number = 'C10', counts = 0\n",
    "\tnum_plot_week = data_set.groupby(['Week','air_temp','time_code','location_number'])['air_temp'].count()\n",
    "\tnum_plot_week = num_plot_week.reset_index(name = 'counts')\n",
    "\tpd.set_option('display.max_rows', None)\n",
    "\t\n",
    "\t#add the two rows into the dataframe\n",
    "\tnum_plot_week.loc[len(num_plot_week)] = [20,15,'E','C0',0]\n",
    "\tnum_plot_week.loc[len(num_plot_week)] = [35,23,'A','C10',0]\n",
    "\t#print('Test Case 1:','\\n',num_plot_week)\n",
    "\n",
    "\t#find the average of that specific week, then add as another column and merge that average temperatuer into the current column\n",
    "\tnum_plot_week = num_plot_week.groupby(['Week'])['air_temp'].mean()\n",
    "\tnum_plot_week = num_plot_week.reset_index(name = 'avg_air_temp')\n",
    "\tdata_set = pd.merge(data_set, num_plot_week)\n",
    "\t\n",
    "\t\n",
    "\treturn data_set"
   ]
  },
  {
   "cell_type": "code",
   "execution_count": 434,
   "metadata": {},
   "outputs": [],
   "source": [
    "def average_per_week(pollinator,dates):\n",
    "\t#print('Test Case 1: What are the date values from the slider \\n',dates[0],dates[1])\n",
    "\n",
    "\t#observation data for pollinators\n",
    "\t#creating a copy of the dataframe to use\n",
    "\tdata_set = df\n",
    "\tdata_set = clean_data(data_set)\n",
    "\tdata_set = give_time(data_set)\n",
    "\n",
    "\t#print(\"Test Case :2  does give_time function work?\", \"\\n\",data_set['datetime_monday_week'])\n",
    "\t\n",
    "\t#find the total number of pollinators according to location number and time code\n",
    "\t#based on the pollinator request from the dropdown box\n",
    "\tif(pollinator == 'average'):\n",
    "\t\tdata_set['total_counts'] = data_set.groupby(['location_number','time_code'])['location_number'].transform('count')\n",
    "\telse:\n",
    "\t\t#if the pollinator doesnt start at a specific date, sometiems it doesnt capture the entire date range \n",
    "\t\tnew_df = pd.DataFrame({'location_number': data_set['location_number'], 'time_code': data_set['time_code']})\n",
    "\t\tdf_pivot = data_set.pivot_table(['time_code'], index='Week', columns='pollinator', aggfunc=len, fill_value=0)\n",
    "\t\t#print(df_pivot)\n",
    "\t\tdf2 = df_pivot.reset_index()\n",
    "\t\tprint(df2.columns)\n",
    "\t\t#pt_dict = pt.to_dict()\n",
    "\t\t#print(pt_dict)\n",
    "\n",
    "\n",
    "\t\t#get a dataframe which has the pollinators of the request in a df\n",
    "\t\tdata_set = data_set[(data_set['pollinator'] == pollinator)]\n",
    "\t\t\n",
    "\t\tdata_set['total_counts'] = data_set.groupby(['location_number','time_code'])['location_number'].transform('count')\n",
    "\t\t\n",
    "\n",
    "\t\t#data_set = data_set.merge(new_df, on=['location_number', 'time_code'])\n",
    "\t\t#data_set = data_set.fillna(0)\n",
    "\n",
    "\n",
    "\t\t#print(data_set.unique())\n",
    "\n",
    "\t\n",
    "\t\n",
    "\t#print(\"Test Case : 3  What does the dataframe look like now?\", \"\\n\",data_set)\n",
    "\n",
    "\t#creating average temerapture for all plots \n",
    "\tdata_set = line_temp_plot(data_set)\n",
    "\n",
    "\t#print(\"Test Case: 4 What does the dataframe look like now? \\n\", data_set)\n",
    "\n",
    "\t#getting the average pollinator mean of a specific week\n",
    "\tdata_set['pol_mean'] = data_set.groupby(['datetime_monday_week'])['total_counts'].transform('mean')\n",
    "\n",
    "\t#print(\"Test Case: 5 What does the dataframe look like now? \\n\", data_set)\n",
    "\n",
    "\t#finding the unique average air temperature by using .last()\n",
    "\tdata_set = data_set.groupby(['datetime_monday_week','pol_mean'])['avg_air_temp'].last()\n",
    "\tdata_set = data_set.reset_index(name = 'avg_temp')\n",
    "\t\n",
    "\t#print(\"Test Case: 5 What does the dataframe look like now? \\n\", data_set)\n",
    "\n",
    "\t#sort the values of the column in order of date using the column datetime_monday_week\n",
    "\tdata_set = data_set.sort_values(by = 'datetime_monday_week')\n",
    "\n",
    "\t#add another column of dates using the shift datetime since the original columns were lost during the grouby conversion\n",
    "\tdata_set['dates'] =data_set['datetime_monday_week'].dt.strftime(\"%b %d\")\n",
    "\tdata_set['dates'] = data_set['dates'].astype('str')\n",
    "\n",
    "\t#print(\"Test Case: 6 What does the dataframe look like now? \\n\", data_set)\n",
    "\n",
    "\t\n",
    "\n",
    "\t#print(\"Test Case: 7 What does the dataframe look like now? \\n\", data_set)\n",
    "\t#print('What are the datatypes for the columns of the new df? \\n',data_set.dtypes)\n",
    "\n",
    "\t#find the index of the requested date from the left slider on the implemented slider widget\n",
    "\tmin = dates[0]\n",
    "\tindices_1 = data_set.index[data_set['dates'] == min].tolist()\n",
    "\t#print('Test Case 8: What is the index of the in value: \\n',indices_1)\n",
    "\t\n",
    "\t#find the index of the requested date from the right slider on the implemented slider widget\n",
    "\tmax = dates[1]\n",
    "\tindices_2 = data_set.index[data_set['dates'] == max].tolist()\n",
    "\t#print('Test Case 9: What is the index of the in value: \\n',indices_2)\n",
    "\n",
    "\t\n",
    "\t#setting the max index--> if any value if larger than or equal to this value ( which is the entire length of the df)\n",
    "\t#use iloc to get the rest of the rows of that specific dataframe \n",
    "\t#else, use iloc which the starting range of the index value from the min date to the index value of the max date +1 \n",
    "\tmax_index = len(data_set) +1\n",
    "\t#print(max_index,int(indices_2[0]))\n",
    "\tif (int(indices_2[0]) == max_index):\n",
    "\t\tdata_set = data_set.iloc[int(indices_1[0]):]\n",
    "\t\tdata_set = data_set.reset_index(drop = True)\n",
    "\t\t\n",
    "\telse:\n",
    "\t\tdata_set = data_set.iloc[int(indices_1[0]):(int(indices_2[0])+1)]\n",
    "\t\tdata_set = data_set.reset_index(drop = True)\n",
    "\n",
    "\t#print(\"Test Case: 10 What does the dataframe look like now? \\n\", data_set)\n",
    "\t#adding the column abundance_percentage (percentage differences in a pollinator for a given week)\n",
    "\tdata_set['Abundance_percentage'] = turn_into_percent_difference(data_set['pol_mean'])\n",
    "\t#adding the column temp percentage (percentage difference in the data for a given week)\n",
    "\tdata_set['Temp_percentage'] = turn_into_percent_difference(data_set['avg_temp'])\n",
    "\n",
    "\t#print(\"Test Case: 11 What does the dataframe look like now? \\n\", data_set)\n",
    "\t\n",
    "\t#plotting the graph\n",
    "\t#adding two lines on a graph from two different columns, however can use the same y axis because they use the same values ( percentage difference)\n",
    "\tfig, ax = plt.subplots()\n",
    "\tax.plot(data_set['dates'], data_set['Abundance_percentage'], linewidth=3, color='#63B7B7')\n",
    "\tax.plot(data_set['dates'], data_set['Temp_percentage'], linewidth=3, color='#FF6961')\n",
    "\t#rotates the xticks by 60 degrees \n",
    "\tplt.xticks(rotation = 60, horizontalalignment='right')\n",
    "\t#add a legend \n",
    "\tax.legend(['Visitations', 'Temperature'])\n",
    "\tax.set_ylabel('Percent Difference (%)')\n",
    "\tax.set_xlabel('Week')\n",
    "\tax.set_title('Percent Difference of Average Visition Number and \\n Temperature For Each Week .',\n",
    "             fontname = 'Georgia', \n",
    "             fontsize= 16, \n",
    "             pad=30)\n",
    "\t#adding grid to the graph\n",
    "\tax.grid()\n",
    "\n",
    "\tplt.show()\n",
    "\n",
    "\t"
   ]
  },
  {
   "cell_type": "code",
   "execution_count": 433,
   "metadata": {},
   "outputs": [
    {
     "ename": "KeyError",
     "evalue": "'Bumble'",
     "output_type": "error",
     "traceback": [
      "\u001b[1;31m---------------------------------------------------------------------------\u001b[0m",
      "\u001b[1;31mKeyError\u001b[0m                                  Traceback (most recent call last)",
      "\u001b[1;32mc:\\Users\\lizzy\\anaconda3\\lib\\site-packages\\pandas\\core\\indexes\\base.py\u001b[0m in \u001b[0;36mget_loc\u001b[1;34m(self, key, method, tolerance)\u001b[0m\n\u001b[0;32m   3360\u001b[0m             \u001b[1;32mtry\u001b[0m\u001b[1;33m:\u001b[0m\u001b[1;33m\u001b[0m\u001b[1;33m\u001b[0m\u001b[0m\n\u001b[1;32m-> 3361\u001b[1;33m                 \u001b[1;32mreturn\u001b[0m \u001b[0mself\u001b[0m\u001b[1;33m.\u001b[0m\u001b[0m_engine\u001b[0m\u001b[1;33m.\u001b[0m\u001b[0mget_loc\u001b[0m\u001b[1;33m(\u001b[0m\u001b[0mcasted_key\u001b[0m\u001b[1;33m)\u001b[0m\u001b[1;33m\u001b[0m\u001b[1;33m\u001b[0m\u001b[0m\n\u001b[0m\u001b[0;32m   3362\u001b[0m             \u001b[1;32mexcept\u001b[0m \u001b[0mKeyError\u001b[0m \u001b[1;32mas\u001b[0m \u001b[0merr\u001b[0m\u001b[1;33m:\u001b[0m\u001b[1;33m\u001b[0m\u001b[1;33m\u001b[0m\u001b[0m\n",
      "\u001b[1;32mc:\\Users\\lizzy\\anaconda3\\lib\\site-packages\\pandas\\_libs\\index.pyx\u001b[0m in \u001b[0;36mpandas._libs.index.IndexEngine.get_loc\u001b[1;34m()\u001b[0m\n",
      "\u001b[1;32mc:\\Users\\lizzy\\anaconda3\\lib\\site-packages\\pandas\\_libs\\index.pyx\u001b[0m in \u001b[0;36mpandas._libs.index.IndexEngine.get_loc\u001b[1;34m()\u001b[0m\n",
      "\u001b[1;32mpandas\\_libs\\hashtable_class_helper.pxi\u001b[0m in \u001b[0;36mpandas._libs.hashtable.PyObjectHashTable.get_item\u001b[1;34m()\u001b[0m\n",
      "\u001b[1;32mpandas\\_libs\\hashtable_class_helper.pxi\u001b[0m in \u001b[0;36mpandas._libs.hashtable.PyObjectHashTable.get_item\u001b[1;34m()\u001b[0m\n",
      "\u001b[1;31mKeyError\u001b[0m: 'Bumble'",
      "\nThe above exception was the direct cause of the following exception:\n",
      "\u001b[1;31mKeyError\u001b[0m                                  Traceback (most recent call last)",
      "\u001b[1;32m~\\AppData\\Local\\Temp/ipykernel_4776/1053084035.py\u001b[0m in \u001b[0;36m<module>\u001b[1;34m\u001b[0m\n\u001b[0;32m      1\u001b[0m \u001b[1;31m#print(df)\u001b[0m\u001b[1;33m\u001b[0m\u001b[1;33m\u001b[0m\u001b[0m\n\u001b[1;32m----> 2\u001b[1;33m \u001b[0maverage_per_week\u001b[0m\u001b[1;33m(\u001b[0m\u001b[1;34m'Bumble'\u001b[0m\u001b[1;33m,\u001b[0m\u001b[1;33m[\u001b[0m\u001b[1;34m'May 23'\u001b[0m\u001b[1;33m,\u001b[0m\u001b[1;34m'Aug 22'\u001b[0m\u001b[1;33m]\u001b[0m\u001b[1;33m)\u001b[0m\u001b[1;33m\u001b[0m\u001b[1;33m\u001b[0m\u001b[0m\n\u001b[0m",
      "\u001b[1;32m~\\AppData\\Local\\Temp/ipykernel_4776/1521555950.py\u001b[0m in \u001b[0;36maverage_per_week\u001b[1;34m(pollinator, dates)\u001b[0m\n\u001b[0;32m     20\u001b[0m                 \u001b[1;31m#print(df_pivot)\u001b[0m\u001b[1;33m\u001b[0m\u001b[1;33m\u001b[0m\u001b[0m\n\u001b[0;32m     21\u001b[0m                 \u001b[0mdf2\u001b[0m \u001b[1;33m=\u001b[0m \u001b[0mdf_pivot\u001b[0m\u001b[1;33m.\u001b[0m\u001b[0mreset_index\u001b[0m\u001b[1;33m(\u001b[0m\u001b[1;33m)\u001b[0m\u001b[1;33m\u001b[0m\u001b[1;33m\u001b[0m\u001b[0m\n\u001b[1;32m---> 22\u001b[1;33m                 \u001b[0mprint\u001b[0m\u001b[1;33m(\u001b[0m\u001b[0mdf2\u001b[0m\u001b[1;33m[\u001b[0m\u001b[0mpollinator\u001b[0m\u001b[1;33m]\u001b[0m\u001b[1;33m)\u001b[0m\u001b[1;33m\u001b[0m\u001b[1;33m\u001b[0m\u001b[0m\n\u001b[0m\u001b[0;32m     23\u001b[0m                 \u001b[1;31m#pt_dict = pt.to_dict()\u001b[0m\u001b[1;33m\u001b[0m\u001b[1;33m\u001b[0m\u001b[0m\n\u001b[0;32m     24\u001b[0m                 \u001b[1;31m#print(pt_dict)\u001b[0m\u001b[1;33m\u001b[0m\u001b[1;33m\u001b[0m\u001b[0m\n",
      "\u001b[1;32mc:\\Users\\lizzy\\anaconda3\\lib\\site-packages\\pandas\\core\\frame.py\u001b[0m in \u001b[0;36m__getitem__\u001b[1;34m(self, key)\u001b[0m\n\u001b[0;32m   3455\u001b[0m         \u001b[1;32mif\u001b[0m \u001b[0mis_single_key\u001b[0m\u001b[1;33m:\u001b[0m\u001b[1;33m\u001b[0m\u001b[1;33m\u001b[0m\u001b[0m\n\u001b[0;32m   3456\u001b[0m             \u001b[1;32mif\u001b[0m \u001b[0mself\u001b[0m\u001b[1;33m.\u001b[0m\u001b[0mcolumns\u001b[0m\u001b[1;33m.\u001b[0m\u001b[0mnlevels\u001b[0m \u001b[1;33m>\u001b[0m \u001b[1;36m1\u001b[0m\u001b[1;33m:\u001b[0m\u001b[1;33m\u001b[0m\u001b[1;33m\u001b[0m\u001b[0m\n\u001b[1;32m-> 3457\u001b[1;33m                 \u001b[1;32mreturn\u001b[0m \u001b[0mself\u001b[0m\u001b[1;33m.\u001b[0m\u001b[0m_getitem_multilevel\u001b[0m\u001b[1;33m(\u001b[0m\u001b[0mkey\u001b[0m\u001b[1;33m)\u001b[0m\u001b[1;33m\u001b[0m\u001b[1;33m\u001b[0m\u001b[0m\n\u001b[0m\u001b[0;32m   3458\u001b[0m             \u001b[0mindexer\u001b[0m \u001b[1;33m=\u001b[0m \u001b[0mself\u001b[0m\u001b[1;33m.\u001b[0m\u001b[0mcolumns\u001b[0m\u001b[1;33m.\u001b[0m\u001b[0mget_loc\u001b[0m\u001b[1;33m(\u001b[0m\u001b[0mkey\u001b[0m\u001b[1;33m)\u001b[0m\u001b[1;33m\u001b[0m\u001b[1;33m\u001b[0m\u001b[0m\n\u001b[0;32m   3459\u001b[0m             \u001b[1;32mif\u001b[0m \u001b[0mis_integer\u001b[0m\u001b[1;33m(\u001b[0m\u001b[0mindexer\u001b[0m\u001b[1;33m)\u001b[0m\u001b[1;33m:\u001b[0m\u001b[1;33m\u001b[0m\u001b[1;33m\u001b[0m\u001b[0m\n",
      "\u001b[1;32mc:\\Users\\lizzy\\anaconda3\\lib\\site-packages\\pandas\\core\\frame.py\u001b[0m in \u001b[0;36m_getitem_multilevel\u001b[1;34m(self, key)\u001b[0m\n\u001b[0;32m   3506\u001b[0m     \u001b[1;32mdef\u001b[0m \u001b[0m_getitem_multilevel\u001b[0m\u001b[1;33m(\u001b[0m\u001b[0mself\u001b[0m\u001b[1;33m,\u001b[0m \u001b[0mkey\u001b[0m\u001b[1;33m)\u001b[0m\u001b[1;33m:\u001b[0m\u001b[1;33m\u001b[0m\u001b[1;33m\u001b[0m\u001b[0m\n\u001b[0;32m   3507\u001b[0m         \u001b[1;31m# self.columns is a MultiIndex\u001b[0m\u001b[1;33m\u001b[0m\u001b[1;33m\u001b[0m\u001b[0m\n\u001b[1;32m-> 3508\u001b[1;33m         \u001b[0mloc\u001b[0m \u001b[1;33m=\u001b[0m \u001b[0mself\u001b[0m\u001b[1;33m.\u001b[0m\u001b[0mcolumns\u001b[0m\u001b[1;33m.\u001b[0m\u001b[0mget_loc\u001b[0m\u001b[1;33m(\u001b[0m\u001b[0mkey\u001b[0m\u001b[1;33m)\u001b[0m\u001b[1;33m\u001b[0m\u001b[1;33m\u001b[0m\u001b[0m\n\u001b[0m\u001b[0;32m   3509\u001b[0m         \u001b[1;32mif\u001b[0m \u001b[0misinstance\u001b[0m\u001b[1;33m(\u001b[0m\u001b[0mloc\u001b[0m\u001b[1;33m,\u001b[0m \u001b[1;33m(\u001b[0m\u001b[0mslice\u001b[0m\u001b[1;33m,\u001b[0m \u001b[0mnp\u001b[0m\u001b[1;33m.\u001b[0m\u001b[0mndarray\u001b[0m\u001b[1;33m)\u001b[0m\u001b[1;33m)\u001b[0m\u001b[1;33m:\u001b[0m\u001b[1;33m\u001b[0m\u001b[1;33m\u001b[0m\u001b[0m\n\u001b[0;32m   3510\u001b[0m             \u001b[0mnew_columns\u001b[0m \u001b[1;33m=\u001b[0m \u001b[0mself\u001b[0m\u001b[1;33m.\u001b[0m\u001b[0mcolumns\u001b[0m\u001b[1;33m[\u001b[0m\u001b[0mloc\u001b[0m\u001b[1;33m]\u001b[0m\u001b[1;33m\u001b[0m\u001b[1;33m\u001b[0m\u001b[0m\n",
      "\u001b[1;32mc:\\Users\\lizzy\\anaconda3\\lib\\site-packages\\pandas\\core\\indexes\\multi.py\u001b[0m in \u001b[0;36mget_loc\u001b[1;34m(self, key, method)\u001b[0m\n\u001b[0;32m   2920\u001b[0m \u001b[1;33m\u001b[0m\u001b[0m\n\u001b[0;32m   2921\u001b[0m         \u001b[1;32mif\u001b[0m \u001b[1;32mnot\u001b[0m \u001b[0misinstance\u001b[0m\u001b[1;33m(\u001b[0m\u001b[0mkey\u001b[0m\u001b[1;33m,\u001b[0m \u001b[0mtuple\u001b[0m\u001b[1;33m)\u001b[0m\u001b[1;33m:\u001b[0m\u001b[1;33m\u001b[0m\u001b[1;33m\u001b[0m\u001b[0m\n\u001b[1;32m-> 2922\u001b[1;33m             \u001b[0mloc\u001b[0m \u001b[1;33m=\u001b[0m \u001b[0mself\u001b[0m\u001b[1;33m.\u001b[0m\u001b[0m_get_level_indexer\u001b[0m\u001b[1;33m(\u001b[0m\u001b[0mkey\u001b[0m\u001b[1;33m,\u001b[0m \u001b[0mlevel\u001b[0m\u001b[1;33m=\u001b[0m\u001b[1;36m0\u001b[0m\u001b[1;33m)\u001b[0m\u001b[1;33m\u001b[0m\u001b[1;33m\u001b[0m\u001b[0m\n\u001b[0m\u001b[0;32m   2923\u001b[0m             \u001b[1;32mreturn\u001b[0m \u001b[0m_maybe_to_slice\u001b[0m\u001b[1;33m(\u001b[0m\u001b[0mloc\u001b[0m\u001b[1;33m)\u001b[0m\u001b[1;33m\u001b[0m\u001b[1;33m\u001b[0m\u001b[0m\n\u001b[0;32m   2924\u001b[0m \u001b[1;33m\u001b[0m\u001b[0m\n",
      "\u001b[1;32mc:\\Users\\lizzy\\anaconda3\\lib\\site-packages\\pandas\\core\\indexes\\multi.py\u001b[0m in \u001b[0;36m_get_level_indexer\u001b[1;34m(self, key, level, indexer)\u001b[0m\n\u001b[0;32m   3202\u001b[0m         \u001b[1;32melse\u001b[0m\u001b[1;33m:\u001b[0m\u001b[1;33m\u001b[0m\u001b[1;33m\u001b[0m\u001b[0m\n\u001b[0;32m   3203\u001b[0m \u001b[1;33m\u001b[0m\u001b[0m\n\u001b[1;32m-> 3204\u001b[1;33m             \u001b[0midx\u001b[0m \u001b[1;33m=\u001b[0m \u001b[0mself\u001b[0m\u001b[1;33m.\u001b[0m\u001b[0m_get_loc_single_level_index\u001b[0m\u001b[1;33m(\u001b[0m\u001b[0mlevel_index\u001b[0m\u001b[1;33m,\u001b[0m \u001b[0mkey\u001b[0m\u001b[1;33m)\u001b[0m\u001b[1;33m\u001b[0m\u001b[1;33m\u001b[0m\u001b[0m\n\u001b[0m\u001b[0;32m   3205\u001b[0m \u001b[1;33m\u001b[0m\u001b[0m\n\u001b[0;32m   3206\u001b[0m             \u001b[1;32mif\u001b[0m \u001b[0mlevel\u001b[0m \u001b[1;33m>\u001b[0m \u001b[1;36m0\u001b[0m \u001b[1;32mor\u001b[0m \u001b[0mself\u001b[0m\u001b[1;33m.\u001b[0m\u001b[0m_lexsort_depth\u001b[0m \u001b[1;33m==\u001b[0m \u001b[1;36m0\u001b[0m\u001b[1;33m:\u001b[0m\u001b[1;33m\u001b[0m\u001b[1;33m\u001b[0m\u001b[0m\n",
      "\u001b[1;32mc:\\Users\\lizzy\\anaconda3\\lib\\site-packages\\pandas\\core\\indexes\\multi.py\u001b[0m in \u001b[0;36m_get_loc_single_level_index\u001b[1;34m(self, level_index, key)\u001b[0m\n\u001b[0;32m   2853\u001b[0m             \u001b[1;32mreturn\u001b[0m \u001b[1;33m-\u001b[0m\u001b[1;36m1\u001b[0m\u001b[1;33m\u001b[0m\u001b[1;33m\u001b[0m\u001b[0m\n\u001b[0;32m   2854\u001b[0m         \u001b[1;32melse\u001b[0m\u001b[1;33m:\u001b[0m\u001b[1;33m\u001b[0m\u001b[1;33m\u001b[0m\u001b[0m\n\u001b[1;32m-> 2855\u001b[1;33m             \u001b[1;32mreturn\u001b[0m \u001b[0mlevel_index\u001b[0m\u001b[1;33m.\u001b[0m\u001b[0mget_loc\u001b[0m\u001b[1;33m(\u001b[0m\u001b[0mkey\u001b[0m\u001b[1;33m)\u001b[0m\u001b[1;33m\u001b[0m\u001b[1;33m\u001b[0m\u001b[0m\n\u001b[0m\u001b[0;32m   2856\u001b[0m \u001b[1;33m\u001b[0m\u001b[0m\n\u001b[0;32m   2857\u001b[0m     \u001b[1;32mdef\u001b[0m \u001b[0mget_loc\u001b[0m\u001b[1;33m(\u001b[0m\u001b[0mself\u001b[0m\u001b[1;33m,\u001b[0m \u001b[0mkey\u001b[0m\u001b[1;33m,\u001b[0m \u001b[0mmethod\u001b[0m\u001b[1;33m=\u001b[0m\u001b[1;32mNone\u001b[0m\u001b[1;33m)\u001b[0m\u001b[1;33m:\u001b[0m\u001b[1;33m\u001b[0m\u001b[1;33m\u001b[0m\u001b[0m\n",
      "\u001b[1;32mc:\\Users\\lizzy\\anaconda3\\lib\\site-packages\\pandas\\core\\indexes\\base.py\u001b[0m in \u001b[0;36mget_loc\u001b[1;34m(self, key, method, tolerance)\u001b[0m\n\u001b[0;32m   3361\u001b[0m                 \u001b[1;32mreturn\u001b[0m \u001b[0mself\u001b[0m\u001b[1;33m.\u001b[0m\u001b[0m_engine\u001b[0m\u001b[1;33m.\u001b[0m\u001b[0mget_loc\u001b[0m\u001b[1;33m(\u001b[0m\u001b[0mcasted_key\u001b[0m\u001b[1;33m)\u001b[0m\u001b[1;33m\u001b[0m\u001b[1;33m\u001b[0m\u001b[0m\n\u001b[0;32m   3362\u001b[0m             \u001b[1;32mexcept\u001b[0m \u001b[0mKeyError\u001b[0m \u001b[1;32mas\u001b[0m \u001b[0merr\u001b[0m\u001b[1;33m:\u001b[0m\u001b[1;33m\u001b[0m\u001b[1;33m\u001b[0m\u001b[0m\n\u001b[1;32m-> 3363\u001b[1;33m                 \u001b[1;32mraise\u001b[0m \u001b[0mKeyError\u001b[0m\u001b[1;33m(\u001b[0m\u001b[0mkey\u001b[0m\u001b[1;33m)\u001b[0m \u001b[1;32mfrom\u001b[0m \u001b[0merr\u001b[0m\u001b[1;33m\u001b[0m\u001b[1;33m\u001b[0m\u001b[0m\n\u001b[0m\u001b[0;32m   3364\u001b[0m \u001b[1;33m\u001b[0m\u001b[0m\n\u001b[0;32m   3365\u001b[0m         \u001b[1;32mif\u001b[0m \u001b[0mis_scalar\u001b[0m\u001b[1;33m(\u001b[0m\u001b[0mkey\u001b[0m\u001b[1;33m)\u001b[0m \u001b[1;32mand\u001b[0m \u001b[0misna\u001b[0m\u001b[1;33m(\u001b[0m\u001b[0mkey\u001b[0m\u001b[1;33m)\u001b[0m \u001b[1;32mand\u001b[0m \u001b[1;32mnot\u001b[0m \u001b[0mself\u001b[0m\u001b[1;33m.\u001b[0m\u001b[0mhasnans\u001b[0m\u001b[1;33m:\u001b[0m\u001b[1;33m\u001b[0m\u001b[1;33m\u001b[0m\u001b[0m\n",
      "\u001b[1;31mKeyError\u001b[0m: 'Bumble'"
     ]
    }
   ],
   "source": [
    "#print(df)\n",
    "average_per_week('Bumble',['May 23','Aug 22'])"
   ]
  },
  {
   "cell_type": "markdown",
   "metadata": {},
   "source": [
    "Starting the building of a dashboard\n",
    "import the necessary libraries"
   ]
  },
  {
   "cell_type": "code",
   "execution_count": 377,
   "metadata": {},
   "outputs": [],
   "source": [
    "import ipywidgets as widgets\n",
    "\n"
   ]
  },
  {
   "cell_type": "markdown",
   "metadata": {},
   "source": [
    "Create the dashboard data filter parameters"
   ]
  },
  {
   "cell_type": "code",
   "execution_count": 429,
   "metadata": {},
   "outputs": [
    {
     "data": {
      "application/vnd.jupyter.widget-view+json": {
       "model_id": "ba8e26d2cd4443da9ed7ae06d03aeb9f",
       "version_major": 2,
       "version_minor": 0
      },
      "text/plain": [
       "HBox(children=(Dropdown(description='type of pollinator', options=('average', 'Honey', 'Sweat', 'Hover Fly', '…"
      ]
     },
     "metadata": {},
     "output_type": "display_data"
    },
    {
     "data": {
      "application/vnd.jupyter.widget-view+json": {
       "model_id": "f34f968efab047f6b3505198fd5aed58",
       "version_major": 2,
       "version_minor": 0
      },
      "text/plain": [
       "Output()"
      ]
     },
     "metadata": {},
     "output_type": "display_data"
    }
   ],
   "source": [
    "#using ipywidgets\n",
    "#data_set, request\n",
    "#starting off with a new dataframe copy\n",
    "df = clean_data(df)\n",
    "df = give_time(df)\n",
    "\n",
    "#adding datetime information\n",
    "df = df.sort_values(by = 'datetime_monday_week')\n",
    "df['dates'] =df['datetime_monday_week'].dt.strftime(\"%b %d\")\n",
    "\n",
    "#creating a list of dates to be used in the slider widget\n",
    "#adding widget for sliding weeks to get specific range of month\n",
    "months = df['dates'].unique()\n",
    "#print('Test Case 1: What is the list content? \\n',months)\n",
    "\n",
    "#creating a list of specific pollinators to be used in the dropdown widget \n",
    "requests = df['pollinator'].unique()\n",
    "requests = np.append('average',requests)\n",
    "#print('Test Case 2: What is the list content? \\n',requests)\n",
    "\n",
    "#dropdown creation using requests list and giving a description name\n",
    "dd1 = widgets.Dropdown(options = requests,description = 'type of pollinator')\n",
    "\n",
    "#adding sliding tool\n",
    "#create slider for the list months, and how large the index ( slider values) should be\n",
    "slider = widgets.SelectionRangeSlider(\n",
    "    options = months,\n",
    "    index =(0, len(months)-1),\n",
    "    description = 'weeks',\n",
    "    disabled = False\n",
    ")\n",
    "\n",
    "#adding the two created widgets into an HBox\n",
    "ui = widgets.HBox([dd1,slider])\n",
    "\n",
    "#calling the function we want to use to create the interactive graph\n",
    "out = widgets.interactive_output(average_per_week, {'pollinator': dd1,'dates' :slider})\n",
    "\n",
    "#displaying and calling the graph\n",
    "display(ui, out)\n",
    "\n",
    "\n"
   ]
  },
  {
   "cell_type": "code",
   "execution_count": null,
   "metadata": {},
   "outputs": [],
   "source": []
  }
 ],
 "metadata": {
  "kernelspec": {
   "display_name": "Python 3 (ipykernel)",
   "language": "python",
   "name": "python3"
  },
  "language_info": {
   "codemirror_mode": {
    "name": "ipython",
    "version": 3
   },
   "file_extension": ".py",
   "mimetype": "text/x-python",
   "name": "python",
   "nbconvert_exporter": "python",
   "pygments_lexer": "ipython3",
   "version": "3.10.10"
  }
 },
 "nbformat": 4,
 "nbformat_minor": 2
}
