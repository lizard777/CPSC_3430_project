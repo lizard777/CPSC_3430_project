{
 "cells": [
  {
   "cell_type": "markdown",
   "metadata": {},
   "source": [
    "Dashboard building with temperature and abudannce of specific pollinators"
   ]
  },
  {
   "cell_type": "markdown",
   "metadata": {},
   "source": [
    "import the necessary libraries"
   ]
  },
  {
   "cell_type": "code",
   "execution_count": 1,
   "metadata": {},
   "outputs": [],
   "source": [
    "import pandas as pd\n",
    "import matplotlib.pyplot as plt\n",
    "import numpy as np\n",
    "import datetime"
   ]
  },
  {
   "cell_type": "markdown",
   "metadata": {},
   "source": [
    "Import Data"
   ]
  },
  {
   "cell_type": "code",
   "execution_count": 2,
   "metadata": {},
   "outputs": [],
   "source": [
    "df = pd.read_csv(\"pollinator_count_data-final.csv\", sep = ',')\n",
    "y = pd.read_csv(\"plant_on_campus_frequency.csv\", sep = ',')"
   ]
  },
  {
   "cell_type": "markdown",
   "metadata": {},
   "source": [
    "Clean up the imported data"
   ]
  },
  {
   "cell_type": "code",
   "execution_count": 3,
   "metadata": {},
   "outputs": [],
   "source": [
    "#want to convert acronyms to full names \n",
    "#(hoverfly, honeybee, bumblebee, sweatbee, wasp, leafcutter, fly, beatle, butterfly)\n",
    "\n",
    "def clean_data(df):\n",
    "\n",
    "    #setting to print all the rows \n",
    "    pd.set_option('display.max_rows', None)\n",
    "\n",
    "    #plants on campus data \n",
    "    df_frequency = pd.read_csv(\"plant_on_campus_frequency.csv\",sep = ',')\n",
    "\n",
    "    #convert european carder bee ( ECB), mason bee and carpenter bee to the leafcutter bee group (LF)\n",
    "    df['pollinator'] = df['pollinator'].replace(['ECB','MB','CB'],'LB')\n",
    "    #convert No information (NI) and unidentified bee (UB) to the Other pollinator group (OP)\n",
    "    df['pollinator'] = df['pollinator'].replace(['NI','UB'],'OP')\n",
    "\n",
    "    #replacing values within dataframe to favored/changed names exp. Bumble\n",
    "    df['pollinator'] = df['pollinator'].replace(['BUT'],'Butterfly')\n",
    "    df['pollinator'] = df['pollinator'].replace(['W'],'Wasp')\n",
    "    df['pollinator'] = df['pollinator'].replace(['HF'],'Hover Fly')\n",
    "    df['pollinator'] = df['pollinator'].replace(['BVO','BS','BMI','BME','BU','BI','BFL','BF','BB'],'Bumble')\n",
    "    df['pollinator'] = df['pollinator'].replace(['SB'],'Sweat')\n",
    "    df['pollinator'] = df['pollinator'].replace(['HB'],'Honey')\n",
    "    df['pollinator'] = df['pollinator'].replace(['LB'],'Leaf Cutter')\n",
    "\n",
    "\n",
    "\n",
    "    #using where statement to seperate OP to beetles and flies \n",
    "\n",
    "    # beetle \n",
    "    df['pollinator'] = np.where((df['pollinator'] == 'OP') & (df['insect_order'] == 'coleoptera'), 'Beetle', df['pollinator'])\n",
    "    #print(df['pollinator'])\n",
    "\n",
    "    # flies \n",
    "    df['pollinator'] =  np.where((df['pollinator'] == 'OP') & (df['insect_order'] == 'diptera'),'Fly',df['pollinator'] )\n",
    "    #print(df[['pollinator','insect_order']])\n",
    "\n",
    "    #droping all other pollinator from the data because not interested in other pollinators in data analysis\n",
    "    df = df.drop(df[df['pollinator'] == 'OP'].index)\n",
    "    #print(df[['pollinator','insect_order']])\n",
    "\n",
    "    return df"
   ]
  },
  {
   "cell_type": "code",
   "execution_count": 4,
   "metadata": {},
   "outputs": [
    {
     "name": "stdout",
     "output_type": "stream",
     "text": [
      "The individual pollinator count: \n",
      " pollinator\n",
      "BB      13\n",
      "BF       5\n",
      "BFL     82\n",
      "BI      32\n",
      "BME     33\n",
      "BMI     41\n",
      "BS      12\n",
      "BU       9\n",
      "BUT     17\n",
      "BVO    375\n",
      "HB     581\n",
      "HF     304\n",
      "LB      20\n",
      "MB       9\n",
      "NI      24\n",
      "OP      60\n",
      "SB     267\n",
      "UB       2\n",
      "W       48\n",
      "Name: pollinator, dtype: int64\n",
      "The # of total pollinators: \n",
      " 1934\n",
      "Percentage of pollinator distribution count: \n",
      " pollinator\n",
      "BB      0.672182\n",
      "BF      0.258532\n",
      "BFL     4.239917\n",
      "BI      1.654602\n",
      "BME     1.706308\n",
      "BMI     2.119959\n",
      "BS      0.620476\n",
      "BU      0.465357\n",
      "BUT     0.879007\n",
      "BVO    19.389866\n",
      "HB     30.041365\n",
      "HF     15.718718\n",
      "LB      1.034126\n",
      "MB      0.465357\n",
      "NI      1.240951\n",
      "OP      3.102378\n",
      "SB     13.805584\n",
      "UB      0.103413\n",
      "W       2.481903\n",
      "Name: pollinator, dtype: float64\n"
     ]
    }
   ],
   "source": [
    "\n",
    "#find the count of pollinator groups in the csv and return a percentage\n",
    "pol_count = df.groupby(['pollinator'])['pollinator'].count()\n",
    "print('The individual pollinator count: \\n', pol_count)\n",
    "print('The # of total pollinators: \\n', len(df))\n",
    "print('Percentage of pollinator distribution count: \\n',(pol_count/len(df))*100)"
   ]
  },
  {
   "cell_type": "markdown",
   "metadata": {},
   "source": [
    "Adding in data regarding the date into seperate columns"
   ]
  },
  {
   "cell_type": "code",
   "execution_count": 5,
   "metadata": {},
   "outputs": [],
   "source": [
    "def give_time(df):\n",
    "\n",
    "    df['sample_date'] = pd.to_datetime(df['sample_date'])\n",
    "    df['month'] = df['sample_date'].dt.month\n",
    "    df['Week'] = df['sample_date'].dt.week -20\n",
    "    df['day_of_year'] = df['sample_date'].dt.dayofweek\n",
    "    \n",
    "   \n",
    "\n",
    "    #Get a column of the start of the week of all datetime objects\n",
    "    df['datetime_monday_week'] = df['sample_date'].dt.to_period('W').dt.start_time\n",
    "    df['dates'] = df['sample_date'].dt.strftime(\"%b %d, %Y\")\n",
    "    \n",
    "    return df\n",
    "\t\n"
   ]
  },
  {
   "attachments": {},
   "cell_type": "markdown",
   "metadata": {},
   "source": [
    "Putting in temperature percentages"
   ]
  },
  {
   "cell_type": "code",
   "execution_count": 6,
   "metadata": {},
   "outputs": [],
   "source": [
    "# A function that intakes a df column and returns a list of the percent differences with the first value being \n",
    "#the baseline percentage of 100.\n",
    "\n",
    "def turn_into_percent_difference(old_series):\n",
    "    initial_value = old_series[0]\n",
    "    new_list = []\n",
    "    for index in old_series:\n",
    "        new_list.append((index/ initial_value)*100)\n",
    "    return new_list"
   ]
  },
  {
   "cell_type": "markdown",
   "metadata": {},
   "source": [
    "Define a function which would give the average temperature "
   ]
  },
  {
   "cell_type": "code",
   "execution_count": 7,
   "metadata": {},
   "outputs": [],
   "source": [
    "def line_temp_plot(data_set):\n",
    "\t\n",
    "\t#TEST to find missing temperatures in data \n",
    "\t#Result : found missing time data for C0: E and C10: A --> both have no data for count in pollinator\n",
    "\t#must hardcode into data as no pollinator \n",
    "\tcount_test = data_set.groupby(['location_number','time_code'])['location_number'].count()\n",
    "\tcount_test = count_test.reset_index(name='counts')\n",
    "\t#print(count_test)\n",
    "\n",
    "\t#results \n",
    "\t# week = 20 , air_temp = 15, time_code = 'E', location_number = 'CO', counts = 0\n",
    "\t# week = 35 , air_temp = 23, time_code = 'A', location_number = 'C10', counts = 0\n",
    "\t#print(data_set.columns)\n",
    "\tnum_plot_week = data_set.groupby(['Week','air_temp','time_code','location_number'])['air_temp'].count()\n",
    "\tnum_plot_week = num_plot_week.reset_index(name = 'counts')\n",
    "\tpd.set_option('display.max_rows', None)\n",
    "\t\n",
    "\tnum_plot_week.loc[len(num_plot_week)] = [20,15,'E','C0',0]\n",
    "\tnum_plot_week.loc[len(num_plot_week)] = [35,23,'A','C10',0]\n",
    "\t#print('test_run','\\n',num_plot_week)\n",
    "\n",
    "\n",
    "\tnum_plot_week = num_plot_week.groupby(['Week'])['air_temp'].mean()\n",
    "\tnum_plot_week = num_plot_week.reset_index(name = 'avg_air_temp')\n",
    "\tdata_set = pd.merge(data_set, num_plot_week)\n",
    "\t\n",
    "\t#print(data_set)\n",
    "\treturn data_set"
   ]
  },
  {
   "cell_type": "code",
   "execution_count": 256,
   "metadata": {},
   "outputs": [],
   "source": [
    "def average_per_week(pollinator,dates):\n",
    "\tprint(dates[0],dates[1])\n",
    "\n",
    "\t#observation data for pollinators\n",
    "\tdata_set = df\n",
    "\tdata_set = clean_data(data_set)\n",
    "\tdata_set = give_time(data_set)\n",
    "\t#Test Case :1\n",
    "\t# #print(\"Test Case : \n",
    "\t#1\", \"\\n\",data_set['datetime_monday_week'])\n",
    "\t# \n",
    "\t# #find the total number of pollinators according to location number and time code\n",
    "\tif(pollinator == 'average'):\n",
    "\t\tdata_set['total_counts'] = data_set.groupby(['location_number','time_code'])['location_number'].transform('count')\n",
    "\telse:\n",
    "\t\t#print(data_set['pollinator'].unique())\n",
    "\t\tdata_set = data_set[(data_set['pollinator'] == pollinator)]\n",
    "\t\t#print(data_set)\n",
    "\t\tdata_set['total_counts'] = data_set.groupby(['location_number','time_code'])['location_number'].transform('count')\n",
    "\t\n",
    "\t#Test Case :2\n",
    "\t#print(\"Test Case : 2\", \"\\n\",data_set)\n",
    "\n",
    "\t#creating average temerapture for all plots \n",
    "\tdata_set = line_temp_plot(data_set)\n",
    "\n",
    "\n",
    "\t#getting the average pollinator mean \n",
    "\tdata_set['pol_mean'] = data_set.groupby(['datetime_monday_week'])['total_counts'].transform('mean')\n",
    "\n",
    "\t#finding the unique average air temperature by using .last()\n",
    "\tdata_set = data_set.groupby(['datetime_monday_week','pol_mean'])['avg_air_temp'].last()\n",
    "\tdata_set = data_set.reset_index(name = 'avg_temp')\n",
    "\t#print(data_set)\n",
    "\n",
    "\t#print(data_set['dates'])\n",
    "\t#print(pd.to_datetime(df['dates']))\n",
    "\t#data_set['dates'] = pd.to_datetime(df['dates'])\n",
    "\tdata_set = data_set.sort_values(by = 'datetime_monday_week')\n",
    "\tdata_set['dates'] =data_set['datetime_monday_week'].dt.strftime(\"%b %d\")\n",
    "\tdata_set['dates'] = data_set['dates'].astype('str')\n",
    "\tprint(data_set['dates'])\n",
    "\t#print(data_set.dtypes)\n",
    "\n",
    "\tdata_set['Abundance_percentage'] = turn_into_percent_difference(data_set['pol_mean'])\n",
    "\tdata_set['Temp_percentage'] = turn_into_percent_difference(data_set['avg_temp'])\n",
    "\n",
    "\tmin = dates[0]\n",
    "\t#print(min,type(min), data_set['dates'][0],type(data_set['dates'][0]))\n",
    "\t#print(min == data_set['dates'][0])\n",
    "\t#print(data_set['dates'] == min )\n",
    "\tindices_1 = data_set.index[data_set['dates'] == min].tolist()\n",
    "\tprint(indices_1)\n",
    "\t\n",
    "\tmax = dates[1]\n",
    "\t#print(max,type(max))\n",
    "\tindices_2 = data_set.index[data_set['dates'] == max].tolist()\n",
    "\tprint(indices_2)\n",
    "\t#max_index = data_set[data_set['dates'] == max].index[0]\n",
    "\t#print(max_index)\n",
    "\tprint(indices_1[0],indices_2[0])\n",
    "\tdata_set = data_set.iloc[int(indices_1[0]):int(indices_2[0])]\n",
    "\t#data_set = data_set.to_frame()\n",
    "\t#print(df2)\n",
    "\t\n",
    "\t#print(df2,'spagetti')\n",
    "\t#plotting the graph\n",
    "\n",
    "\tfig, ax = plt.subplots()\n",
    "\tax.plot(data_set['dates'], data_set['Abundance_percentage'], linewidth=3, color='#63B7B7')\n",
    "\tax.plot(data_set['dates'], data_set['Temp_percentage'], linewidth=3, color='#FF6961')\n",
    "\tplt.xticks(rotation = 60, horizontalalignment='right')\n",
    "\tax.legend(['Visitations', 'Temperature'])\n",
    "\tax.set_ylabel('Percent Difference (%)')\n",
    "\tax.set_xlabel('Week')\n",
    "\tax.set_title('Percent Difference of Average Visition Number and \\n Temperature For Each Week Between June 12 and September 11th.',\n",
    "             fontname = 'Georgia', \n",
    "             fontsize= 16, \n",
    "             pad=30)\n",
    "\tax.grid()\n",
    "\n",
    "\tplt.show()\n",
    "\n",
    "\t"
   ]
  },
  {
   "cell_type": "code",
   "execution_count": 257,
   "metadata": {},
   "outputs": [
    {
     "name": "stdout",
     "output_type": "stream",
     "text": [
      "May 23 Aug 22\n",
      "0     May 23\n",
      "1     May 30\n",
      "2     Jun 06\n",
      "3     Jun 13\n",
      "4     Jun 20\n",
      "5     Jun 27\n",
      "6     Jul 04\n",
      "7     Jul 11\n",
      "8     Jul 18\n",
      "9     Jul 25\n",
      "10    Aug 01\n",
      "11    Aug 08\n",
      "12    Aug 15\n",
      "13    Aug 22\n",
      "14    Aug 29\n",
      "15    Sep 05\n",
      "16    Sep 12\n",
      "Name: dates, dtype: object\n",
      "[0]\n",
      "[13]\n",
      "0 13\n"
     ]
    },
    {
     "name": "stderr",
     "output_type": "stream",
     "text": [
      "C:\\Users\\lizzy\\AppData\\Local\\Temp/ipykernel_4776/2508569428.py:5: FutureWarning: Series.dt.weekofyear and Series.dt.week have been deprecated.  Please use Series.dt.isocalendar().week instead.\n",
      "  df['Week'] = df['sample_date'].dt.week -20\n"
     ]
    },
    {
     "data": {
      "image/png": "[encoded data removed]",
      "text/plain": [
       "<Figure size 432x288 with 1 Axes>"
      ]
     },
     "metadata": {
      "needs_background": "light"
     },
     "output_type": "display_data"
    }
   ],
   "source": [
    "#print(df)\n",
    "average_per_week('Bumble',['May 23','Aug 22'])"
   ]
  },
  {
   "cell_type": "markdown",
   "metadata": {},
   "source": [
    "Starting the building of a dashboard\n",
    "import the necessary libraries"
   ]
  },
  {
   "cell_type": "code",
   "execution_count": 258,
   "metadata": {},
   "outputs": [],
   "source": [
    "\n",
    "import plotly.express as px\n",
    "\n",
    "import ipywidgets as widgets\n",
    "\n",
    "import calendar\n",
    "\n",
    "#from ipywidgets import interact\n",
    "#%matplotlib widget\n",
    "import seaborn as sb"
   ]
  },
  {
   "cell_type": "markdown",
   "metadata": {},
   "source": [
    "Create the dashboard data filter parameters"
   ]
  },
  {
   "cell_type": "code",
   "execution_count": 220,
   "metadata": {},
   "outputs": [
    {
     "name": "stdout",
     "output_type": "stream",
     "text": [
      "['average' 'Honey' 'Sweat' 'Hover Fly' 'Bumble' 'Fly' 'Beetle' 'Wasp'\n",
      " 'Leaf Cutter' 'Butterfly']\n",
      "SelectionRangeSlider(description='weeks', index=(0, 23), options=('May 20', 'May 24', 'Jun 01', 'Jun 07', 'Jun 08', 'Jun 17', 'Jun 24', 'Jun 27', 'Jun 29', 'Jul 08', 'Jul 07', 'Jul 14', 'Jul 15', 'Jul 22', 'Jul 29', 'Aug 05', 'Aug 12', 'Aug 11', 'Aug 19', 'Aug 22', 'Sep 02', 'Aug 31', 'Sep 08', 'Sep 13'), value=('May 20', 'Sep 13'))\n"
     ]
    },
    {
     "name": "stderr",
     "output_type": "stream",
     "text": [
      "C:\\Users\\lizzy\\AppData\\Local\\Temp/ipykernel_4776/2508569428.py:5: FutureWarning: Series.dt.weekofyear and Series.dt.week have been deprecated.  Please use Series.dt.isocalendar().week instead.\n",
      "  df['Week'] = df['sample_date'].dt.week -20\n"
     ]
    },
    {
     "data": {
      "application/vnd.jupyter.widget-view+json": {
       "model_id": "ddd63395f3eb411fbbd2808bbd113961",
       "version_major": 2,
       "version_minor": 0
      },
      "text/plain": [
       "HBox(children=(Dropdown(description='type of pollinator', options=('average', 'Honey', 'Sweat', 'Hover Fly', '…"
      ]
     },
     "metadata": {},
     "output_type": "display_data"
    },
    {
     "data": {
      "application/vnd.jupyter.widget-view+json": {
       "model_id": "e93581f2b79c4e0eb1d3789b7aab3392",
       "version_major": 2,
       "version_minor": 0
      },
      "text/plain": [
       "Output()"
      ]
     },
     "metadata": {},
     "output_type": "display_data"
    }
   ],
   "source": [
    "#using ipywidgets\n",
    "#data_set, request\n",
    "df = clean_data(df)\n",
    "df = give_time(df)\n",
    "\n",
    "\n",
    "#create information for slider\n",
    "#adding widget for sliding months to get specific range of month\n",
    "df = df.sort_values(by = 'datetime_monday_week')\n",
    "df['dates'] =df['sample_date'].dt.strftime(\"%b %d\")\n",
    "months = df['dates'].unique()\n",
    "\n",
    "requests = df['pollinator'].unique()\n",
    "requests = np.append('average',requests)\n",
    "print(requests)\n",
    "\n",
    "#dropdown 1\n",
    "dd1 = widgets.Dropdown(options = requests,description = 'type of pollinator')\n",
    "\n",
    "#adding sliding tool\n",
    "#create slider for the informtion \n",
    "slider = widgets.SelectionRangeSlider(\n",
    "    options = months,\n",
    "    index =(0, len(months)-1),\n",
    "    description = 'weeks',\n",
    "    disabled = False\n",
    ")\n",
    "print(slider)\n",
    "ui = widgets.HBox([dd1,slider])\n",
    "out = widgets.interactive_output(average_per_week, {'pollinator': dd1,'dates' :slider})\n",
    "display(ui, out)\n",
    "\n",
    "\n"
   ]
  },
  {
   "cell_type": "code",
   "execution_count": null,
   "metadata": {},
   "outputs": [],
   "source": []
  }
 ],
 "metadata": {
  "kernelspec": {
   "display_name": "Python 3 (ipykernel)",
   "language": "python",
   "name": "python3"
  },
  "language_info": {
   "codemirror_mode": {
    "name": "ipython",
    "version": 3
   },
   "file_extension": ".py",
   "mimetype": "text/x-python",
   "name": "python",
   "nbconvert_exporter": "python",
   "pygments_lexer": "ipython3",
   "version": "3.10.10"
  }
 },
 "nbformat": 4,
 "nbformat_minor": 2
}
