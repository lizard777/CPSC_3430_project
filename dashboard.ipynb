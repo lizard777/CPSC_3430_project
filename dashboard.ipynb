{
 "cells": [
  {
   "attachments": {},
   "cell_type": "markdown",
   "metadata": {},
   "source": [
    "Dashboard building with temperature and abudannce of specific pollinators"
   ]
  },
  {
   "attachments": {},
   "cell_type": "markdown",
   "metadata": {},
   "source": [
    "import the necessary libraries"
   ]
  },
  {
   "cell_type": "code",
   "execution_count": 19,
   "metadata": {},
   "outputs": [],
   "source": [
    "import pandas as pd\n",
    "import matplotlib.pyplot as plt\n",
    "import numpy as np"
   ]
  },
  {
   "attachments": {},
   "cell_type": "markdown",
   "metadata": {},
   "source": [
    "Import Data"
   ]
  },
  {
   "cell_type": "code",
   "execution_count": 20,
   "metadata": {},
   "outputs": [],
   "source": [
    "x = \"pollinator_count_data-final.csv\"\n",
    "y = pd.read_csv(\"plant_on_campus_frequency.csv\", sep = ',')"
   ]
  },
  {
   "attachments": {},
   "cell_type": "markdown",
   "metadata": {},
   "source": [
    "Clean up the imported data"
   ]
  },
  {
   "cell_type": "code",
   "execution_count": 128,
   "metadata": {},
   "outputs": [],
   "source": [
    "#want to convert acronyms to full names \n",
    "#(hoverfly, honeybee, bumblebee, sweatbee, wasp, leafcutter, fly, beatle, butterfly)\n",
    "\n",
    "def clean_data(df):\n",
    "\n",
    "    #setting to print all the rows \n",
    "    pd.set_option('display.max_rows', None)\n",
    "\n",
    "    #plants on campus data \n",
    "    df_frequency = pd.read_csv(\"plant_on_campus_frequency.csv\",sep = ',')\n",
    "\n",
    "    #convert european carder bee ( ECB), mason bee and carpenter bee to the leafcutter bee group (LF)\n",
    "    df['pollinator'] = df['pollinator'].replace(['ECB','MB','CB'],'LB')\n",
    "    #convert No information (NI) and unidentified bee (UB) to the Other pollinator group (OP)\n",
    "    df['pollinator'] = df['pollinator'].replace(['NI','UB'],'OP')\n",
    "\n",
    "    #replacing values within dataframe to favored/changed names exp. Bumble\n",
    "    df['pollinator'] = df['pollinator'].replace(['BUT'],'Butterfly')\n",
    "    df['pollinator'] = df['pollinator'].replace(['W'],'Wasp')\n",
    "    df['pollinator'] = df['pollinator'].replace(['HF'],'Hover Fly')\n",
    "    df['pollinator'] = df['pollinator'].replace(['BVO','BS','BMI','BME','BU','BI','BFL','BF','BB'],'Bumble')\n",
    "    df['pollinator'] = df['pollinator'].replace(['SB'],'Sweat')\n",
    "    df['pollinator'] = df['pollinator'].replace(['HB'],'Honey')\n",
    "    df['pollinator'] = df['pollinator'].replace(['LB'],'Leaf Cutter')\n",
    "\n",
    "\n",
    "\n",
    "    #using where statement to seperate OP to beetles and flies \n",
    "\n",
    "    # beetle \n",
    "    df['pollinator'] = np.where((df['pollinator'] == 'OP') & (df['insect_order'] == 'coleoptera'), 'Beetle', df['pollinator'])\n",
    "    #print(df['pollinator'])\n",
    "\n",
    "    # flies \n",
    "    df['pollinator'] =  np.where((df['pollinator'] == 'OP') & (df['insect_order'] == 'diptera'),'Fly',df['pollinator'] )\n",
    "    #print(df[['pollinator','insect_order']])\n",
    "\n",
    "    #droping all other pollinator from the data because not interested in other pollinators in data analysis\n",
    "    df = df.drop(df[df['pollinator'] == 'OP'].index)\n",
    "    #print(df[['pollinator','insect_order']])\n",
    "\n",
    "    return df"
   ]
  },
  {
   "cell_type": "code",
   "execution_count": 22,
   "metadata": {},
   "outputs": [
    {
     "name": "stdout",
     "output_type": "stream",
     "text": [
      "The individual pollinator count: \n",
      " pollinator\n",
      "Beetle          14\n",
      "Bumble         602\n",
      "Butterfly       17\n",
      "Fly             41\n",
      "Honey          581\n",
      "Hover Fly      304\n",
      "Leaf Cutter     29\n",
      "Sweat          267\n",
      "Wasp            48\n",
      "Name: pollinator, dtype: int64\n",
      "The # of total pollinators: \n",
      " 1903\n",
      "Percentage of pollinator distribution count: \n",
      " pollinator\n",
      "Beetle          0.735681\n",
      "Bumble         31.634262\n",
      "Butterfly       0.893326\n",
      "Fly             2.154493\n",
      "Honey          30.530741\n",
      "Hover Fly      15.974777\n",
      "Leaf Cutter     1.523910\n",
      "Sweat          14.030478\n",
      "Wasp            2.522333\n",
      "Name: pollinator, dtype: float64\n"
     ]
    }
   ],
   "source": [
    "\n",
    "#find the count of pollinator groups in the csv and return a percentage\n",
    "pol_count = df.groupby(['pollinator'])['pollinator'].count()\n",
    "print('The individual pollinator count: \\n', pol_count)\n",
    "print('The # of total pollinators: \\n', len(df))\n",
    "print('Percentage of pollinator distribution count: \\n',(pol_count/len(df))*100)"
   ]
  },
  {
   "attachments": {},
   "cell_type": "markdown",
   "metadata": {},
   "source": [
    "Adding in data regarding the date into seperate columns"
   ]
  },
  {
   "cell_type": "code",
   "execution_count": 129,
   "metadata": {},
   "outputs": [],
   "source": [
    "def give_time(df):\n",
    "\n",
    "    df['sample_date'] = pd.to_datetime(df['sample_date'])\n",
    "    df['month'] = df['sample_date'].dt.month\n",
    "    df['Week'] = df['sample_date'].dt.week -20\n",
    "    df['day_of_year'] = df['sample_date'].dt.dayofweek\n",
    "\n",
    "    #Get a column of the start of the week of all datetime objects\n",
    "    df['datetime_monday_week'] = df['sample_date'].dt.to_period('W').dt.start_time\n",
    "    return df\n",
    "\t\n"
   ]
  },
  {
   "attachments": {},
   "cell_type": "markdown",
   "metadata": {},
   "source": [
    "Define a function which would give the average temperature "
   ]
  },
  {
   "cell_type": "code",
   "execution_count": 130,
   "metadata": {},
   "outputs": [],
   "source": [
    "def line_temp_plot(data_set):\n",
    "\t\n",
    "\t#TEST to find missing temperatures in data \n",
    "\t#Result : found missing time data for C0: E and C10: A --> both have no data for count in pollinator\n",
    "\t#must hardcode into data as no pollinator \n",
    "\tcount_test = data_set.groupby(['location_number','time_code'])['location_number'].count()\n",
    "\tcount_test = count_test.reset_index(name='counts')\n",
    "\t#print(count_test)\n",
    "\n",
    "\t#results \n",
    "\t# week = 20 , air_temp = 15, time_code = 'E', location_number = 'CO', counts = 0\n",
    "\t# week = 35 , air_temp = 23, time_code = 'A', location_number = 'C10', counts = 0\n",
    "\t#print(data_set.columns)\n",
    "\tnum_plot_week = data_set.groupby(['Week','air_temp','time_code','location_number'])['air_temp'].count()\n",
    "\tnum_plot_week = num_plot_week.reset_index(name = 'counts')\n",
    "\tpd.set_option('display.max_rows', None)\n",
    "\t\n",
    "\tnum_plot_week.loc[len(num_plot_week)] = [20,15,'E','C0',0]\n",
    "\tnum_plot_week.loc[len(num_plot_week)] = [35,23,'A','C10',0]\n",
    "\t#print('test_run','\\n',num_plot_week)\n",
    "\n",
    "\n",
    "\tnum_plot_week = num_plot_week.groupby(['Week'])['air_temp'].mean()\n",
    "\tnum_plot_week = num_plot_week.reset_index(name = 'avg_air_temp')\n",
    "\tdata_set = pd.merge(data_set, num_plot_week)\n",
    "\t\n",
    "\t#print(data_set)\n",
    "\treturn data_set"
   ]
  },
  {
   "cell_type": "code",
   "execution_count": 131,
   "metadata": {},
   "outputs": [],
   "source": [
    "\n",
    "\n",
    "def average_per_week(request):\n",
    "\t#observation data for pollinators\n",
    "\tdata_set = pd.read_csv(x,sep = ',')\n",
    "\tdata_set = clean_data(data_set)\n",
    "\tdata_set = give_time(data_set)\n",
    "\t#Test Case :1\n",
    "\t# #print(\"Test Case : \n",
    "\t#1\", \"\\n\",data_set['datetime_monday_week'])\n",
    "\t# \n",
    "\t# #find the total number of pollinators according to location number and time code\n",
    "\tif(request == 'average'):\n",
    "\t\tdata_set['total_counts'] = data_set.groupby(['location_number','time_code'])['location_number'].transform('count')\n",
    "\telse:\n",
    "\t\t#print(data_set['pollinator'].unique())\n",
    "\t\tdata_set = data_set[(data_set['pollinator'] == request)]\n",
    "\t\t#print(data_set)\n",
    "\t\tdata_set['total_counts'] = data_set.groupby(['location_number','time_code'])['location_number'].transform('count')\n",
    "\t\n",
    "\t#Test Case :2\n",
    "\t#print(\"Test Case : 2\", \"\\n\",data_set)\n",
    "\n",
    "\t#creating average temerapture for all plots \n",
    "\tdata_set = line_temp_plot(data_set)\n",
    "\n",
    "\t#getting the average pollinator mean \n",
    "\tdata_set['pol_mean'] = data_set.groupby(['datetime_monday_week'])['total_counts'].transform('mean')\n",
    "\n",
    "\t#finding the unique average air temperature by using .last()\n",
    "\tdata_set = data_set.groupby(['datetime_monday_week','pol_mean'])['avg_air_temp'].last()\n",
    "\tdata_set = data_set.reset_index(name = 'avg_temp')\n",
    "\t#print(data_set)\n",
    "\n",
    "\t#test if statistically significant with linear regression \n",
    "\t#significant = scatter( data_set['avg_temp'], data_set['pol_mean'])\n",
    "\n",
    "\t#plotting the graph\n",
    "\n",
    "\tfig, ax1 = plt.subplots(figsize=(10, 8))\n",
    "\n",
    "\tax1.plot(data_set['datetime_monday_week'], data_set['pol_mean'], color = 'red')\n",
    "\tax2 = ax1.twinx()\n",
    "\tax2.plot(data_set['datetime_monday_week'],data_set['avg_temp'], color = 'blue')\n",
    "\n",
    "\t#changing the scale of the x axis of the graph\n",
    "\t#ax1.set_yticks(np.linspace(5, 95, 10))\n",
    "\t#ax1.set_ylim(5,95)\n",
    "\t#ax2.set_yticks(np.linspace(12, 30, 10))\n",
    "\t\n",
    "\t#ax2.legend(loc=0)\n",
    "\t#plt.legend(bbox_to_anchor = (0.75, 1.15), ncol = 2)\n",
    "\n",
    "\tax2.set_ylim(ax1.get_ylim())\n",
    "\tax2.grid(True)\n",
    "\n",
    "\tax1.set_xlabel('Week', fontsize = 17)\n",
    "\t\n",
    "\tax1.set_ylabel('Pollinator Average Count', fontsize = 17)\n",
    "\tax1.tick_params(axis = \"y\", labelcolor = 'red', labelsize = 15)\n",
    "\tax1.tick_params(axis = 'x',labelsize = 15 )\n",
    "\tax1.xaxis.grid()\n",
    "\tax1.yaxis.grid()\n",
    "\n",
    "\tax2.set_ylabel(\"Average Air Temp (C°)\", fontsize = 17)\n",
    "\tax2.tick_params(axis = 'y', labelcolor = 'blue',labelsize = 15)\n",
    "\n",
    "\t#ax1.legend(loc='best', fontsize = '80')\n",
    "\n",
    "\tfig.suptitle('Average Pollinator Count and Temperature Across 14 Weeks', fontsize = 20)\n",
    "\tfig.autofmt_xdate()\n",
    "\n",
    "\t\n",
    "\tplt.savefig('pollinator_avg_week.png',dpi = 500)\n",
    "\n",
    "\tplt.show()"
   ]
  },
  {
   "cell_type": "code",
   "execution_count": 132,
   "metadata": {},
   "outputs": [
    {
     "name": "stderr",
     "output_type": "stream",
     "text": [
      "C:\\Users\\lizzy\\AppData\\Local\\Temp/ipykernel_4744/3405447219.py:5: FutureWarning: Series.dt.weekofyear and Series.dt.week have been deprecated.  Please use Series.dt.isocalendar().week instead.\n",
      "  df['Week'] = df['sample_date'].dt.week -20\n"
     ]
    },
    {
     "data": {
      "image/png": "[encoded data removed]",
      "text/plain": [
       "<Figure size 720x576 with 2 Axes>"
      ]
     },
     "metadata": {
      "needs_background": "light"
     },
     "output_type": "display_data"
    }
   ],
   "source": [
    "#print(df)\n",
    "average_per_week('Bumble')"
   ]
  },
  {
   "attachments": {},
   "cell_type": "markdown",
   "metadata": {},
   "source": [
    "Starting the building of a dashboard\n",
    "import the necessary libraries"
   ]
  },
  {
   "cell_type": "code",
   "execution_count": 133,
   "metadata": {},
   "outputs": [],
   "source": [
    "\n",
    "import plotly.express as px\n",
    "\n",
    "import ipywidgets as widgets\n",
    "\n",
    "#from ipywidgets import interact\n",
    "#%matplotlib widget\n",
    "import seaborn as sb"
   ]
  },
  {
   "attachments": {},
   "cell_type": "markdown",
   "metadata": {},
   "source": [
    "Create the dashboard data filter parameters"
   ]
  },
  {
   "cell_type": "code",
   "execution_count": 134,
   "metadata": {},
   "outputs": [
    {
     "data": {
      "application/vnd.jupyter.widget-view+json": {
       "model_id": "da0a4154c4a54280aec5a829cb945b95",
       "version_major": 2,
       "version_minor": 0
      },
      "text/plain": [
       "interactive(children=(Dropdown(description='request', options=('Bumble', 'Butterfly', 'Honey', 'Hover Fly', 'L…"
      ]
     },
     "metadata": {},
     "output_type": "display_data"
    },
    {
     "data": {
      "text/plain": [
       "<function __main__.average_per_week(request)>"
      ]
     },
     "execution_count": 134,
     "metadata": {},
     "output_type": "execute_result"
    }
   ],
   "source": [
    "#using ipywidgets\n",
    "#data_set, request\n",
    "widgets.interact(average_per_week,request = df['pollinator'].unique())"
   ]
  }
 ],
 "metadata": {
  "kernelspec": {
   "display_name": "base",
   "language": "python",
   "name": "python3"
  },
  "language_info": {
   "codemirror_mode": {
    "name": "ipython",
    "version": 3
   },
   "file_extension": ".py",
   "mimetype": "text/x-python",
   "name": "python",
   "nbconvert_exporter": "python",
   "pygments_lexer": "ipython3",
   "version": "3.9.7"
  },
  "orig_nbformat": 4
 },
 "nbformat": 4,
 "nbformat_minor": 2
}
